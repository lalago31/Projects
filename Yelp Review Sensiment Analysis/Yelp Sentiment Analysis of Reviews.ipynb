{
 "cells": [
  {
   "cell_type": "markdown",
   "metadata": {},
   "source": [
    "## Summary:\n",
    "1. Applied stopword removal function to clean up the text review data(remove the punctuations, digits and stopwords)\n",
    "2. Used TF-IDF vectorizer to transform the text data into feature vectors\n",
    "3. Built Multinomial Naive Bayes, Logistic Regression, Random Forest and Neural Network models to predict the positive/negative sentiment based on users' text reviews\n",
    "4. Model evaluation: Logistic Regression and Neural Network yield almost the same highest accuracy; surprisingly Multinomial Naive Bayes has the second highest accuracy and is super fast to train."
   ]
  },
  {
   "cell_type": "code",
   "execution_count": 1,
   "metadata": {
    "collapsed": true
   },
   "outputs": [],
   "source": [
    "import pandas as pd\n",
    "import numpy as np \n",
    "import matplotlib.pyplot as plt\n",
    "%matplotlib inline\n",
    "import seaborn as sns\n",
    "import nltk\n",
    "import string\n",
    "from nltk.corpus import stopwords\n",
    "import re"
   ]
  },
  {
   "cell_type": "code",
   "execution_count": 6,
   "metadata": {
    "collapsed": true
   },
   "outputs": [],
   "source": [
    "df=pd.read_csv('business_user_review_2017.csv')"
   ]
  },
  {
   "cell_type": "code",
   "execution_count": 26,
   "metadata": {
    "collapsed": true
   },
   "outputs": [],
   "source": [
    "review=df.loc[df['date']>='2017-07-01',['text','pos_neg']].copy()"
   ]
  },
  {
   "cell_type": "code",
   "execution_count": 27,
   "metadata": {},
   "outputs": [],
   "source": [
    "review=review.dropna()"
   ]
  },
  {
   "cell_type": "code",
   "execution_count": 28,
   "metadata": {},
   "outputs": [
    {
     "data": {
      "text/plain": [
       "text       0\n",
       "pos_neg    0\n",
       "dtype: int64"
      ]
     },
     "execution_count": 28,
     "metadata": {},
     "output_type": "execute_result"
    }
   ],
   "source": [
    "review.isnull().sum()"
   ]
  },
  {
   "cell_type": "code",
   "execution_count": 33,
   "metadata": {
    "collapsed": true
   },
   "outputs": [],
   "source": [
    "def remove_stopwords (text):\n",
    "    i = nltk.corpus.stopwords.words('english')\n",
    "# punctuations to remove\n",
    "    j = list(string.punctuation)\n",
    "# string for facial expressions to remove\n",
    "    #emoticons= re.findall('(?::|;|=)(?:-)?(?:\\)|\\(|D|P)',text)\n",
    "# combine all stopwords\n",
    "    stopwords = set(i).union(j).union(('thiswas','thisis','wasgood','isbad','wasbad','isgood','theres','there','order','restaurant','one','got','place'))\n",
    "# clean up some special strings from web (numbers, non-character values)\n",
    "    text= re.sub('<[^>]*>','',text)\n",
    "    text= re.sub('[\\d]+','',text)\n",
    "    text= re.sub('[\\W]+',' ',text.lower())\n",
    "    text = [w for w in text.split() if w not in set(stopwords)] \n",
    "    return ' '.join(text)"
   ]
  },
  {
   "cell_type": "code",
   "execution_count": 11,
   "metadata": {},
   "outputs": [
    {
     "data": {
      "text/plain": [
       "'like nice go'"
      ]
     },
     "execution_count": 11,
     "metadata": {},
     "output_type": "execute_result"
    }
   ],
   "source": [
    "#test\n",
    "text=':)I like this place.its very nice!:)thiswas the place I go 100%'\n",
    "remove_stopwords(text)"
   ]
  },
  {
   "cell_type": "code",
   "execution_count": 38,
   "metadata": {},
   "outputs": [
    {
     "data": {
      "text/plain": [
       "\"Been here several times. This is definitely our go to place in Vegas. Awesome service! Steaks are the best I've had. We like to try different places but we always have to go to Delmonico while in Vegas.\""
      ]
     },
     "execution_count": 38,
     "metadata": {},
     "output_type": "execute_result"
    }
   ],
   "source": [
    "#example of a review in original text\n",
    "review.iloc[55,0]"
   ]
  },
  {
   "cell_type": "code",
   "execution_count": 39,
   "metadata": {},
   "outputs": [
    {
     "data": {
      "text/plain": [
       "'several times definitely go vegas awesome service steaks best like try different places always go delmonico vegas'"
      ]
     },
     "execution_count": 39,
     "metadata": {},
     "output_type": "execute_result"
    }
   ],
   "source": [
    "review['text_clean']=review['text'].apply(remove_stopwords)\n",
    "#check how the function works on a single review text\n",
    "review.iloc[55,2]"
   ]
  },
  {
   "cell_type": "code",
   "execution_count": 40,
   "metadata": {},
   "outputs": [
    {
     "data": {
      "text/html": [
       "<div>\n",
       "<style>\n",
       "    .dataframe thead tr:only-child th {\n",
       "        text-align: right;\n",
       "    }\n",
       "\n",
       "    .dataframe thead th {\n",
       "        text-align: left;\n",
       "    }\n",
       "\n",
       "    .dataframe tbody tr th {\n",
       "        vertical-align: top;\n",
       "    }\n",
       "</style>\n",
       "<table border=\"1\" class=\"dataframe\">\n",
       "  <thead>\n",
       "    <tr style=\"text-align: right;\">\n",
       "      <th></th>\n",
       "      <th>text</th>\n",
       "      <th>pos_neg</th>\n",
       "      <th>text_clean</th>\n",
       "    </tr>\n",
       "  </thead>\n",
       "  <tbody>\n",
       "    <tr>\n",
       "      <th>--6MefnULPED_I942VcFNA</th>\n",
       "      <td>This is one of my top 3 places to get BBQ pork...</td>\n",
       "      <td>1</td>\n",
       "      <td>top places get bbq pork char siu cheapest opti...</td>\n",
       "    </tr>\n",
       "    <tr>\n",
       "      <th>--6MefnULPED_I942VcFNA</th>\n",
       "      <td>I walked by the restaurant more than 5 years a...</td>\n",
       "      <td>0</td>\n",
       "      <td>walked years ago witnessed window employees dr...</td>\n",
       "    </tr>\n",
       "    <tr>\n",
       "      <th>--6MefnULPED_I942VcFNA</th>\n",
       "      <td>Thanks to the grumpy ass old lady for telling ...</td>\n",
       "      <td>0</td>\n",
       "      <td>thanks grumpy ass old lady telling like pieces...</td>\n",
       "    </tr>\n",
       "    <tr>\n",
       "      <th>--6MefnULPED_I942VcFNA</th>\n",
       "      <td>After years of going to Lung Tung BBQ, and bei...</td>\n",
       "      <td>1</td>\n",
       "      <td>years going lung tung bbq disappointed uneven ...</td>\n",
       "    </tr>\n",
       "    <tr>\n",
       "      <th>--6MefnULPED_I942VcFNA</th>\n",
       "      <td>Of the 6 Cantonese BBQ places I have tried in ...</td>\n",
       "      <td>1</td>\n",
       "      <td>cantonese bbq places tried gta far best wants ...</td>\n",
       "    </tr>\n",
       "  </tbody>\n",
       "</table>\n",
       "</div>"
      ],
      "text/plain": [
       "                                                                     text  \\\n",
       "--6MefnULPED_I942VcFNA  This is one of my top 3 places to get BBQ pork...   \n",
       "--6MefnULPED_I942VcFNA  I walked by the restaurant more than 5 years a...   \n",
       "--6MefnULPED_I942VcFNA  Thanks to the grumpy ass old lady for telling ...   \n",
       "--6MefnULPED_I942VcFNA  After years of going to Lung Tung BBQ, and bei...   \n",
       "--6MefnULPED_I942VcFNA  Of the 6 Cantonese BBQ places I have tried in ...   \n",
       "\n",
       "                        pos_neg  \\\n",
       "--6MefnULPED_I942VcFNA        1   \n",
       "--6MefnULPED_I942VcFNA        0   \n",
       "--6MefnULPED_I942VcFNA        0   \n",
       "--6MefnULPED_I942VcFNA        1   \n",
       "--6MefnULPED_I942VcFNA        1   \n",
       "\n",
       "                                                               text_clean  \n",
       "--6MefnULPED_I942VcFNA  top places get bbq pork char siu cheapest opti...  \n",
       "--6MefnULPED_I942VcFNA  walked years ago witnessed window employees dr...  \n",
       "--6MefnULPED_I942VcFNA  thanks grumpy ass old lady telling like pieces...  \n",
       "--6MefnULPED_I942VcFNA  years going lung tung bbq disappointed uneven ...  \n",
       "--6MefnULPED_I942VcFNA  cantonese bbq places tried gta far best wants ...  "
      ]
     },
     "execution_count": 40,
     "metadata": {},
     "output_type": "execute_result"
    }
   ],
   "source": [
    "review.head()"
   ]
  },
  {
   "cell_type": "code",
   "execution_count": 41,
   "metadata": {
    "collapsed": true
   },
   "outputs": [],
   "source": [
    "from sklearn.model_selection import GridSearchCV\n",
    "from sklearn.pipeline import Pipeline\n",
    "from sklearn.linear_model import LogisticRegression\n",
    "from sklearn.feature_extraction.text import TfidfVectorizer\n",
    "from sklearn.naive_bayes import MultinomialNB\n",
    "from sklearn.ensemble import RandomForestClassifier"
   ]
  },
  {
   "cell_type": "code",
   "execution_count": 42,
   "metadata": {},
   "outputs": [],
   "source": [
    "from sklearn.model_selection import train_test_split\n",
    "x_train, x_test, y_train, y_test = \\\n",
    "train_test_split(review['text_clean'], review['pos_neg'], random_state = 1, test_size=0.3)"
   ]
  },
  {
   "cell_type": "markdown",
   "metadata": {},
   "source": [
    "### 1.0 Apply TF-IDF Vectorizer to transform the text reviews to feature vectors"
   ]
  },
  {
   "cell_type": "code",
   "execution_count": 49,
   "metadata": {},
   "outputs": [],
   "source": [
    "tfidfvct=TfidfVectorizer(analyzer = 'word',ngram_range=(1,1),max_features=20000)\n",
    "#fit_transform training text\n",
    "train_matrix=tfidfvct.fit_transform(x_train)\n",
    "#transform test text\n",
    "test_matrix=tfidfvct.transform(x_test)"
   ]
  },
  {
   "cell_type": "code",
   "execution_count": 50,
   "metadata": {},
   "outputs": [
    {
     "data": {
      "text/plain": [
       "(384738, 20000)"
      ]
     },
     "execution_count": 50,
     "metadata": {},
     "output_type": "execute_result"
    }
   ],
   "source": [
    "train_matrix.shape"
   ]
  },
  {
   "cell_type": "code",
   "execution_count": 51,
   "metadata": {
    "collapsed": true
   },
   "outputs": [],
   "source": [
    "words = tfidfvct.get_feature_names()"
   ]
  },
  {
   "cell_type": "markdown",
   "metadata": {},
   "source": [
    "### 2.0 Fit different algrithms to predict the sentiment(positive/negative) based on the reviews"
   ]
  },
  {
   "cell_type": "markdown",
   "metadata": {},
   "source": [
    "### 2.1 Multinomial Naive Bayes Classifier\n",
    "> Usually this model works well when data size is small and it assumes independence between words. Obviously it's not the case here. But it can serve as a baseline model"
   ]
  },
  {
   "cell_type": "code",
   "execution_count": 54,
   "metadata": {},
   "outputs": [
    {
     "data": {
      "text/plain": [
       "MultinomialNB(alpha=1.0, class_prior=None, fit_prior=True)"
      ]
     },
     "execution_count": 54,
     "metadata": {},
     "output_type": "execute_result"
    }
   ],
   "source": [
    "#from sklearn.naive_bayes import MultinomialNB\n",
    "clf_NB = MultinomialNB()\n",
    "clf_NB.fit(train_matrix, y_train)"
   ]
  },
  {
   "cell_type": "code",
   "execution_count": 66,
   "metadata": {
    "collapsed": true
   },
   "outputs": [],
   "source": [
    "NB_pred=clf_NB.predict(test_matrix)\n",
    "NB_prob=clf_NB.predict_proba(test_matrix)[:,1]"
   ]
  },
  {
   "cell_type": "code",
   "execution_count": 56,
   "metadata": {},
   "outputs": [
    {
     "name": "stdout",
     "output_type": "stream",
     "text": [
      "The MultinomialNB accuracy score for train data set is 0.887006, for test data set is: 0.884018\n"
     ]
    }
   ],
   "source": [
    "print('The MultinomialNB accuracy score for train data set is %f, for test data set is: %f' % \\\n",
    "     (clf_NB.score(train_matrix, y_train), clf_NB.score(test_matrix, y_test)))"
   ]
  },
  {
   "cell_type": "markdown",
   "metadata": {},
   "source": [
    "#### * Helper function to print metric scores "
   ]
  },
  {
   "cell_type": "code",
   "execution_count": 62,
   "metadata": {
    "collapsed": true
   },
   "outputs": [],
   "source": [
    "from sklearn.metrics import precision_score, accuracy_score, recall_score, f1_score, roc_auc_score\n",
    "   \n",
    "def get_performance_metrics(y_test, y_test_pred, threshold=0.5):\n",
    "    metric_names = ['AUC','Accuracy','Precision','Recall','f1-score']\n",
    "   \n",
    "    metric_values_test = [roc_auc_score(y_test, y_test_pred),\n",
    "                    accuracy_score(y_test, y_test_pred>threshold),\n",
    "                    precision_score(y_test, y_test_pred>threshold),\n",
    "                    recall_score(y_test, y_test_pred>threshold),\n",
    "                    f1_score(y_test, y_test_pred>threshold)\n",
    "                   ]\n",
    "    all_metrics = pd.DataFrame({'metrics':metric_names,\n",
    "                                \n",
    "                                'test':metric_values_test},columns=['metrics','test']).set_index('metrics')\n",
    "    print(all_metrics)"
   ]
  },
  {
   "cell_type": "code",
   "execution_count": 63,
   "metadata": {},
   "outputs": [
    {
     "name": "stdout",
     "output_type": "stream",
     "text": [
      "               test\n",
      "metrics            \n",
      "AUC        0.840148\n",
      "Accuracy   0.884018\n",
      "Precision  0.877934\n",
      "Recall     0.962973\n",
      "f1-score   0.918489\n"
     ]
    }
   ],
   "source": [
    "get_performance_metrics(y_test, NB_pred, threshold=0.5)"
   ]
  },
  {
   "cell_type": "markdown",
   "metadata": {},
   "source": [
    "#### * Helper function for ROC curve"
   ]
  },
  {
   "cell_type": "code",
   "execution_count": 94,
   "metadata": {
    "collapsed": true
   },
   "outputs": [],
   "source": [
    "from sklearn.metrics import roc_curve, auc\n",
    "\n",
    "def plot_roc_curve(y_test, y_test_prob,model):\n",
    "    \n",
    "    roc_auc_test = roc_auc_score(y_test, y_test_prob)\n",
    "    fpr_test, tpr_test, _ = roc_curve(y_test, y_test_prob)\n",
    "    plt.figure()\n",
    "    lw = 2\n",
    "    plt.plot(fpr_test, tpr_test, color='darkorange',\n",
    "             lw=lw, label='ROC Test (AUC = %0.4f)' % roc_auc_test)\n",
    "    plt.plot([0, 1], [0, 1], color='navy', lw=lw, linestyle='--')\n",
    "    plt.xlim([0.0, 1.0])\n",
    "    plt.ylim([0.0, 1.05])\n",
    "    plt.xlabel('False Positive Rate')\n",
    "    plt.ylabel('True Positive Rate')\n",
    "    plt.title('Receiver operating characteristic for '+model)\n",
    "    plt.legend(loc=\"lower right\")\n",
    "    plt.show()"
   ]
  },
  {
   "cell_type": "code",
   "execution_count": 76,
   "metadata": {},
   "outputs": [
    {
     "data": {
      "image/png": "[encoded data removed]",
      "text/plain": [
       "<matplotlib.figure.Figure at 0x11c752080>"
      ]
     },
     "metadata": {},
     "output_type": "display_data"
    }
   ],
   "source": [
    "plot_roc_curve(y_test, NB_pred,'Naive Bayes') ## baseline model is not bad at all"
   ]
  },
  {
   "cell_type": "markdown",
   "metadata": {},
   "source": [
    "### 2.2 Logistic Regression Classifier\n",
    "> Great for binary Classification problem. relatively fast to train"
   ]
  },
  {
   "cell_type": "code",
   "execution_count": 57,
   "metadata": {},
   "outputs": [
    {
     "name": "stderr",
     "output_type": "stream",
     "text": [
      "/Users/xueyiwen/anaconda/lib/python3.6/site-packages/sklearn/linear_model/logistic.py:1228: UserWarning: 'n_jobs' > 1 does not have any effect when 'solver' is set to 'liblinear'. Got 'n_jobs' = -1.\n",
      "  \" = {}.\".format(self.n_jobs))\n"
     ]
    },
    {
     "name": "stdout",
     "output_type": "stream",
     "text": [
      "[LibLinear]"
     ]
    },
    {
     "data": {
      "text/plain": [
       "LogisticRegression(C=10, class_weight=None, dual=False, fit_intercept=True,\n",
       "          intercept_scaling=1, max_iter=100, multi_class='ovr', n_jobs=-1,\n",
       "          penalty='l2', random_state=None, solver='liblinear', tol=0.0001,\n",
       "          verbose=1, warm_start=False)"
      ]
     },
     "execution_count": 57,
     "metadata": {},
     "output_type": "execute_result"
    }
   ],
   "source": [
    "#from sklearn.linear_model import LogisticRegression\n",
    "clf_LR = LogisticRegression(C=10, n_jobs = -1, verbose = 1)\n",
    "clf_LR.fit(train_matrix, y_train)"
   ]
  },
  {
   "cell_type": "code",
   "execution_count": 58,
   "metadata": {},
   "outputs": [
    {
     "name": "stdout",
     "output_type": "stream",
     "text": [
      "The LogisticRegression accuracy score for train data set is 0.935403, for test data set is: 0.917981\n"
     ]
    }
   ],
   "source": [
    "LR_pred=clf_LR.predict(test_matrix)\n",
    "print('The LogisticRegression accuracy score for train data set is %f, for test data set is: %f' % \\\n",
    "     (clf_LR.score(train_matrix, y_train), clf_LR.score(test_matrix, y_test)))"
   ]
  },
  {
   "cell_type": "code",
   "execution_count": 60,
   "metadata": {
    "collapsed": true
   },
   "outputs": [],
   "source": [
    "from sklearn.metrics import precision_score, accuracy_score, recall_score, f1_score, roc_auc_score\n",
    "# Helper method to print metric scores    \n",
    "def get_performance_metrics(y_test, y_test_pred, threshold=0.5):\n",
    "    metric_names = ['AUC','Accuracy','Precision','Recall','f1-score']\n",
    "   \n",
    "    metric_values_test = [roc_auc_score(y_test, y_test_pred),\n",
    "                    accuracy_score(y_test, y_test_pred>threshold),\n",
    "                    precision_score(y_test, y_test_pred>threshold),\n",
    "                    recall_score(y_test, y_test_pred>threshold),\n",
    "                    f1_score(y_test, y_test_pred>threshold)\n",
    "                   ]\n",
    "    all_metrics = pd.DataFrame({'metrics':metric_names,\n",
    "                                \n",
    "                                'test':metric_values_test},columns=['metrics','test']).set_index('metrics')\n",
    "    print(all_metrics)"
   ]
  },
  {
   "cell_type": "code",
   "execution_count": 61,
   "metadata": {},
   "outputs": [
    {
     "name": "stdout",
     "output_type": "stream",
     "text": [
      "               test\n",
      "metrics            \n",
      "AUC        0.901096\n",
      "Accuracy   0.917981\n",
      "Precision  0.931961\n",
      "Recall     0.948369\n",
      "f1-score   0.940094\n"
     ]
    }
   ],
   "source": [
    "get_performance_metrics(y_test, LR_pred, threshold=0.5)"
   ]
  },
  {
   "cell_type": "code",
   "execution_count": 95,
   "metadata": {},
   "outputs": [
    {
     "data": {
      "image/png": "[encoded data removed]",
      "text/plain": [
       "<matplotlib.figure.Figure at 0x11a80d668>"
      ]
     },
     "metadata": {},
     "output_type": "display_data"
    }
   ],
   "source": [
    "LR_prob=clf_LR.predict_proba(test_matrix)[:,1]\n",
    "plot_roc_curve(y_test, LR_prob,'Logistic Regression')"
   ]
  },
  {
   "cell_type": "code",
   "execution_count": 85,
   "metadata": {
    "collapsed": true
   },
   "outputs": [],
   "source": [
    "def get_top_values(lst, n, labels):\n",
    "    #Given a list of values, find the indices with the highest n values.\n",
    "    #Return the labels for each of these indices.\n",
    "    return [labels[i] for i in np.argsort(lst)[::-1][:n]]  "
   ]
  },
  {
   "cell_type": "markdown",
   "metadata": {},
   "source": [
    "#### * Find top 20 influential words to sentiments"
   ]
  },
  {
   "cell_type": "code",
   "execution_count": 86,
   "metadata": {},
   "outputs": [
    {
     "name": "stdout",
     "output_type": "stream",
     "text": [
      "Top 20 words by ranking are \n",
      "amazing, delicious, great, excellent, highly, thank, exceeded, perfect, gem, fantastic, awesome, phenomenal, best, knowledgeable, painless, love, happier, disappoint, heaven, wonderful.\n"
     ]
    }
   ],
   "source": [
    "n = 20\n",
    "print ('Top 20 words by ranking are \\n%s.' % \n",
    "       (\", \".join(i for i in get_top_values(clf_LR.coef_[0], n, words)))) "
   ]
  },
  {
   "cell_type": "markdown",
   "metadata": {},
   "source": [
    "* most of the top words are very positive!"
   ]
  },
  {
   "cell_type": "markdown",
   "metadata": {},
   "source": [
    "### 2.4 Random Forest "
   ]
  },
  {
   "cell_type": "code",
   "execution_count": 90,
   "metadata": {},
   "outputs": [
    {
     "name": "stderr",
     "output_type": "stream",
     "text": [
      "[Parallel(n_jobs=-1)]: Done  42 tasks      | elapsed:   46.3s\n",
      "[Parallel(n_jobs=-1)]: Done 100 out of 100 | elapsed:  1.7min finished\n"
     ]
    },
    {
     "data": {
      "text/plain": [
       "RandomForestClassifier(bootstrap=True, class_weight=None, criterion='gini',\n",
       "            max_depth=20, max_features='auto', max_leaf_nodes=None,\n",
       "            min_impurity_decrease=0.0, min_impurity_split=None,\n",
       "            min_samples_leaf=5, min_samples_split=2,\n",
       "            min_weight_fraction_leaf=0.0, n_estimators=100, n_jobs=-1,\n",
       "            oob_score=False, random_state=12, verbose=1, warm_start=False)"
      ]
     },
     "execution_count": 90,
     "metadata": {},
     "output_type": "execute_result"
    }
   ],
   "source": [
    "clf_RF = RandomForestClassifier(n_estimators=100, max_depth = 20, min_samples_leaf= 5, \\\n",
    "                                random_state = 12, n_jobs = -1, verbose = 1)\n",
    "clf_RF.fit(train_matrix, y_train)"
   ]
  },
  {
   "cell_type": "code",
   "execution_count": 91,
   "metadata": {},
   "outputs": [
    {
     "name": "stderr",
     "output_type": "stream",
     "text": [
      "[Parallel(n_jobs=4)]: Done  42 tasks      | elapsed:    1.2s\n",
      "[Parallel(n_jobs=4)]: Done 100 out of 100 | elapsed:    2.7s finished\n"
     ]
    },
    {
     "name": "stdout",
     "output_type": "stream",
     "text": [
      "               test\n",
      "metrics            \n",
      "AUC        0.639130\n",
      "Accuracy   0.764943\n",
      "Precision  0.745876\n",
      "Recall     0.991376\n",
      "f1-score   0.851280\n"
     ]
    }
   ],
   "source": [
    "RF_pred=clf_RF.predict(test_matrix)\n",
    "get_performance_metrics(y_test, RF_pred, threshold=0.5)"
   ]
  },
  {
   "cell_type": "code",
   "execution_count": 92,
   "metadata": {},
   "outputs": [
    {
     "name": "stderr",
     "output_type": "stream",
     "text": [
      "[Parallel(n_jobs=4)]: Done  42 tasks      | elapsed:    2.7s\n",
      "[Parallel(n_jobs=4)]: Done 100 out of 100 | elapsed:    6.2s finished\n",
      "[Parallel(n_jobs=4)]: Done  42 tasks      | elapsed:    1.2s\n"
     ]
    },
    {
     "name": "stdout",
     "output_type": "stream",
     "text": [
      "The Random Forest accuracy score for train data set is 0.770979, for test data set is: 0.764943\n"
     ]
    },
    {
     "name": "stderr",
     "output_type": "stream",
     "text": [
      "[Parallel(n_jobs=4)]: Done 100 out of 100 | elapsed:    2.8s finished\n"
     ]
    }
   ],
   "source": [
    "print('The Random Forest accuracy score for train data set is %f, for test data set is: %f' % \\\n",
    "     (clf_RF.score(train_matrix, y_train), clf_RF.score(test_matrix, y_test)))"
   ]
  },
  {
   "cell_type": "code",
   "execution_count": 97,
   "metadata": {},
   "outputs": [
    {
     "name": "stderr",
     "output_type": "stream",
     "text": [
      "[Parallel(n_jobs=4)]: Done  42 tasks      | elapsed:    1.2s\n",
      "[Parallel(n_jobs=4)]: Done 100 out of 100 | elapsed:    2.8s finished\n"
     ]
    },
    {
     "data": {
      "image/png": "[encoded data removed]",
      "text/plain": [
       "<matplotlib.figure.Figure at 0x11a800e10>"
      ]
     },
     "metadata": {},
     "output_type": "display_data"
    }
   ],
   "source": [
    "RF_prob=clf_RF.predict_proba(test_matrix)[:,1]\n",
    "plot_roc_curve(y_test, RF_prob,'Random Forest')"
   ]
  },
  {
   "cell_type": "markdown",
   "metadata": {},
   "source": [
    "### 2.5 Neural Network"
   ]
  },
  {
   "cell_type": "code",
   "execution_count": 98,
   "metadata": {
    "collapsed": true
   },
   "outputs": [],
   "source": [
    "from sklearn.neural_network import MLPClassifier\n",
    "\n",
    "parameters = {\n",
    "    'solver':'adam', \n",
    "    'activation':'relu',\n",
    "    'alpha':1, #increase alpha->increase penalty\n",
    "    'hidden_layer_sizes':(3,3), \n",
    "    'learning_rate':'adaptive',\n",
    "    'random_state':1,\n",
    "    'early_stopping': True\n",
    "    }\n",
    "clf_NN = MLPClassifier(**parameters)\n"
   ]
  },
  {
   "cell_type": "code",
   "execution_count": 100,
   "metadata": {},
   "outputs": [
    {
     "data": {
      "text/plain": [
       "MLPClassifier(activation='relu', alpha=1, batch_size='auto', beta_1=0.9,\n",
       "       beta_2=0.999, early_stopping=False, epsilon=1e-08,\n",
       "       hidden_layer_sizes=(5, 5), learning_rate='adaptive',\n",
       "       learning_rate_init=0.001, max_iter=200, momentum=0.9,\n",
       "       nesterovs_momentum=True, power_t=0.5, random_state=1, shuffle=True,\n",
       "       solver='adam', tol=0.0001, validation_fraction=0.1, verbose=False,\n",
       "       warm_start=False)"
      ]
     },
     "execution_count": 100,
     "metadata": {},
     "output_type": "execute_result"
    }
   ],
   "source": [
    "clf_NN.fit(train_matrix,y_train)"
   ]
  },
  {
   "cell_type": "code",
   "execution_count": 101,
   "metadata": {},
   "outputs": [
    {
     "name": "stdout",
     "output_type": "stream",
     "text": [
      "               test\n",
      "metrics            \n",
      "AUC        0.884950\n",
      "Accuracy   0.911758\n",
      "Precision  0.914249\n",
      "Recall     0.960006\n",
      "f1-score   0.936569\n"
     ]
    }
   ],
   "source": [
    "NN_pred=clf_NN.predict(test_matrix)\n",
    "get_performance_metrics(y_test, NN_pred, threshold=0.5)"
   ]
  },
  {
   "cell_type": "code",
   "execution_count": 102,
   "metadata": {},
   "outputs": [
    {
     "data": {
      "image/png": "[encoded data removed]",
      "text/plain": [
       "<matplotlib.figure.Figure at 0x1195a45c0>"
      ]
     },
     "metadata": {},
     "output_type": "display_data"
    }
   ],
   "source": [
    "NN_prob=clf_NN.predict_proba(test_matrix)[:,1]\n",
    "plot_roc_curve(y_test, NN_prob,'Neural Network')"
   ]
  }
 ],
 "metadata": {
  "kernelspec": {
   "display_name": "Python 3",
   "language": "python",
   "name": "python3"
  },
  "language_info": {
   "codemirror_mode": {
    "name": "ipython",
    "version": 3
   },
   "file_extension": ".py",
   "mimetype": "text/x-python",
   "name": "python",
   "nbconvert_exporter": "python",
   "pygments_lexer": "ipython3",
   "version": "3.6.5"
  }
 },
 "nbformat": 4,
 "nbformat_minor": 2
}
