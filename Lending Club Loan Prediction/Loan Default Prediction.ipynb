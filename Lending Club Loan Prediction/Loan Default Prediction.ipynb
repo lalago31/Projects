{
 "cells": [
  {
   "cell_type": "markdown",
   "metadata": {},
   "source": [
    "# Summary:\n",
    "It is important to understand what type of loans have potential risks of default in order to help investors make informed decision to purchase Lending Club loans and to give the LC platform more confidence in loan underwriting. The key to finding out the loan default pattern is to understand the characteristics of the loan borrowers. \n",
    "\n",
    "In this notebook, I built two models - Random Forest and Gradient Boosting Trees in an effort to figure out the most important features of the borrowers that are potentially indicative of a high probability of loan default. \n",
    "\n",
    "Before building the model, the first half of the notebook covers all the data preprocessing, cleaning and feature engineering. The second part is about model building and evaluation, as well as feature importances extraction. \n",
    "\n",
    "The most important features selected by the model are borrowers' annual income, debt-to-income ratio, monthly installment and the credit history of revolving accounts/balance/utilization. Those indeed can tell us a lot about the borrowers creditibilities to pay back the loans.\n",
    "\n",
    "Finally, I used the model that is trained on historical fully paid and default loans to predict on the loans with status \"Current\" to see which loans are likely to go default in the future. Given the distribution of predicted default probability, I choose a cut-off probability threshold of 0.32 to find the specific loan_IDs whose predicted probabilities are above the threshold, which means those loans are under potential risk of default. \n",
    "\n",
    "Investors can use the model predictions to understand the scale of risk in selected porfolio before they decide to purchase the loans, although some restrictions when applying the model in production should also be taken into account. There is some discussion about some concerns in the bottom part of this notebook, as I am not very familiar with the process how the loan dataset is generated."
   ]
  },
  {
   "cell_type": "code",
   "execution_count": 94,
   "metadata": {},
   "outputs": [],
   "source": [
    "import numpy as np\n",
    "import pandas as pd\n",
    "import matplotlib.pyplot as plt\n",
    "%matplotlib inline\n",
    "plt.style.use('ggplot')"
   ]
  },
  {
   "cell_type": "code",
   "execution_count": 95,
   "metadata": {},
   "outputs": [
    {
     "name": "stderr",
     "output_type": "stream",
     "text": [
      "/Users/lalago31/anaconda3/lib/python3.6/site-packages/IPython/core/interactiveshell.py:2785: DtypeWarning: Columns (19,49,59,118,129,130,131,134,135,136,139,145,146,147) have mixed types. Specify dtype option on import or set low_memory=False.\n",
      "  interactivity=interactivity, compiler=compiler, result=result)\n",
      "/Users/lalago31/anaconda3/lib/python3.6/site-packages/IPython/core/interactiveshell.py:2785: DtypeWarning: Columns (26,29) have mixed types. Specify dtype option on import or set low_memory=False.\n",
      "  interactivity=interactivity, compiler=compiler, result=result)\n"
     ]
    }
   ],
   "source": [
    "loan= pd.read_csv('lc_data_tape.csv')\n",
    "payment = pd.read_csv('lc_payment_file.csv')"
   ]
  },
  {
   "cell_type": "markdown",
   "metadata": {},
   "source": [
    "### 1. Check missing values & Inspect the columns"
   ]
  },
  {
   "cell_type": "code",
   "execution_count": 96,
   "metadata": {},
   "outputs": [
    {
     "data": {
      "text/plain": [
       "id                                                 0\n",
       "member_id                                     301057\n",
       "loan_amnt                                          0\n",
       "funded_amnt                                        0\n",
       "funded_amnt_inv                                    0\n",
       "term                                               0\n",
       "int_rate                                           0\n",
       "installment                                        0\n",
       "grade                                              0\n",
       "sub_grade                                          0\n",
       "emp_title                                      19168\n",
       "emp_length                                     17971\n",
       "home_ownership                                     0\n",
       "annual_inc                                         0\n",
       "verification_status                                0\n",
       "issue_d                                            0\n",
       "loan_status                                        0\n",
       "pymnt_plan                                         0\n",
       "url                                                0\n",
       "desc                                          279481\n",
       "purpose                                            0\n",
       "title                                           3989\n",
       "zip_code                                           0\n",
       "addr_state                                         0\n",
       "dti                                              106\n",
       "delinq_2yrs                                        4\n",
       "earliest_cr_line                                   4\n",
       "fico_range_low                                     0\n",
       "fico_range_high                                    0\n",
       "inq_last_6mths                                     4\n",
       "                                               ...  \n",
       "sec_app_open_acc                              294260\n",
       "sec_app_revol_util                            294355\n",
       "sec_app_open_act_il                           294260\n",
       "sec_app_num_rev_accts                         294260\n",
       "sec_app_chargeoff_within_12_mths              294260\n",
       "sec_app_collections_12_mths_ex_med            294260\n",
       "sec_app_mths_since_last_major_derog           298676\n",
       "hardship_flag                                      0\n",
       "hardship_type                                 299905\n",
       "hardship_reason                               299905\n",
       "hardship_status                               299905\n",
       "deferral_term                                 299905\n",
       "hardship_amount                               299905\n",
       "hardship_start_date                           299905\n",
       "hardship_end_date                             299905\n",
       "payment_plan_start_date                       299905\n",
       "hardship_length                               299905\n",
       "hardship_dpd                                  299905\n",
       "hardship_loan_status                          299905\n",
       "orig_projected_additional_accrued_interest    300132\n",
       "hardship_payoff_balance_amount                299905\n",
       "hardship_last_payment_amount                  299905\n",
       "disbursement_method                                0\n",
       "debt_settlement_flag                               0\n",
       "debt_settlement_flag_date                     297961\n",
       "settlement_status                             297961\n",
       "settlement_date                               297961\n",
       "settlement_amount                             297961\n",
       "settlement_percentage                         297961\n",
       "settlement_term                               297961\n",
       "Length: 151, dtype: int64"
      ]
     },
     "execution_count": 96,
     "metadata": {},
     "output_type": "execute_result"
    }
   ],
   "source": [
    "loan.isnull().sum()"
   ]
  },
  {
   "cell_type": "code",
   "execution_count": 97,
   "metadata": {},
   "outputs": [
    {
     "data": {
      "text/plain": [
       "(301057, 151)"
      ]
     },
     "execution_count": 97,
     "metadata": {},
     "output_type": "execute_result"
    }
   ],
   "source": [
    "loan.shape"
   ]
  },
  {
   "cell_type": "code",
   "execution_count": 98,
   "metadata": {},
   "outputs": [
    {
     "data": {
      "text/plain": [
       "id                                            301057\n",
       "member_id                                          0\n",
       "loan_amnt                                     301057\n",
       "funded_amnt                                   301057\n",
       "funded_amnt_inv                               301057\n",
       "term                                          301057\n",
       "int_rate                                      301057\n",
       "installment                                   301057\n",
       "grade                                         301057\n",
       "sub_grade                                     301057\n",
       "emp_title                                     281889\n",
       "emp_length                                    283086\n",
       "home_ownership                                301057\n",
       "annual_inc                                    301057\n",
       "verification_status                           301057\n",
       "issue_d                                       301057\n",
       "loan_status                                   301057\n",
       "pymnt_plan                                    301057\n",
       "url                                           301057\n",
       "desc                                           21576\n",
       "purpose                                       301057\n",
       "title                                         297068\n",
       "zip_code                                      301057\n",
       "addr_state                                    301057\n",
       "dti                                           300951\n",
       "delinq_2yrs                                   301053\n",
       "earliest_cr_line                              301053\n",
       "fico_range_low                                301057\n",
       "fico_range_high                               301057\n",
       "inq_last_6mths                                301053\n",
       "                                               ...  \n",
       "sec_app_open_acc                                6797\n",
       "sec_app_revol_util                              6702\n",
       "sec_app_open_act_il                             6797\n",
       "sec_app_num_rev_accts                           6797\n",
       "sec_app_chargeoff_within_12_mths                6797\n",
       "sec_app_collections_12_mths_ex_med              6797\n",
       "sec_app_mths_since_last_major_derog             2381\n",
       "hardship_flag                                 301057\n",
       "hardship_type                                   1152\n",
       "hardship_reason                                 1152\n",
       "hardship_status                                 1152\n",
       "deferral_term                                   1152\n",
       "hardship_amount                                 1152\n",
       "hardship_start_date                             1152\n",
       "hardship_end_date                               1152\n",
       "payment_plan_start_date                         1152\n",
       "hardship_length                                 1152\n",
       "hardship_dpd                                    1152\n",
       "hardship_loan_status                            1152\n",
       "orig_projected_additional_accrued_interest       925\n",
       "hardship_payoff_balance_amount                  1152\n",
       "hardship_last_payment_amount                    1152\n",
       "disbursement_method                           301057\n",
       "debt_settlement_flag                          301057\n",
       "debt_settlement_flag_date                       3096\n",
       "settlement_status                               3096\n",
       "settlement_date                                 3096\n",
       "settlement_amount                               3096\n",
       "settlement_percentage                           3096\n",
       "settlement_term                                 3096\n",
       "Length: 151, dtype: int64"
      ]
     },
     "execution_count": 98,
     "metadata": {},
     "output_type": "execute_result"
    }
   ],
   "source": [
    "loan.shape[0] - loan.isnull().sum() ## count of valid values in each column"
   ]
  },
  {
   "cell_type": "code",
   "execution_count": 99,
   "metadata": {},
   "outputs": [],
   "source": [
    "df=loan.copy()\n",
    "df.dropna(axis=1,thresh=df.shape[0]*0.8,inplace=True) ## drop columns that contain less than 80% valid values."
   ]
  },
  {
   "cell_type": "code",
   "execution_count": 100,
   "metadata": {},
   "outputs": [
    {
     "data": {
      "text/plain": [
       "(301057, 93)"
      ]
     },
     "execution_count": 100,
     "metadata": {},
     "output_type": "execute_result"
    }
   ],
   "source": [
    "df.shape"
   ]
  },
  {
   "cell_type": "code",
   "execution_count": 101,
   "metadata": {},
   "outputs": [
    {
     "data": {
      "text/plain": [
       "Index(['id', 'loan_amnt', 'funded_amnt', 'funded_amnt_inv', 'term', 'int_rate',\n",
       "       'installment', 'grade', 'sub_grade', 'emp_title', 'emp_length',\n",
       "       'home_ownership', 'annual_inc', 'verification_status', 'issue_d',\n",
       "       'loan_status', 'pymnt_plan', 'url', 'purpose', 'title', 'zip_code',\n",
       "       'addr_state', 'dti', 'delinq_2yrs', 'earliest_cr_line',\n",
       "       'fico_range_low', 'fico_range_high', 'inq_last_6mths', 'open_acc',\n",
       "       'pub_rec', 'revol_bal', 'revol_util', 'total_acc',\n",
       "       'initial_list_status', 'out_prncp', 'out_prncp_inv', 'total_pymnt',\n",
       "       'total_pymnt_inv', 'total_rec_prncp', 'total_rec_int',\n",
       "       'total_rec_late_fee', 'recoveries', 'collection_recovery_fee',\n",
       "       'last_pymnt_d', 'last_pymnt_amnt', 'last_credit_pull_d',\n",
       "       'last_fico_range_high', 'last_fico_range_low',\n",
       "       'collections_12_mths_ex_med', 'policy_code', 'application_type',\n",
       "       'acc_now_delinq', 'tot_coll_amt', 'tot_cur_bal', 'total_rev_hi_lim',\n",
       "       'acc_open_past_24mths', 'avg_cur_bal', 'bc_open_to_buy', 'bc_util',\n",
       "       'chargeoff_within_12_mths', 'delinq_amnt', 'mo_sin_old_il_acct',\n",
       "       'mo_sin_old_rev_tl_op', 'mo_sin_rcnt_rev_tl_op', 'mo_sin_rcnt_tl',\n",
       "       'mort_acc', 'mths_since_recent_bc', 'mths_since_recent_inq',\n",
       "       'num_accts_ever_120_pd', 'num_actv_bc_tl', 'num_actv_rev_tl',\n",
       "       'num_bc_sats', 'num_bc_tl', 'num_il_tl', 'num_op_rev_tl',\n",
       "       'num_rev_accts', 'num_rev_tl_bal_gt_0', 'num_sats', 'num_tl_120dpd_2m',\n",
       "       'num_tl_30dpd', 'num_tl_90g_dpd_24m', 'num_tl_op_past_12m',\n",
       "       'pct_tl_nvr_dlq', 'percent_bc_gt_75', 'pub_rec_bankruptcies',\n",
       "       'tax_liens', 'tot_hi_cred_lim', 'total_bal_ex_mort', 'total_bc_limit',\n",
       "       'total_il_high_credit_limit', 'hardship_flag', 'disbursement_method',\n",
       "       'debt_settlement_flag'],\n",
       "      dtype='object')"
      ]
     },
     "execution_count": 101,
     "metadata": {},
     "output_type": "execute_result"
    }
   ],
   "source": [
    "df.columns"
   ]
  },
  {
   "cell_type": "code",
   "execution_count": 102,
   "metadata": {},
   "outputs": [
    {
     "data": {
      "text/plain": [
       "Teacher               5074\n",
       "Manager               4461\n",
       "Owner                 2776\n",
       "Registered Nurse      2105\n",
       "RN                    2079\n",
       "Supervisor            1911\n",
       "Driver                1745\n",
       "Sales                 1671\n",
       "Project Manager       1460\n",
       "Office Manager        1324\n",
       "General Manager       1255\n",
       "Director              1198\n",
       "owner                 1131\n",
       "President             1075\n",
       "Engineer              1005\n",
       "manager                980\n",
       "teacher                942\n",
       "Vice President         870\n",
       "Operations Manager     830\n",
       "Accountant             769\n",
       "Name: emp_title, dtype: int64"
      ]
     },
     "execution_count": 102,
     "metadata": {},
     "output_type": "execute_result"
    }
   ],
   "source": [
    "df['emp_title'].value_counts()[:20]"
   ]
  },
  {
   "cell_type": "code",
   "execution_count": 103,
   "metadata": {},
   "outputs": [
    {
     "data": {
      "text/plain": [
       "n    300981\n",
       "y        76\n",
       "Name: pymnt_plan, dtype: int64"
      ]
     },
     "execution_count": 103,
     "metadata": {},
     "output_type": "execute_result"
    }
   ],
   "source": [
    "df['pymnt_plan'].value_counts()"
   ]
  },
  {
   "cell_type": "code",
   "execution_count": 104,
   "metadata": {},
   "outputs": [
    {
     "data": {
      "text/plain": [
       "Cash         299924\n",
       "DirectPay      1133\n",
       "Name: disbursement_method, dtype: int64"
      ]
     },
     "execution_count": 104,
     "metadata": {},
     "output_type": "execute_result"
    }
   ],
   "source": [
    "df.disbursement_method.value_counts()"
   ]
  },
  {
   "cell_type": "code",
   "execution_count": 105,
   "metadata": {},
   "outputs": [
    {
     "data": {
      "text/plain": [
       "Individual    292104\n",
       "Joint App       8953\n",
       "Name: application_type, dtype: int64"
      ]
     },
     "execution_count": 105,
     "metadata": {},
     "output_type": "execute_result"
    }
   ],
   "source": [
    "df.application_type.value_counts()"
   ]
  },
  {
   "cell_type": "code",
   "execution_count": 106,
   "metadata": {},
   "outputs": [
    {
     "data": {
      "text/plain": [
       "w    188833\n",
       "f    112224\n",
       "Name: initial_list_status, dtype: int64"
      ]
     },
     "execution_count": 106,
     "metadata": {},
     "output_type": "execute_result"
    }
   ],
   "source": [
    "df.initial_list_status.value_counts()"
   ]
  },
  {
   "cell_type": "code",
   "execution_count": 107,
   "metadata": {},
   "outputs": [
    {
     "data": {
      "text/plain": [
       "Debt consolidation                        152613\n",
       "Credit card refinancing                    58056\n",
       "Home improvement                           17962\n",
       "Other                                      15754\n",
       "Major purchase                              5757\n",
       "Medical expenses                            3206\n",
       "Debt Consolidation                          2738\n",
       "Business                                    2733\n",
       "Car financing                               2648\n",
       "Vacation                                    1934\n",
       "Moving and relocation                       1778\n",
       "Home buying                                 1212\n",
       "Consolidation                                891\n",
       "debt consolidation                           787\n",
       "Debt Consolidation Loan                      657\n",
       "Credit Card Consolidation                    390\n",
       "consolidation                                364\n",
       "Personal Loan                                348\n",
       "Home Improvement                             309\n",
       "Consolidation Loan                           301\n",
       "Credit Card Refinance                        256\n",
       "Credit Card Payoff                           233\n",
       "Personal                                     232\n",
       "Consolidate                                  202\n",
       "Loan                                         173\n",
       "Green loan                                   163\n",
       "Freedom                                      144\n",
       "consolidate                                  132\n",
       "personal                                     127\n",
       "Credit Card Loan                             124\n",
       "                                           ...  \n",
       " DEBT PAYDOWN                                  1\n",
       "Billpayoff                                     1\n",
       "Land                                           1\n",
       "Vacation/ Dental/ DebtConsolidation            1\n",
       "Great Investment just consolidating            1\n",
       "Looking to make some housing upgrades          1\n",
       "Pure28                                         1\n",
       "elipidos                                       1\n",
       "Debts Be Gone                                  1\n",
       "Loan/Consolidation                             1\n",
       "College Expense                                1\n",
       "Legal Fees                                     1\n",
       "remodeling                                     1\n",
       "Wedding and Home Expenses                      1\n",
       "Pay Down Debt                                  1\n",
       "Boat of my dreams                              1\n",
       "Debt Consolidation Help                        1\n",
       "Choosing wisely instead of Wells Fargo         1\n",
       "Debit consolidate                              1\n",
       "Yoga Studio Expansion                          1\n",
       "ford taurus                                    1\n",
       "Credit Card Debt Gone                          1\n",
       "Debt Consolidate and Home Repair               1\n",
       "Credit card payout                             1\n",
       "REDEMPTION                                     1\n",
       "Credit Card Debt Control                       1\n",
       "Debt consolidation and relocation              1\n",
       "Home improvement/debt cons loan                1\n",
       "Retiring My Debt                               1\n",
       "Starting a landscaping buisness                1\n",
       "Name: title, Length: 13677, dtype: int64"
      ]
     },
     "execution_count": 107,
     "metadata": {},
     "output_type": "execute_result"
    }
   ],
   "source": [
    "df.title.value_counts()"
   ]
  },
  {
   "cell_type": "code",
   "execution_count": 108,
   "metadata": {},
   "outputs": [],
   "source": [
    "delete_col=['out_prncp', 'total_pymnt','issue_d','url','zip_code','policy_code', 'id','emp_title','pymnt_plan',\n",
    "       'total_pymnt_inv', 'total_rec_prncp', 'total_rec_int','debt_settlement_flag',\n",
    "       'total_rec_late_fee', 'recoveries', 'collection_recovery_fee','last_pymnt_d','last_credit_pull_d']"
   ]
  },
  {
   "cell_type": "markdown",
   "metadata": {},
   "source": [
    "* columns like \"id\" or \"url\", \"zip_code\" borrower specific, excluding them because the goal of the prediction model is to find a general pattern of default.\n",
    "* columns related to recovery and collection are deterministic- they only have values when the loan is already gone default. Since the goal is to find the potential default loan in order to prevent the loss from happening, including these columns will cause information leak. "
   ]
  },
  {
   "cell_type": "code",
   "execution_count": 109,
   "metadata": {},
   "outputs": [],
   "source": [
    "df2= pd.DataFrame(df , columns = [i for i in df.columns if i not in delete_col])"
   ]
  },
  {
   "cell_type": "code",
   "execution_count": 110,
   "metadata": {},
   "outputs": [
    {
     "data": {
      "text/plain": [
       "Index(['loan_amnt', 'funded_amnt', 'funded_amnt_inv', 'term', 'int_rate',\n",
       "       'installment', 'grade', 'sub_grade', 'emp_length', 'home_ownership',\n",
       "       'annual_inc', 'verification_status', 'loan_status', 'purpose', 'title',\n",
       "       'addr_state', 'dti', 'delinq_2yrs', 'earliest_cr_line',\n",
       "       'fico_range_low', 'fico_range_high', 'inq_last_6mths', 'open_acc',\n",
       "       'pub_rec', 'revol_bal', 'revol_util', 'total_acc',\n",
       "       'initial_list_status', 'out_prncp_inv', 'last_pymnt_amnt',\n",
       "       'last_fico_range_high', 'last_fico_range_low',\n",
       "       'collections_12_mths_ex_med', 'application_type', 'acc_now_delinq',\n",
       "       'tot_coll_amt', 'tot_cur_bal', 'total_rev_hi_lim',\n",
       "       'acc_open_past_24mths', 'avg_cur_bal', 'bc_open_to_buy', 'bc_util',\n",
       "       'chargeoff_within_12_mths', 'delinq_amnt', 'mo_sin_old_il_acct',\n",
       "       'mo_sin_old_rev_tl_op', 'mo_sin_rcnt_rev_tl_op', 'mo_sin_rcnt_tl',\n",
       "       'mort_acc', 'mths_since_recent_bc', 'mths_since_recent_inq',\n",
       "       'num_accts_ever_120_pd', 'num_actv_bc_tl', 'num_actv_rev_tl',\n",
       "       'num_bc_sats', 'num_bc_tl', 'num_il_tl', 'num_op_rev_tl',\n",
       "       'num_rev_accts', 'num_rev_tl_bal_gt_0', 'num_sats', 'num_tl_120dpd_2m',\n",
       "       'num_tl_30dpd', 'num_tl_90g_dpd_24m', 'num_tl_op_past_12m',\n",
       "       'pct_tl_nvr_dlq', 'percent_bc_gt_75', 'pub_rec_bankruptcies',\n",
       "       'tax_liens', 'tot_hi_cred_lim', 'total_bal_ex_mort', 'total_bc_limit',\n",
       "       'total_il_high_credit_limit', 'hardship_flag', 'disbursement_method'],\n",
       "      dtype='object')"
      ]
     },
     "execution_count": 110,
     "metadata": {},
     "output_type": "execute_result"
    }
   ],
   "source": [
    "df2.columns"
   ]
  },
  {
   "cell_type": "code",
   "execution_count": 111,
   "metadata": {},
   "outputs": [],
   "source": [
    "char_cols = df2.dtypes.pipe(lambda x: x[x == 'object']).index\n",
    "num_cols= df2.dtypes.pipe(lambda x: x[x == 'float64']).index"
   ]
  },
  {
   "cell_type": "code",
   "execution_count": 112,
   "metadata": {},
   "outputs": [
    {
     "data": {
      "text/html": [
       "<div>\n",
       "<style scoped>\n",
       "    .dataframe tbody tr th:only-of-type {\n",
       "        vertical-align: middle;\n",
       "    }\n",
       "\n",
       "    .dataframe tbody tr th {\n",
       "        vertical-align: top;\n",
       "    }\n",
       "\n",
       "    .dataframe thead th {\n",
       "        text-align: right;\n",
       "    }\n",
       "</style>\n",
       "<table border=\"1\" class=\"dataframe\">\n",
       "  <thead>\n",
       "    <tr style=\"text-align: right;\">\n",
       "      <th></th>\n",
       "      <th>term</th>\n",
       "      <th>int_rate</th>\n",
       "      <th>grade</th>\n",
       "      <th>sub_grade</th>\n",
       "      <th>emp_length</th>\n",
       "      <th>home_ownership</th>\n",
       "      <th>verification_status</th>\n",
       "      <th>loan_status</th>\n",
       "      <th>purpose</th>\n",
       "      <th>title</th>\n",
       "      <th>addr_state</th>\n",
       "      <th>earliest_cr_line</th>\n",
       "      <th>revol_util</th>\n",
       "      <th>initial_list_status</th>\n",
       "      <th>application_type</th>\n",
       "      <th>hardship_flag</th>\n",
       "      <th>disbursement_method</th>\n",
       "    </tr>\n",
       "  </thead>\n",
       "  <tbody>\n",
       "    <tr>\n",
       "      <th>0</th>\n",
       "      <td>36 months</td>\n",
       "      <td>9.91%</td>\n",
       "      <td>B</td>\n",
       "      <td>B1</td>\n",
       "      <td>2 years</td>\n",
       "      <td>MORTGAGE</td>\n",
       "      <td>Verified</td>\n",
       "      <td>Fully Paid</td>\n",
       "      <td>credit_card</td>\n",
       "      <td>No more credit card debt!</td>\n",
       "      <td>IL</td>\n",
       "      <td>Feb-2002</td>\n",
       "      <td>93.9%</td>\n",
       "      <td>f</td>\n",
       "      <td>Individual</td>\n",
       "      <td>N</td>\n",
       "      <td>Cash</td>\n",
       "    </tr>\n",
       "    <tr>\n",
       "      <th>1</th>\n",
       "      <td>60 months</td>\n",
       "      <td>16.77%</td>\n",
       "      <td>D</td>\n",
       "      <td>D2</td>\n",
       "      <td>2 years</td>\n",
       "      <td>RENT</td>\n",
       "      <td>Not Verified</td>\n",
       "      <td>Charged Off</td>\n",
       "      <td>other</td>\n",
       "      <td>Other</td>\n",
       "      <td>PA</td>\n",
       "      <td>Oct-2003</td>\n",
       "      <td>59.5%</td>\n",
       "      <td>f</td>\n",
       "      <td>Individual</td>\n",
       "      <td>N</td>\n",
       "      <td>Cash</td>\n",
       "    </tr>\n",
       "    <tr>\n",
       "      <th>2</th>\n",
       "      <td>36 months</td>\n",
       "      <td>15.96%</td>\n",
       "      <td>C</td>\n",
       "      <td>C5</td>\n",
       "      <td>7 years</td>\n",
       "      <td>RENT</td>\n",
       "      <td>Source Verified</td>\n",
       "      <td>Fully Paid</td>\n",
       "      <td>credit_card</td>\n",
       "      <td>Credit Card Loan</td>\n",
       "      <td>CA</td>\n",
       "      <td>Oct-2007</td>\n",
       "      <td>60.5%</td>\n",
       "      <td>f</td>\n",
       "      <td>Individual</td>\n",
       "      <td>N</td>\n",
       "      <td>Cash</td>\n",
       "    </tr>\n",
       "    <tr>\n",
       "      <th>3</th>\n",
       "      <td>36 months</td>\n",
       "      <td>18.25%</td>\n",
       "      <td>D</td>\n",
       "      <td>D5</td>\n",
       "      <td>9 years</td>\n",
       "      <td>MORTGAGE</td>\n",
       "      <td>Not Verified</td>\n",
       "      <td>Fully Paid</td>\n",
       "      <td>other</td>\n",
       "      <td>Year End Cleanup</td>\n",
       "      <td>PA</td>\n",
       "      <td>Sep-1998</td>\n",
       "      <td>98.1%</td>\n",
       "      <td>f</td>\n",
       "      <td>Individual</td>\n",
       "      <td>N</td>\n",
       "      <td>Cash</td>\n",
       "    </tr>\n",
       "    <tr>\n",
       "      <th>4</th>\n",
       "      <td>36 months</td>\n",
       "      <td>6.03%</td>\n",
       "      <td>A</td>\n",
       "      <td>A1</td>\n",
       "      <td>10+ years</td>\n",
       "      <td>MORTGAGE</td>\n",
       "      <td>Not Verified</td>\n",
       "      <td>Fully Paid</td>\n",
       "      <td>debt_consolidation</td>\n",
       "      <td>Debt-Consolidation</td>\n",
       "      <td>LA</td>\n",
       "      <td>Nov-1995</td>\n",
       "      <td>32.5%</td>\n",
       "      <td>f</td>\n",
       "      <td>Individual</td>\n",
       "      <td>N</td>\n",
       "      <td>Cash</td>\n",
       "    </tr>\n",
       "    <tr>\n",
       "      <th>5</th>\n",
       "      <td>36 months</td>\n",
       "      <td>10.65%</td>\n",
       "      <td>B</td>\n",
       "      <td>B2</td>\n",
       "      <td>6 years</td>\n",
       "      <td>RENT</td>\n",
       "      <td>Verified</td>\n",
       "      <td>Fully Paid</td>\n",
       "      <td>other</td>\n",
       "      <td>Other Loan</td>\n",
       "      <td>NY</td>\n",
       "      <td>Nov-2006</td>\n",
       "      <td>52.3%</td>\n",
       "      <td>f</td>\n",
       "      <td>Individual</td>\n",
       "      <td>N</td>\n",
       "      <td>Cash</td>\n",
       "    </tr>\n",
       "    <tr>\n",
       "      <th>6</th>\n",
       "      <td>60 months</td>\n",
       "      <td>17.27%</td>\n",
       "      <td>D</td>\n",
       "      <td>D3</td>\n",
       "      <td>6 years</td>\n",
       "      <td>RENT</td>\n",
       "      <td>Verified</td>\n",
       "      <td>Fully Paid</td>\n",
       "      <td>small_business</td>\n",
       "      <td>Start Up</td>\n",
       "      <td>CA</td>\n",
       "      <td>May-2006</td>\n",
       "      <td>58.9%</td>\n",
       "      <td>f</td>\n",
       "      <td>Individual</td>\n",
       "      <td>N</td>\n",
       "      <td>Cash</td>\n",
       "    </tr>\n",
       "    <tr>\n",
       "      <th>7</th>\n",
       "      <td>60 months</td>\n",
       "      <td>10.65%</td>\n",
       "      <td>B</td>\n",
       "      <td>B2</td>\n",
       "      <td>10+ years</td>\n",
       "      <td>RENT</td>\n",
       "      <td>Verified</td>\n",
       "      <td>Charged Off</td>\n",
       "      <td>debt_consolidation</td>\n",
       "      <td>Consolidation</td>\n",
       "      <td>OH</td>\n",
       "      <td>May-1997</td>\n",
       "      <td>30.1%</td>\n",
       "      <td>f</td>\n",
       "      <td>Individual</td>\n",
       "      <td>N</td>\n",
       "      <td>Cash</td>\n",
       "    </tr>\n",
       "    <tr>\n",
       "      <th>8</th>\n",
       "      <td>36 months</td>\n",
       "      <td>14.27%</td>\n",
       "      <td>C</td>\n",
       "      <td>C2</td>\n",
       "      <td>4 years</td>\n",
       "      <td>RENT</td>\n",
       "      <td>Source Verified</td>\n",
       "      <td>Fully Paid</td>\n",
       "      <td>debt_consolidation</td>\n",
       "      <td>New Start</td>\n",
       "      <td>CA</td>\n",
       "      <td>Oct-2002</td>\n",
       "      <td>83.4%</td>\n",
       "      <td>f</td>\n",
       "      <td>Individual</td>\n",
       "      <td>N</td>\n",
       "      <td>Cash</td>\n",
       "    </tr>\n",
       "    <tr>\n",
       "      <th>9</th>\n",
       "      <td>60 months</td>\n",
       "      <td>21.28%</td>\n",
       "      <td>F</td>\n",
       "      <td>F2</td>\n",
       "      <td>4 years</td>\n",
       "      <td>RENT</td>\n",
       "      <td>Source Verified</td>\n",
       "      <td>Charged Off</td>\n",
       "      <td>small_business</td>\n",
       "      <td>Small_Business Loan</td>\n",
       "      <td>CA</td>\n",
       "      <td>Jan-2000</td>\n",
       "      <td>73.9%</td>\n",
       "      <td>f</td>\n",
       "      <td>Individual</td>\n",
       "      <td>N</td>\n",
       "      <td>Cash</td>\n",
       "    </tr>\n",
       "    <tr>\n",
       "      <th>10</th>\n",
       "      <td>60 months</td>\n",
       "      <td>17.58%</td>\n",
       "      <td>D</td>\n",
       "      <td>D4</td>\n",
       "      <td>5 years</td>\n",
       "      <td>MORTGAGE</td>\n",
       "      <td>Verified</td>\n",
       "      <td>Fully Paid</td>\n",
       "      <td>credit_card</td>\n",
       "      <td>Refinance Loan</td>\n",
       "      <td>GA</td>\n",
       "      <td>Apr-2000</td>\n",
       "      <td>79.4%</td>\n",
       "      <td>f</td>\n",
       "      <td>Individual</td>\n",
       "      <td>N</td>\n",
       "      <td>Cash</td>\n",
       "    </tr>\n",
       "    <tr>\n",
       "      <th>11</th>\n",
       "      <td>36 months</td>\n",
       "      <td>8.90%</td>\n",
       "      <td>A</td>\n",
       "      <td>A5</td>\n",
       "      <td>&lt; 1 year</td>\n",
       "      <td>OWN</td>\n",
       "      <td>Source Verified</td>\n",
       "      <td>Fully Paid</td>\n",
       "      <td>debt_consolidation</td>\n",
       "      <td>Credit Payoff 14400</td>\n",
       "      <td>NY</td>\n",
       "      <td>Dec-1994</td>\n",
       "      <td>55%</td>\n",
       "      <td>f</td>\n",
       "      <td>Individual</td>\n",
       "      <td>N</td>\n",
       "      <td>Cash</td>\n",
       "    </tr>\n",
       "    <tr>\n",
       "      <th>12</th>\n",
       "      <td>60 months</td>\n",
       "      <td>21.67%</td>\n",
       "      <td>F</td>\n",
       "      <td>F3</td>\n",
       "      <td>&lt; 1 year</td>\n",
       "      <td>RENT</td>\n",
       "      <td>Verified</td>\n",
       "      <td>Fully Paid</td>\n",
       "      <td>debt_consolidation</td>\n",
       "      <td>Debt Consolidation Loan</td>\n",
       "      <td>CA</td>\n",
       "      <td>May-2000</td>\n",
       "      <td>91.2%</td>\n",
       "      <td>f</td>\n",
       "      <td>Individual</td>\n",
       "      <td>N</td>\n",
       "      <td>Cash</td>\n",
       "    </tr>\n",
       "    <tr>\n",
       "      <th>13</th>\n",
       "      <td>36 months</td>\n",
       "      <td>10.65%</td>\n",
       "      <td>B</td>\n",
       "      <td>B2</td>\n",
       "      <td>&lt; 1 year</td>\n",
       "      <td>RENT</td>\n",
       "      <td>Verified</td>\n",
       "      <td>Fully Paid</td>\n",
       "      <td>credit_card</td>\n",
       "      <td>Credit Card Refinance</td>\n",
       "      <td>TX</td>\n",
       "      <td>Jun-2002</td>\n",
       "      <td>78.4%</td>\n",
       "      <td>f</td>\n",
       "      <td>Individual</td>\n",
       "      <td>N</td>\n",
       "      <td>Cash</td>\n",
       "    </tr>\n",
       "    <tr>\n",
       "      <th>14</th>\n",
       "      <td>36 months</td>\n",
       "      <td>6.03%</td>\n",
       "      <td>A</td>\n",
       "      <td>A1</td>\n",
       "      <td>10+ years</td>\n",
       "      <td>MORTGAGE</td>\n",
       "      <td>Verified</td>\n",
       "      <td>Fully Paid</td>\n",
       "      <td>car</td>\n",
       "      <td>Car Loan</td>\n",
       "      <td>IL</td>\n",
       "      <td>Jan-1986</td>\n",
       "      <td>13.4%</td>\n",
       "      <td>f</td>\n",
       "      <td>Individual</td>\n",
       "      <td>N</td>\n",
       "      <td>Cash</td>\n",
       "    </tr>\n",
       "    <tr>\n",
       "      <th>15</th>\n",
       "      <td>60 months</td>\n",
       "      <td>12.69%</td>\n",
       "      <td>B</td>\n",
       "      <td>B5</td>\n",
       "      <td>&lt; 1 year</td>\n",
       "      <td>RENT</td>\n",
       "      <td>Source Verified</td>\n",
       "      <td>Fully Paid</td>\n",
       "      <td>major_purchase</td>\n",
       "      <td>Major Purchase Loan</td>\n",
       "      <td>CO</td>\n",
       "      <td>Nov-2004</td>\n",
       "      <td>50%</td>\n",
       "      <td>f</td>\n",
       "      <td>Individual</td>\n",
       "      <td>N</td>\n",
       "      <td>Cash</td>\n",
       "    </tr>\n",
       "    <tr>\n",
       "      <th>16</th>\n",
       "      <td>60 months</td>\n",
       "      <td>17.58%</td>\n",
       "      <td>D</td>\n",
       "      <td>D4</td>\n",
       "      <td>7 years</td>\n",
       "      <td>RENT</td>\n",
       "      <td>Not Verified</td>\n",
       "      <td>Fully Paid</td>\n",
       "      <td>debt_consolidation</td>\n",
       "      <td>Debt Consolidation Loan</td>\n",
       "      <td>KS</td>\n",
       "      <td>Oct-1996</td>\n",
       "      <td>87.1%</td>\n",
       "      <td>f</td>\n",
       "      <td>Individual</td>\n",
       "      <td>N</td>\n",
       "      <td>Cash</td>\n",
       "    </tr>\n",
       "    <tr>\n",
       "      <th>17</th>\n",
       "      <td>36 months</td>\n",
       "      <td>9.91%</td>\n",
       "      <td>B</td>\n",
       "      <td>B1</td>\n",
       "      <td>6 years</td>\n",
       "      <td>RENT</td>\n",
       "      <td>Not Verified</td>\n",
       "      <td>Fully Paid</td>\n",
       "      <td>credit_card</td>\n",
       "      <td>Say goodbye to the rip-off banks</td>\n",
       "      <td>NY</td>\n",
       "      <td>Jan-1997</td>\n",
       "      <td>79.6%</td>\n",
       "      <td>f</td>\n",
       "      <td>Individual</td>\n",
       "      <td>N</td>\n",
       "      <td>Cash</td>\n",
       "    </tr>\n",
       "    <tr>\n",
       "      <th>18</th>\n",
       "      <td>36 months</td>\n",
       "      <td>11.71%</td>\n",
       "      <td>B</td>\n",
       "      <td>B3</td>\n",
       "      <td>2 years</td>\n",
       "      <td>MORTGAGE</td>\n",
       "      <td>Not Verified</td>\n",
       "      <td>Fully Paid</td>\n",
       "      <td>debt_consolidation</td>\n",
       "      <td>Chase</td>\n",
       "      <td>OH</td>\n",
       "      <td>Apr-1990</td>\n",
       "      <td>54.1%</td>\n",
       "      <td>f</td>\n",
       "      <td>Individual</td>\n",
       "      <td>N</td>\n",
       "      <td>Cash</td>\n",
       "    </tr>\n",
       "    <tr>\n",
       "      <th>19</th>\n",
       "      <td>36 months</td>\n",
       "      <td>7.90%</td>\n",
       "      <td>A</td>\n",
       "      <td>A4</td>\n",
       "      <td>1 year</td>\n",
       "      <td>RENT</td>\n",
       "      <td>Not Verified</td>\n",
       "      <td>Fully Paid</td>\n",
       "      <td>debt_consolidation</td>\n",
       "      <td>Credit card paid off</td>\n",
       "      <td>CA</td>\n",
       "      <td>Jun-2003</td>\n",
       "      <td>37.2%</td>\n",
       "      <td>f</td>\n",
       "      <td>Individual</td>\n",
       "      <td>N</td>\n",
       "      <td>Cash</td>\n",
       "    </tr>\n",
       "  </tbody>\n",
       "</table>\n",
       "</div>"
      ],
      "text/plain": [
       "          term int_rate grade sub_grade emp_length home_ownership  \\\n",
       "0    36 months    9.91%     B        B1    2 years       MORTGAGE   \n",
       "1    60 months   16.77%     D        D2    2 years           RENT   \n",
       "2    36 months   15.96%     C        C5    7 years           RENT   \n",
       "3    36 months   18.25%     D        D5    9 years       MORTGAGE   \n",
       "4    36 months    6.03%     A        A1  10+ years       MORTGAGE   \n",
       "5    36 months   10.65%     B        B2    6 years           RENT   \n",
       "6    60 months   17.27%     D        D3    6 years           RENT   \n",
       "7    60 months   10.65%     B        B2  10+ years           RENT   \n",
       "8    36 months   14.27%     C        C2    4 years           RENT   \n",
       "9    60 months   21.28%     F        F2    4 years           RENT   \n",
       "10   60 months   17.58%     D        D4    5 years       MORTGAGE   \n",
       "11   36 months    8.90%     A        A5   < 1 year            OWN   \n",
       "12   60 months   21.67%     F        F3   < 1 year           RENT   \n",
       "13   36 months   10.65%     B        B2   < 1 year           RENT   \n",
       "14   36 months    6.03%     A        A1  10+ years       MORTGAGE   \n",
       "15   60 months   12.69%     B        B5   < 1 year           RENT   \n",
       "16   60 months   17.58%     D        D4    7 years           RENT   \n",
       "17   36 months    9.91%     B        B1    6 years           RENT   \n",
       "18   36 months   11.71%     B        B3    2 years       MORTGAGE   \n",
       "19   36 months    7.90%     A        A4     1 year           RENT   \n",
       "\n",
       "   verification_status  loan_status             purpose  \\\n",
       "0             Verified   Fully Paid         credit_card   \n",
       "1         Not Verified  Charged Off               other   \n",
       "2      Source Verified   Fully Paid         credit_card   \n",
       "3         Not Verified   Fully Paid               other   \n",
       "4         Not Verified   Fully Paid  debt_consolidation   \n",
       "5             Verified   Fully Paid               other   \n",
       "6             Verified   Fully Paid      small_business   \n",
       "7             Verified  Charged Off  debt_consolidation   \n",
       "8      Source Verified   Fully Paid  debt_consolidation   \n",
       "9      Source Verified  Charged Off      small_business   \n",
       "10            Verified   Fully Paid         credit_card   \n",
       "11     Source Verified   Fully Paid  debt_consolidation   \n",
       "12            Verified   Fully Paid  debt_consolidation   \n",
       "13            Verified   Fully Paid         credit_card   \n",
       "14            Verified   Fully Paid                 car   \n",
       "15     Source Verified   Fully Paid      major_purchase   \n",
       "16        Not Verified   Fully Paid  debt_consolidation   \n",
       "17        Not Verified   Fully Paid         credit_card   \n",
       "18        Not Verified   Fully Paid  debt_consolidation   \n",
       "19        Not Verified   Fully Paid  debt_consolidation   \n",
       "\n",
       "                               title addr_state earliest_cr_line revol_util  \\\n",
       "0          No more credit card debt!         IL         Feb-2002      93.9%   \n",
       "1                              Other         PA         Oct-2003      59.5%   \n",
       "2                   Credit Card Loan         CA         Oct-2007      60.5%   \n",
       "3                   Year End Cleanup         PA         Sep-1998      98.1%   \n",
       "4                Debt-Consolidation          LA         Nov-1995      32.5%   \n",
       "5                         Other Loan         NY         Nov-2006      52.3%   \n",
       "6                           Start Up         CA         May-2006      58.9%   \n",
       "7                      Consolidation         OH         May-1997      30.1%   \n",
       "8                          New Start         CA         Oct-2002      83.4%   \n",
       "9                Small_Business Loan         CA         Jan-2000      73.9%   \n",
       "10                    Refinance Loan         GA         Apr-2000      79.4%   \n",
       "11               Credit Payoff 14400         NY         Dec-1994        55%   \n",
       "12           Debt Consolidation Loan         CA         May-2000      91.2%   \n",
       "13             Credit Card Refinance         TX         Jun-2002      78.4%   \n",
       "14                          Car Loan         IL         Jan-1986      13.4%   \n",
       "15               Major Purchase Loan         CO         Nov-2004        50%   \n",
       "16           Debt Consolidation Loan         KS         Oct-1996      87.1%   \n",
       "17  Say goodbye to the rip-off banks         NY         Jan-1997      79.6%   \n",
       "18                             Chase         OH         Apr-1990      54.1%   \n",
       "19              Credit card paid off         CA         Jun-2003      37.2%   \n",
       "\n",
       "   initial_list_status application_type hardship_flag disbursement_method  \n",
       "0                    f       Individual             N                Cash  \n",
       "1                    f       Individual             N                Cash  \n",
       "2                    f       Individual             N                Cash  \n",
       "3                    f       Individual             N                Cash  \n",
       "4                    f       Individual             N                Cash  \n",
       "5                    f       Individual             N                Cash  \n",
       "6                    f       Individual             N                Cash  \n",
       "7                    f       Individual             N                Cash  \n",
       "8                    f       Individual             N                Cash  \n",
       "9                    f       Individual             N                Cash  \n",
       "10                   f       Individual             N                Cash  \n",
       "11                   f       Individual             N                Cash  \n",
       "12                   f       Individual             N                Cash  \n",
       "13                   f       Individual             N                Cash  \n",
       "14                   f       Individual             N                Cash  \n",
       "15                   f       Individual             N                Cash  \n",
       "16                   f       Individual             N                Cash  \n",
       "17                   f       Individual             N                Cash  \n",
       "18                   f       Individual             N                Cash  \n",
       "19                   f       Individual             N                Cash  "
      ]
     },
     "execution_count": 112,
     "metadata": {},
     "output_type": "execute_result"
    }
   ],
   "source": [
    "df2[char_cols].head(20)"
   ]
  },
  {
   "cell_type": "code",
   "execution_count": 113,
   "metadata": {},
   "outputs": [
    {
     "data": {
      "text/html": [
       "<div>\n",
       "<style scoped>\n",
       "    .dataframe tbody tr th:only-of-type {\n",
       "        vertical-align: middle;\n",
       "    }\n",
       "\n",
       "    .dataframe tbody tr th {\n",
       "        vertical-align: top;\n",
       "    }\n",
       "\n",
       "    .dataframe thead th {\n",
       "        text-align: right;\n",
       "    }\n",
       "</style>\n",
       "<table border=\"1\" class=\"dataframe\">\n",
       "  <thead>\n",
       "    <tr style=\"text-align: right;\">\n",
       "      <th></th>\n",
       "      <th>loan_amnt</th>\n",
       "      <th>funded_amnt</th>\n",
       "      <th>funded_amnt_inv</th>\n",
       "      <th>installment</th>\n",
       "      <th>annual_inc</th>\n",
       "      <th>dti</th>\n",
       "      <th>delinq_2yrs</th>\n",
       "      <th>fico_range_low</th>\n",
       "      <th>fico_range_high</th>\n",
       "      <th>inq_last_6mths</th>\n",
       "      <th>...</th>\n",
       "      <th>num_tl_90g_dpd_24m</th>\n",
       "      <th>num_tl_op_past_12m</th>\n",
       "      <th>pct_tl_nvr_dlq</th>\n",
       "      <th>percent_bc_gt_75</th>\n",
       "      <th>pub_rec_bankruptcies</th>\n",
       "      <th>tax_liens</th>\n",
       "      <th>tot_hi_cred_lim</th>\n",
       "      <th>total_bal_ex_mort</th>\n",
       "      <th>total_bc_limit</th>\n",
       "      <th>total_il_high_credit_limit</th>\n",
       "    </tr>\n",
       "  </thead>\n",
       "  <tbody>\n",
       "    <tr>\n",
       "      <th>0</th>\n",
       "      <td>15000.0</td>\n",
       "      <td>15000.0</td>\n",
       "      <td>15000.0</td>\n",
       "      <td>483.38</td>\n",
       "      <td>92000.0</td>\n",
       "      <td>29.44</td>\n",
       "      <td>0.0</td>\n",
       "      <td>730.0</td>\n",
       "      <td>734.0</td>\n",
       "      <td>0.0</td>\n",
       "      <td>...</td>\n",
       "      <td>NaN</td>\n",
       "      <td>NaN</td>\n",
       "      <td>NaN</td>\n",
       "      <td>NaN</td>\n",
       "      <td>0.0</td>\n",
       "      <td>0.0</td>\n",
       "      <td>NaN</td>\n",
       "      <td>NaN</td>\n",
       "      <td>NaN</td>\n",
       "      <td>NaN</td>\n",
       "    </tr>\n",
       "    <tr>\n",
       "      <th>1</th>\n",
       "      <td>5000.0</td>\n",
       "      <td>5000.0</td>\n",
       "      <td>5000.0</td>\n",
       "      <td>123.65</td>\n",
       "      <td>50004.0</td>\n",
       "      <td>13.97</td>\n",
       "      <td>3.0</td>\n",
       "      <td>675.0</td>\n",
       "      <td>679.0</td>\n",
       "      <td>0.0</td>\n",
       "      <td>...</td>\n",
       "      <td>NaN</td>\n",
       "      <td>NaN</td>\n",
       "      <td>NaN</td>\n",
       "      <td>NaN</td>\n",
       "      <td>0.0</td>\n",
       "      <td>0.0</td>\n",
       "      <td>NaN</td>\n",
       "      <td>NaN</td>\n",
       "      <td>NaN</td>\n",
       "      <td>NaN</td>\n",
       "    </tr>\n",
       "    <tr>\n",
       "      <th>2</th>\n",
       "      <td>7000.0</td>\n",
       "      <td>7000.0</td>\n",
       "      <td>7000.0</td>\n",
       "      <td>245.97</td>\n",
       "      <td>34000.0</td>\n",
       "      <td>6.35</td>\n",
       "      <td>0.0</td>\n",
       "      <td>675.0</td>\n",
       "      <td>679.0</td>\n",
       "      <td>1.0</td>\n",
       "      <td>...</td>\n",
       "      <td>NaN</td>\n",
       "      <td>NaN</td>\n",
       "      <td>NaN</td>\n",
       "      <td>NaN</td>\n",
       "      <td>0.0</td>\n",
       "      <td>0.0</td>\n",
       "      <td>NaN</td>\n",
       "      <td>NaN</td>\n",
       "      <td>NaN</td>\n",
       "      <td>NaN</td>\n",
       "    </tr>\n",
       "    <tr>\n",
       "      <th>3</th>\n",
       "      <td>3000.0</td>\n",
       "      <td>3000.0</td>\n",
       "      <td>3000.0</td>\n",
       "      <td>108.84</td>\n",
       "      <td>65000.0</td>\n",
       "      <td>17.39</td>\n",
       "      <td>0.0</td>\n",
       "      <td>670.0</td>\n",
       "      <td>674.0</td>\n",
       "      <td>0.0</td>\n",
       "      <td>...</td>\n",
       "      <td>NaN</td>\n",
       "      <td>NaN</td>\n",
       "      <td>NaN</td>\n",
       "      <td>NaN</td>\n",
       "      <td>0.0</td>\n",
       "      <td>0.0</td>\n",
       "      <td>NaN</td>\n",
       "      <td>NaN</td>\n",
       "      <td>NaN</td>\n",
       "      <td>NaN</td>\n",
       "    </tr>\n",
       "    <tr>\n",
       "      <th>4</th>\n",
       "      <td>6000.0</td>\n",
       "      <td>6000.0</td>\n",
       "      <td>6000.0</td>\n",
       "      <td>182.62</td>\n",
       "      <td>45600.0</td>\n",
       "      <td>5.34</td>\n",
       "      <td>0.0</td>\n",
       "      <td>790.0</td>\n",
       "      <td>794.0</td>\n",
       "      <td>1.0</td>\n",
       "      <td>...</td>\n",
       "      <td>NaN</td>\n",
       "      <td>NaN</td>\n",
       "      <td>NaN</td>\n",
       "      <td>NaN</td>\n",
       "      <td>0.0</td>\n",
       "      <td>0.0</td>\n",
       "      <td>NaN</td>\n",
       "      <td>NaN</td>\n",
       "      <td>NaN</td>\n",
       "      <td>NaN</td>\n",
       "    </tr>\n",
       "    <tr>\n",
       "      <th>5</th>\n",
       "      <td>10000.0</td>\n",
       "      <td>10000.0</td>\n",
       "      <td>10000.0</td>\n",
       "      <td>325.74</td>\n",
       "      <td>27000.0</td>\n",
       "      <td>11.47</td>\n",
       "      <td>0.0</td>\n",
       "      <td>700.0</td>\n",
       "      <td>704.0</td>\n",
       "      <td>0.0</td>\n",
       "      <td>...</td>\n",
       "      <td>NaN</td>\n",
       "      <td>NaN</td>\n",
       "      <td>NaN</td>\n",
       "      <td>NaN</td>\n",
       "      <td>0.0</td>\n",
       "      <td>0.0</td>\n",
       "      <td>NaN</td>\n",
       "      <td>NaN</td>\n",
       "      <td>NaN</td>\n",
       "      <td>NaN</td>\n",
       "    </tr>\n",
       "    <tr>\n",
       "      <th>6</th>\n",
       "      <td>17500.0</td>\n",
       "      <td>8950.0</td>\n",
       "      <td>8925.0</td>\n",
       "      <td>223.74</td>\n",
       "      <td>40000.0</td>\n",
       "      <td>19.47</td>\n",
       "      <td>0.0</td>\n",
       "      <td>705.0</td>\n",
       "      <td>709.0</td>\n",
       "      <td>1.0</td>\n",
       "      <td>...</td>\n",
       "      <td>NaN</td>\n",
       "      <td>NaN</td>\n",
       "      <td>NaN</td>\n",
       "      <td>NaN</td>\n",
       "      <td>0.0</td>\n",
       "      <td>0.0</td>\n",
       "      <td>NaN</td>\n",
       "      <td>NaN</td>\n",
       "      <td>NaN</td>\n",
       "      <td>NaN</td>\n",
       "    </tr>\n",
       "    <tr>\n",
       "      <th>7</th>\n",
       "      <td>10000.0</td>\n",
       "      <td>10000.0</td>\n",
       "      <td>9975.0</td>\n",
       "      <td>215.69</td>\n",
       "      <td>45996.0</td>\n",
       "      <td>21.73</td>\n",
       "      <td>0.0</td>\n",
       "      <td>755.0</td>\n",
       "      <td>759.0</td>\n",
       "      <td>1.0</td>\n",
       "      <td>...</td>\n",
       "      <td>NaN</td>\n",
       "      <td>NaN</td>\n",
       "      <td>NaN</td>\n",
       "      <td>NaN</td>\n",
       "      <td>0.0</td>\n",
       "      <td>0.0</td>\n",
       "      <td>NaN</td>\n",
       "      <td>NaN</td>\n",
       "      <td>NaN</td>\n",
       "      <td>NaN</td>\n",
       "    </tr>\n",
       "    <tr>\n",
       "      <th>8</th>\n",
       "      <td>16425.0</td>\n",
       "      <td>16425.0</td>\n",
       "      <td>16425.0</td>\n",
       "      <td>563.53</td>\n",
       "      <td>44544.0</td>\n",
       "      <td>22.71</td>\n",
       "      <td>0.0</td>\n",
       "      <td>695.0</td>\n",
       "      <td>699.0</td>\n",
       "      <td>1.0</td>\n",
       "      <td>...</td>\n",
       "      <td>NaN</td>\n",
       "      <td>NaN</td>\n",
       "      <td>NaN</td>\n",
       "      <td>NaN</td>\n",
       "      <td>0.0</td>\n",
       "      <td>0.0</td>\n",
       "      <td>NaN</td>\n",
       "      <td>NaN</td>\n",
       "      <td>NaN</td>\n",
       "      <td>NaN</td>\n",
       "    </tr>\n",
       "    <tr>\n",
       "      <th>9</th>\n",
       "      <td>8200.0</td>\n",
       "      <td>8200.0</td>\n",
       "      <td>8200.0</td>\n",
       "      <td>223.14</td>\n",
       "      <td>75000.0</td>\n",
       "      <td>12.48</td>\n",
       "      <td>0.0</td>\n",
       "      <td>675.0</td>\n",
       "      <td>679.0</td>\n",
       "      <td>3.0</td>\n",
       "      <td>...</td>\n",
       "      <td>NaN</td>\n",
       "      <td>NaN</td>\n",
       "      <td>NaN</td>\n",
       "      <td>NaN</td>\n",
       "      <td>0.0</td>\n",
       "      <td>0.0</td>\n",
       "      <td>NaN</td>\n",
       "      <td>NaN</td>\n",
       "      <td>NaN</td>\n",
       "      <td>NaN</td>\n",
       "    </tr>\n",
       "    <tr>\n",
       "      <th>10</th>\n",
       "      <td>20975.0</td>\n",
       "      <td>13575.0</td>\n",
       "      <td>13550.0</td>\n",
       "      <td>341.63</td>\n",
       "      <td>44000.0</td>\n",
       "      <td>18.79</td>\n",
       "      <td>0.0</td>\n",
       "      <td>685.0</td>\n",
       "      <td>689.0</td>\n",
       "      <td>0.0</td>\n",
       "      <td>...</td>\n",
       "      <td>NaN</td>\n",
       "      <td>NaN</td>\n",
       "      <td>NaN</td>\n",
       "      <td>NaN</td>\n",
       "      <td>1.0</td>\n",
       "      <td>0.0</td>\n",
       "      <td>NaN</td>\n",
       "      <td>NaN</td>\n",
       "      <td>NaN</td>\n",
       "      <td>NaN</td>\n",
       "    </tr>\n",
       "    <tr>\n",
       "      <th>11</th>\n",
       "      <td>14400.0</td>\n",
       "      <td>14400.0</td>\n",
       "      <td>14400.0</td>\n",
       "      <td>457.25</td>\n",
       "      <td>150000.0</td>\n",
       "      <td>14.85</td>\n",
       "      <td>0.0</td>\n",
       "      <td>720.0</td>\n",
       "      <td>724.0</td>\n",
       "      <td>0.0</td>\n",
       "      <td>...</td>\n",
       "      <td>NaN</td>\n",
       "      <td>NaN</td>\n",
       "      <td>NaN</td>\n",
       "      <td>NaN</td>\n",
       "      <td>0.0</td>\n",
       "      <td>0.0</td>\n",
       "      <td>NaN</td>\n",
       "      <td>NaN</td>\n",
       "      <td>NaN</td>\n",
       "      <td>NaN</td>\n",
       "    </tr>\n",
       "    <tr>\n",
       "      <th>12</th>\n",
       "      <td>7250.0</td>\n",
       "      <td>7200.0</td>\n",
       "      <td>7175.0</td>\n",
       "      <td>197.51</td>\n",
       "      <td>75000.0</td>\n",
       "      <td>24.82</td>\n",
       "      <td>0.0</td>\n",
       "      <td>680.0</td>\n",
       "      <td>684.0</td>\n",
       "      <td>2.0</td>\n",
       "      <td>...</td>\n",
       "      <td>NaN</td>\n",
       "      <td>NaN</td>\n",
       "      <td>NaN</td>\n",
       "      <td>NaN</td>\n",
       "      <td>1.0</td>\n",
       "      <td>0.0</td>\n",
       "      <td>NaN</td>\n",
       "      <td>NaN</td>\n",
       "      <td>NaN</td>\n",
       "      <td>NaN</td>\n",
       "    </tr>\n",
       "    <tr>\n",
       "      <th>13</th>\n",
       "      <td>12000.0</td>\n",
       "      <td>12000.0</td>\n",
       "      <td>12000.0</td>\n",
       "      <td>390.88</td>\n",
       "      <td>62000.0</td>\n",
       "      <td>23.94</td>\n",
       "      <td>0.0</td>\n",
       "      <td>700.0</td>\n",
       "      <td>704.0</td>\n",
       "      <td>0.0</td>\n",
       "      <td>...</td>\n",
       "      <td>NaN</td>\n",
       "      <td>NaN</td>\n",
       "      <td>NaN</td>\n",
       "      <td>NaN</td>\n",
       "      <td>0.0</td>\n",
       "      <td>0.0</td>\n",
       "      <td>NaN</td>\n",
       "      <td>NaN</td>\n",
       "      <td>NaN</td>\n",
       "      <td>NaN</td>\n",
       "    </tr>\n",
       "    <tr>\n",
       "      <th>14</th>\n",
       "      <td>3500.0</td>\n",
       "      <td>3500.0</td>\n",
       "      <td>3500.0</td>\n",
       "      <td>106.53</td>\n",
       "      <td>83000.0</td>\n",
       "      <td>2.31</td>\n",
       "      <td>0.0</td>\n",
       "      <td>745.0</td>\n",
       "      <td>749.0</td>\n",
       "      <td>0.0</td>\n",
       "      <td>...</td>\n",
       "      <td>NaN</td>\n",
       "      <td>NaN</td>\n",
       "      <td>NaN</td>\n",
       "      <td>NaN</td>\n",
       "      <td>0.0</td>\n",
       "      <td>0.0</td>\n",
       "      <td>NaN</td>\n",
       "      <td>NaN</td>\n",
       "      <td>NaN</td>\n",
       "      <td>NaN</td>\n",
       "    </tr>\n",
       "    <tr>\n",
       "      <th>15</th>\n",
       "      <td>6000.0</td>\n",
       "      <td>6000.0</td>\n",
       "      <td>6000.0</td>\n",
       "      <td>135.57</td>\n",
       "      <td>81000.0</td>\n",
       "      <td>13.66</td>\n",
       "      <td>1.0</td>\n",
       "      <td>695.0</td>\n",
       "      <td>699.0</td>\n",
       "      <td>0.0</td>\n",
       "      <td>...</td>\n",
       "      <td>NaN</td>\n",
       "      <td>NaN</td>\n",
       "      <td>NaN</td>\n",
       "      <td>NaN</td>\n",
       "      <td>0.0</td>\n",
       "      <td>0.0</td>\n",
       "      <td>NaN</td>\n",
       "      <td>NaN</td>\n",
       "      <td>NaN</td>\n",
       "      <td>NaN</td>\n",
       "    </tr>\n",
       "    <tr>\n",
       "      <th>16</th>\n",
       "      <td>16000.0</td>\n",
       "      <td>16000.0</td>\n",
       "      <td>16000.0</td>\n",
       "      <td>402.65</td>\n",
       "      <td>65000.0</td>\n",
       "      <td>15.56</td>\n",
       "      <td>0.0</td>\n",
       "      <td>695.0</td>\n",
       "      <td>699.0</td>\n",
       "      <td>0.0</td>\n",
       "      <td>...</td>\n",
       "      <td>NaN</td>\n",
       "      <td>NaN</td>\n",
       "      <td>NaN</td>\n",
       "      <td>NaN</td>\n",
       "      <td>0.0</td>\n",
       "      <td>0.0</td>\n",
       "      <td>NaN</td>\n",
       "      <td>NaN</td>\n",
       "      <td>NaN</td>\n",
       "      <td>NaN</td>\n",
       "    </tr>\n",
       "    <tr>\n",
       "      <th>17</th>\n",
       "      <td>7200.0</td>\n",
       "      <td>7200.0</td>\n",
       "      <td>7200.0</td>\n",
       "      <td>232.02</td>\n",
       "      <td>135000.0</td>\n",
       "      <td>6.12</td>\n",
       "      <td>0.0</td>\n",
       "      <td>695.0</td>\n",
       "      <td>699.0</td>\n",
       "      <td>0.0</td>\n",
       "      <td>...</td>\n",
       "      <td>NaN</td>\n",
       "      <td>NaN</td>\n",
       "      <td>NaN</td>\n",
       "      <td>NaN</td>\n",
       "      <td>0.0</td>\n",
       "      <td>0.0</td>\n",
       "      <td>NaN</td>\n",
       "      <td>NaN</td>\n",
       "      <td>NaN</td>\n",
       "      <td>NaN</td>\n",
       "    </tr>\n",
       "    <tr>\n",
       "      <th>18</th>\n",
       "      <td>12000.0</td>\n",
       "      <td>12000.0</td>\n",
       "      <td>12000.0</td>\n",
       "      <td>396.92</td>\n",
       "      <td>126000.0</td>\n",
       "      <td>13.32</td>\n",
       "      <td>0.0</td>\n",
       "      <td>695.0</td>\n",
       "      <td>699.0</td>\n",
       "      <td>0.0</td>\n",
       "      <td>...</td>\n",
       "      <td>NaN</td>\n",
       "      <td>NaN</td>\n",
       "      <td>NaN</td>\n",
       "      <td>NaN</td>\n",
       "      <td>0.0</td>\n",
       "      <td>0.0</td>\n",
       "      <td>NaN</td>\n",
       "      <td>NaN</td>\n",
       "      <td>NaN</td>\n",
       "      <td>NaN</td>\n",
       "    </tr>\n",
       "    <tr>\n",
       "      <th>19</th>\n",
       "      <td>10000.0</td>\n",
       "      <td>10000.0</td>\n",
       "      <td>10000.0</td>\n",
       "      <td>312.91</td>\n",
       "      <td>43000.0</td>\n",
       "      <td>25.26</td>\n",
       "      <td>0.0</td>\n",
       "      <td>730.0</td>\n",
       "      <td>734.0</td>\n",
       "      <td>0.0</td>\n",
       "      <td>...</td>\n",
       "      <td>NaN</td>\n",
       "      <td>NaN</td>\n",
       "      <td>NaN</td>\n",
       "      <td>NaN</td>\n",
       "      <td>0.0</td>\n",
       "      <td>0.0</td>\n",
       "      <td>NaN</td>\n",
       "      <td>NaN</td>\n",
       "      <td>NaN</td>\n",
       "      <td>NaN</td>\n",
       "    </tr>\n",
       "  </tbody>\n",
       "</table>\n",
       "<p>20 rows × 58 columns</p>\n",
       "</div>"
      ],
      "text/plain": [
       "    loan_amnt  funded_amnt  funded_amnt_inv  installment  annual_inc    dti  \\\n",
       "0     15000.0      15000.0          15000.0       483.38     92000.0  29.44   \n",
       "1      5000.0       5000.0           5000.0       123.65     50004.0  13.97   \n",
       "2      7000.0       7000.0           7000.0       245.97     34000.0   6.35   \n",
       "3      3000.0       3000.0           3000.0       108.84     65000.0  17.39   \n",
       "4      6000.0       6000.0           6000.0       182.62     45600.0   5.34   \n",
       "5     10000.0      10000.0          10000.0       325.74     27000.0  11.47   \n",
       "6     17500.0       8950.0           8925.0       223.74     40000.0  19.47   \n",
       "7     10000.0      10000.0           9975.0       215.69     45996.0  21.73   \n",
       "8     16425.0      16425.0          16425.0       563.53     44544.0  22.71   \n",
       "9      8200.0       8200.0           8200.0       223.14     75000.0  12.48   \n",
       "10    20975.0      13575.0          13550.0       341.63     44000.0  18.79   \n",
       "11    14400.0      14400.0          14400.0       457.25    150000.0  14.85   \n",
       "12     7250.0       7200.0           7175.0       197.51     75000.0  24.82   \n",
       "13    12000.0      12000.0          12000.0       390.88     62000.0  23.94   \n",
       "14     3500.0       3500.0           3500.0       106.53     83000.0   2.31   \n",
       "15     6000.0       6000.0           6000.0       135.57     81000.0  13.66   \n",
       "16    16000.0      16000.0          16000.0       402.65     65000.0  15.56   \n",
       "17     7200.0       7200.0           7200.0       232.02    135000.0   6.12   \n",
       "18    12000.0      12000.0          12000.0       396.92    126000.0  13.32   \n",
       "19    10000.0      10000.0          10000.0       312.91     43000.0  25.26   \n",
       "\n",
       "    delinq_2yrs  fico_range_low  fico_range_high  inq_last_6mths  \\\n",
       "0           0.0           730.0            734.0             0.0   \n",
       "1           3.0           675.0            679.0             0.0   \n",
       "2           0.0           675.0            679.0             1.0   \n",
       "3           0.0           670.0            674.0             0.0   \n",
       "4           0.0           790.0            794.0             1.0   \n",
       "5           0.0           700.0            704.0             0.0   \n",
       "6           0.0           705.0            709.0             1.0   \n",
       "7           0.0           755.0            759.0             1.0   \n",
       "8           0.0           695.0            699.0             1.0   \n",
       "9           0.0           675.0            679.0             3.0   \n",
       "10          0.0           685.0            689.0             0.0   \n",
       "11          0.0           720.0            724.0             0.0   \n",
       "12          0.0           680.0            684.0             2.0   \n",
       "13          0.0           700.0            704.0             0.0   \n",
       "14          0.0           745.0            749.0             0.0   \n",
       "15          1.0           695.0            699.0             0.0   \n",
       "16          0.0           695.0            699.0             0.0   \n",
       "17          0.0           695.0            699.0             0.0   \n",
       "18          0.0           695.0            699.0             0.0   \n",
       "19          0.0           730.0            734.0             0.0   \n",
       "\n",
       "               ...              num_tl_90g_dpd_24m  num_tl_op_past_12m  \\\n",
       "0              ...                             NaN                 NaN   \n",
       "1              ...                             NaN                 NaN   \n",
       "2              ...                             NaN                 NaN   \n",
       "3              ...                             NaN                 NaN   \n",
       "4              ...                             NaN                 NaN   \n",
       "5              ...                             NaN                 NaN   \n",
       "6              ...                             NaN                 NaN   \n",
       "7              ...                             NaN                 NaN   \n",
       "8              ...                             NaN                 NaN   \n",
       "9              ...                             NaN                 NaN   \n",
       "10             ...                             NaN                 NaN   \n",
       "11             ...                             NaN                 NaN   \n",
       "12             ...                             NaN                 NaN   \n",
       "13             ...                             NaN                 NaN   \n",
       "14             ...                             NaN                 NaN   \n",
       "15             ...                             NaN                 NaN   \n",
       "16             ...                             NaN                 NaN   \n",
       "17             ...                             NaN                 NaN   \n",
       "18             ...                             NaN                 NaN   \n",
       "19             ...                             NaN                 NaN   \n",
       "\n",
       "    pct_tl_nvr_dlq  percent_bc_gt_75  pub_rec_bankruptcies  tax_liens  \\\n",
       "0              NaN               NaN                   0.0        0.0   \n",
       "1              NaN               NaN                   0.0        0.0   \n",
       "2              NaN               NaN                   0.0        0.0   \n",
       "3              NaN               NaN                   0.0        0.0   \n",
       "4              NaN               NaN                   0.0        0.0   \n",
       "5              NaN               NaN                   0.0        0.0   \n",
       "6              NaN               NaN                   0.0        0.0   \n",
       "7              NaN               NaN                   0.0        0.0   \n",
       "8              NaN               NaN                   0.0        0.0   \n",
       "9              NaN               NaN                   0.0        0.0   \n",
       "10             NaN               NaN                   1.0        0.0   \n",
       "11             NaN               NaN                   0.0        0.0   \n",
       "12             NaN               NaN                   1.0        0.0   \n",
       "13             NaN               NaN                   0.0        0.0   \n",
       "14             NaN               NaN                   0.0        0.0   \n",
       "15             NaN               NaN                   0.0        0.0   \n",
       "16             NaN               NaN                   0.0        0.0   \n",
       "17             NaN               NaN                   0.0        0.0   \n",
       "18             NaN               NaN                   0.0        0.0   \n",
       "19             NaN               NaN                   0.0        0.0   \n",
       "\n",
       "    tot_hi_cred_lim  total_bal_ex_mort  total_bc_limit  \\\n",
       "0               NaN                NaN             NaN   \n",
       "1               NaN                NaN             NaN   \n",
       "2               NaN                NaN             NaN   \n",
       "3               NaN                NaN             NaN   \n",
       "4               NaN                NaN             NaN   \n",
       "5               NaN                NaN             NaN   \n",
       "6               NaN                NaN             NaN   \n",
       "7               NaN                NaN             NaN   \n",
       "8               NaN                NaN             NaN   \n",
       "9               NaN                NaN             NaN   \n",
       "10              NaN                NaN             NaN   \n",
       "11              NaN                NaN             NaN   \n",
       "12              NaN                NaN             NaN   \n",
       "13              NaN                NaN             NaN   \n",
       "14              NaN                NaN             NaN   \n",
       "15              NaN                NaN             NaN   \n",
       "16              NaN                NaN             NaN   \n",
       "17              NaN                NaN             NaN   \n",
       "18              NaN                NaN             NaN   \n",
       "19              NaN                NaN             NaN   \n",
       "\n",
       "    total_il_high_credit_limit  \n",
       "0                          NaN  \n",
       "1                          NaN  \n",
       "2                          NaN  \n",
       "3                          NaN  \n",
       "4                          NaN  \n",
       "5                          NaN  \n",
       "6                          NaN  \n",
       "7                          NaN  \n",
       "8                          NaN  \n",
       "9                          NaN  \n",
       "10                         NaN  \n",
       "11                         NaN  \n",
       "12                         NaN  \n",
       "13                         NaN  \n",
       "14                         NaN  \n",
       "15                         NaN  \n",
       "16                         NaN  \n",
       "17                         NaN  \n",
       "18                         NaN  \n",
       "19                         NaN  \n",
       "\n",
       "[20 rows x 58 columns]"
      ]
     },
     "execution_count": 113,
     "metadata": {},
     "output_type": "execute_result"
    }
   ],
   "source": [
    "df2[num_cols].head(20)"
   ]
  },
  {
   "cell_type": "markdown",
   "metadata": {},
   "source": [
    "### 2. Feature Engineering"
   ]
  },
  {
   "cell_type": "markdown",
   "metadata": {},
   "source": [
    "#### * convert revol_util and int_rate to numeric data type"
   ]
  },
  {
   "cell_type": "code",
   "execution_count": 114,
   "metadata": {},
   "outputs": [],
   "source": [
    "df2['revol_util'] = df2['revol_util'].astype('str').apply(lambda x: float(x.strip('%'))).astype('float')"
   ]
  },
  {
   "cell_type": "code",
   "execution_count": 115,
   "metadata": {},
   "outputs": [],
   "source": [
    "df2['int_rate'] = df2['int_rate'].astype('str').apply(lambda x: float(x.strip('%'))).astype('float')"
   ]
  },
  {
   "cell_type": "markdown",
   "metadata": {},
   "source": [
    "#### * calculate credit history length = Month between \"issue_d\"  and  \"earliest_cr_line\""
   ]
  },
  {
   "cell_type": "code",
   "execution_count": 116,
   "metadata": {},
   "outputs": [
    {
     "data": {
      "text/plain": [
       "0   2011-12-01\n",
       "1   2011-12-01\n",
       "2   2011-12-01\n",
       "3   2011-12-01\n",
       "4   2011-12-01\n",
       "Name: issue_d, dtype: datetime64[ns]"
      ]
     },
     "execution_count": 116,
     "metadata": {},
     "output_type": "execute_result"
    }
   ],
   "source": [
    "pd.to_datetime(df['issue_d']).head()"
   ]
  },
  {
   "cell_type": "code",
   "execution_count": 117,
   "metadata": {},
   "outputs": [],
   "source": [
    "import datetime as dt\n",
    "from dateutil import relativedelta\n",
    "df2['credit_length']= pd.to_datetime(df['issue_d']).dt.to_period('M') - pd.to_datetime(df2['earliest_cr_line']).dt.to_period('M')"
   ]
  },
  {
   "cell_type": "code",
   "execution_count": 118,
   "metadata": {},
   "outputs": [],
   "source": [
    "df2['credit_length'] = df2['credit_length'].astype('int64')"
   ]
  },
  {
   "cell_type": "markdown",
   "metadata": {},
   "source": [
    "#### * group \"addr_state\" into regions to decrease the levels of categorical variable"
   ]
  },
  {
   "cell_type": "code",
   "execution_count": 119,
   "metadata": {},
   "outputs": [
    {
     "data": {
      "text/plain": [
       "array(['IL', 'PA', 'CA', 'LA', 'NY', 'OH', 'GA', 'TX', 'CO', 'KS', 'FL',\n",
       "       'NJ', 'MD', 'DC', 'WA', 'WI', 'SD', 'VA', 'CT', 'MI', 'MA', 'AK',\n",
       "       'HI', 'AZ', 'OK', 'NC', 'AL', 'MN', 'OR', 'SC', 'NV', 'RI', 'MO',\n",
       "       'VT', 'NH', 'UT', 'AR', 'MT', 'KY', 'NM', 'WV', 'DE', 'TN', 'WY',\n",
       "       'MS', 'ID', 'ME', 'IA', 'NE', 'IN', 'ND'], dtype=object)"
      ]
     },
     "execution_count": 119,
     "metadata": {},
     "output_type": "execute_result"
    }
   ],
   "source": [
    "df2['addr_state'].unique()"
   ]
  },
  {
   "cell_type": "code",
   "execution_count": 120,
   "metadata": {},
   "outputs": [],
   "source": [
    "# Make a list with each of the regions by state.\n",
    "west = ['CA', 'OR', 'UT','WA', 'CO', 'NV', 'AK', 'MT', 'HI', 'WY', 'ID']\n",
    "south_west = ['AZ', 'TX', 'NM', 'OK']\n",
    "south_east = ['GA', 'NC', 'VA', 'FL', 'KY', 'SC', 'LA', 'AL', 'WV', 'DC', 'AR', 'DE', 'MS', 'TN' ]\n",
    "mid_west = ['IL', 'MO', 'MN', 'OH', 'WI', 'KS', 'MI', 'SD', 'IA', 'NE', 'IN', 'ND']\n",
    "north_east = ['CT', 'NY', 'PA', 'NJ', 'RI','MA', 'MD', 'VT', 'NH', 'ME']\n",
    "\n",
    "df2['Region'] = df2['addr_state'].apply(lambda x:'West' if x in west else \"South West\" if x in south_west else 'South East' if x in south_east\\\n",
    "                                       else 'Mid West' if x in mid_west else \"North East\")"
   ]
  },
  {
   "cell_type": "code",
   "execution_count": 121,
   "metadata": {},
   "outputs": [
    {
     "data": {
      "text/html": [
       "<div>\n",
       "<style scoped>\n",
       "    .dataframe tbody tr th:only-of-type {\n",
       "        vertical-align: middle;\n",
       "    }\n",
       "\n",
       "    .dataframe tbody tr th {\n",
       "        vertical-align: top;\n",
       "    }\n",
       "\n",
       "    .dataframe thead th {\n",
       "        text-align: right;\n",
       "    }\n",
       "</style>\n",
       "<table border=\"1\" class=\"dataframe\">\n",
       "  <thead>\n",
       "    <tr style=\"text-align: right;\">\n",
       "      <th></th>\n",
       "      <th>Region</th>\n",
       "      <th>addr_state</th>\n",
       "    </tr>\n",
       "  </thead>\n",
       "  <tbody>\n",
       "    <tr>\n",
       "      <th>0</th>\n",
       "      <td>Mid West</td>\n",
       "      <td>IL</td>\n",
       "    </tr>\n",
       "    <tr>\n",
       "      <th>1</th>\n",
       "      <td>North East</td>\n",
       "      <td>PA</td>\n",
       "    </tr>\n",
       "    <tr>\n",
       "      <th>2</th>\n",
       "      <td>West</td>\n",
       "      <td>CA</td>\n",
       "    </tr>\n",
       "    <tr>\n",
       "      <th>3</th>\n",
       "      <td>North East</td>\n",
       "      <td>PA</td>\n",
       "    </tr>\n",
       "    <tr>\n",
       "      <th>4</th>\n",
       "      <td>South East</td>\n",
       "      <td>LA</td>\n",
       "    </tr>\n",
       "  </tbody>\n",
       "</table>\n",
       "</div>"
      ],
      "text/plain": [
       "       Region addr_state\n",
       "0    Mid West         IL\n",
       "1  North East         PA\n",
       "2        West         CA\n",
       "3  North East         PA\n",
       "4  South East         LA"
      ]
     },
     "execution_count": 121,
     "metadata": {},
     "output_type": "execute_result"
    }
   ],
   "source": [
    "df2[['Region','addr_state']].head()"
   ]
  },
  {
   "cell_type": "code",
   "execution_count": 122,
   "metadata": {},
   "outputs": [
    {
     "data": {
      "text/plain": [
       "term                       0\n",
       "int_rate                   0\n",
       "grade                      0\n",
       "sub_grade                  0\n",
       "emp_length             17971\n",
       "home_ownership             0\n",
       "verification_status        0\n",
       "loan_status                0\n",
       "purpose                    0\n",
       "title                   3989\n",
       "addr_state                 0\n",
       "earliest_cr_line           4\n",
       "revol_util               190\n",
       "initial_list_status        0\n",
       "application_type           0\n",
       "hardship_flag              0\n",
       "disbursement_method        0\n",
       "dtype: int64"
      ]
     },
     "execution_count": 122,
     "metadata": {},
     "output_type": "execute_result"
    }
   ],
   "source": [
    "df2[char_cols].isnull().sum()"
   ]
  },
  {
   "cell_type": "markdown",
   "metadata": {},
   "source": [
    "#### * label encoding emp_length since it has ordinal meaning, one-hot encoding will remove that layer of meaning"
   ]
  },
  {
   "cell_type": "code",
   "execution_count": 123,
   "metadata": {},
   "outputs": [
    {
     "data": {
      "text/plain": [
       "10+ years    100010\n",
       "2 years       27217\n",
       "< 1 year      25100\n",
       "3 years       23785\n",
       "1 year        19670\n",
       "5 years       18590\n",
       "4 years       17963\n",
       "6 years       13840\n",
       "8 years       12812\n",
       "7 years       12771\n",
       "9 years       11328\n",
       "Name: emp_length, dtype: int64"
      ]
     },
     "execution_count": 123,
     "metadata": {},
     "output_type": "execute_result"
    }
   ],
   "source": [
    "df2.emp_length.value_counts()"
   ]
  },
  {
   "cell_type": "code",
   "execution_count": 124,
   "metadata": {},
   "outputs": [],
   "source": [
    "df2['emp_length_num']= df2.emp_length.apply(lambda x: 10 if x=='10+ years' else 9 if x=='9 years' else 8 if x=='8 years'\\\n",
    "                                           else 7 if x=='7 years' else 6 if x=='6 years' else 5 if x=='5 years' \\\n",
    "                                            else 4 if x=='4 years' else 3 if x=='3 years' else 2 if x=='2 years' else 1)"
   ]
  },
  {
   "cell_type": "markdown",
   "metadata": {},
   "source": [
    "#### * summarize loan_status into 3 levels"
   ]
  },
  {
   "cell_type": "code",
   "execution_count": 125,
   "metadata": {},
   "outputs": [
    {
     "data": {
      "text/plain": [
       "Current                                                135530\n",
       "Fully Paid                                             126622\n",
       "Charged Off                                             32383\n",
       "Late (31-120 days)                                       3544\n",
       "In Grace Period                                          1424\n",
       "Late (16-30 days)                                         992\n",
       "Does not meet the credit policy. Status:Fully Paid        334\n",
       "Does not meet the credit policy. Status:Charged Off       134\n",
       "Default                                                    74\n",
       "Issued                                                     20\n",
       "Name: loan_status, dtype: int64"
      ]
     },
     "execution_count": 125,
     "metadata": {},
     "output_type": "execute_result"
    }
   ],
   "source": [
    "df2['loan_status'].value_counts()"
   ]
  },
  {
   "cell_type": "code",
   "execution_count": 126,
   "metadata": {},
   "outputs": [],
   "source": [
    "bad_loan = [\"Charged Off\", \"Default\", \"In Grace Period\", 'Does not meet the credit policy. Status:Charged Off'\n",
    "            \"Late (16-30 days)\", \"Late (31-120 days)\"]\n",
    "good_loan = ['Fully Paid','Does not meet the credit policy. Status:Fully Paid']"
   ]
  },
  {
   "cell_type": "code",
   "execution_count": 127,
   "metadata": {},
   "outputs": [],
   "source": [
    "df2['loan_condition'] = df['loan_status'].apply(lambda x: 1 if x in bad_loan else 0 if x in good_loan else 2)"
   ]
  },
  {
   "cell_type": "markdown",
   "metadata": {},
   "source": [
    "* 1= bad loan , 0=good loan, 2=current. Only 1 and 2 will be used in the model training to learn the general default loan pattern. 2 will be used for model prediction."
   ]
  },
  {
   "cell_type": "markdown",
   "metadata": {},
   "source": [
    "#### * apply one hot encoding to the rest of categorical features"
   ]
  },
  {
   "cell_type": "code",
   "execution_count": 128,
   "metadata": {},
   "outputs": [
    {
     "data": {
      "text/plain": [
       "Index(['term', 'grade', 'sub_grade', 'emp_length', 'home_ownership',\n",
       "       'verification_status', 'loan_status', 'purpose', 'title', 'addr_state',\n",
       "       'earliest_cr_line', 'initial_list_status', 'application_type',\n",
       "       'hardship_flag', 'disbursement_method', 'Region'],\n",
       "      dtype='object')"
      ]
     },
     "execution_count": 128,
     "metadata": {},
     "output_type": "execute_result"
    }
   ],
   "source": [
    "char_cols = df2.dtypes.pipe(lambda x: x[x == 'object']).index\n",
    "df2[char_cols].columns"
   ]
  },
  {
   "cell_type": "code",
   "execution_count": 129,
   "metadata": {},
   "outputs": [],
   "source": [
    "df3=pd.get_dummies(df2.drop(['emp_length','loan_status','sub_grade','title','addr_state','earliest_cr_line','out_prncp_inv'],axis=1),drop_first=True)"
   ]
  },
  {
   "cell_type": "code",
   "execution_count": 130,
   "metadata": {},
   "outputs": [
    {
     "data": {
      "text/html": [
       "<div>\n",
       "<style scoped>\n",
       "    .dataframe tbody tr th:only-of-type {\n",
       "        vertical-align: middle;\n",
       "    }\n",
       "\n",
       "    .dataframe tbody tr th {\n",
       "        vertical-align: top;\n",
       "    }\n",
       "\n",
       "    .dataframe thead th {\n",
       "        text-align: right;\n",
       "    }\n",
       "</style>\n",
       "<table border=\"1\" class=\"dataframe\">\n",
       "  <thead>\n",
       "    <tr style=\"text-align: right;\">\n",
       "      <th></th>\n",
       "      <th>loan_amnt</th>\n",
       "      <th>funded_amnt</th>\n",
       "      <th>funded_amnt_inv</th>\n",
       "      <th>int_rate</th>\n",
       "      <th>installment</th>\n",
       "      <th>annual_inc</th>\n",
       "      <th>dti</th>\n",
       "      <th>delinq_2yrs</th>\n",
       "      <th>fico_range_low</th>\n",
       "      <th>fico_range_high</th>\n",
       "      <th>...</th>\n",
       "      <th>purpose_vacation</th>\n",
       "      <th>purpose_wedding</th>\n",
       "      <th>initial_list_status_w</th>\n",
       "      <th>application_type_Joint App</th>\n",
       "      <th>hardship_flag_Y</th>\n",
       "      <th>disbursement_method_DirectPay</th>\n",
       "      <th>Region_North East</th>\n",
       "      <th>Region_South East</th>\n",
       "      <th>Region_South West</th>\n",
       "      <th>Region_West</th>\n",
       "    </tr>\n",
       "  </thead>\n",
       "  <tbody>\n",
       "    <tr>\n",
       "      <th>0</th>\n",
       "      <td>15000.0</td>\n",
       "      <td>15000.0</td>\n",
       "      <td>15000.0</td>\n",
       "      <td>9.91</td>\n",
       "      <td>483.38</td>\n",
       "      <td>92000.0</td>\n",
       "      <td>29.44</td>\n",
       "      <td>0.0</td>\n",
       "      <td>730.0</td>\n",
       "      <td>734.0</td>\n",
       "      <td>...</td>\n",
       "      <td>0</td>\n",
       "      <td>0</td>\n",
       "      <td>0</td>\n",
       "      <td>0</td>\n",
       "      <td>0</td>\n",
       "      <td>0</td>\n",
       "      <td>0</td>\n",
       "      <td>0</td>\n",
       "      <td>0</td>\n",
       "      <td>0</td>\n",
       "    </tr>\n",
       "    <tr>\n",
       "      <th>1</th>\n",
       "      <td>5000.0</td>\n",
       "      <td>5000.0</td>\n",
       "      <td>5000.0</td>\n",
       "      <td>16.77</td>\n",
       "      <td>123.65</td>\n",
       "      <td>50004.0</td>\n",
       "      <td>13.97</td>\n",
       "      <td>3.0</td>\n",
       "      <td>675.0</td>\n",
       "      <td>679.0</td>\n",
       "      <td>...</td>\n",
       "      <td>0</td>\n",
       "      <td>0</td>\n",
       "      <td>0</td>\n",
       "      <td>0</td>\n",
       "      <td>0</td>\n",
       "      <td>0</td>\n",
       "      <td>1</td>\n",
       "      <td>0</td>\n",
       "      <td>0</td>\n",
       "      <td>0</td>\n",
       "    </tr>\n",
       "    <tr>\n",
       "      <th>2</th>\n",
       "      <td>7000.0</td>\n",
       "      <td>7000.0</td>\n",
       "      <td>7000.0</td>\n",
       "      <td>15.96</td>\n",
       "      <td>245.97</td>\n",
       "      <td>34000.0</td>\n",
       "      <td>6.35</td>\n",
       "      <td>0.0</td>\n",
       "      <td>675.0</td>\n",
       "      <td>679.0</td>\n",
       "      <td>...</td>\n",
       "      <td>0</td>\n",
       "      <td>0</td>\n",
       "      <td>0</td>\n",
       "      <td>0</td>\n",
       "      <td>0</td>\n",
       "      <td>0</td>\n",
       "      <td>0</td>\n",
       "      <td>0</td>\n",
       "      <td>0</td>\n",
       "      <td>1</td>\n",
       "    </tr>\n",
       "    <tr>\n",
       "      <th>3</th>\n",
       "      <td>3000.0</td>\n",
       "      <td>3000.0</td>\n",
       "      <td>3000.0</td>\n",
       "      <td>18.25</td>\n",
       "      <td>108.84</td>\n",
       "      <td>65000.0</td>\n",
       "      <td>17.39</td>\n",
       "      <td>0.0</td>\n",
       "      <td>670.0</td>\n",
       "      <td>674.0</td>\n",
       "      <td>...</td>\n",
       "      <td>0</td>\n",
       "      <td>0</td>\n",
       "      <td>0</td>\n",
       "      <td>0</td>\n",
       "      <td>0</td>\n",
       "      <td>0</td>\n",
       "      <td>1</td>\n",
       "      <td>0</td>\n",
       "      <td>0</td>\n",
       "      <td>0</td>\n",
       "    </tr>\n",
       "    <tr>\n",
       "      <th>4</th>\n",
       "      <td>6000.0</td>\n",
       "      <td>6000.0</td>\n",
       "      <td>6000.0</td>\n",
       "      <td>6.03</td>\n",
       "      <td>182.62</td>\n",
       "      <td>45600.0</td>\n",
       "      <td>5.34</td>\n",
       "      <td>0.0</td>\n",
       "      <td>790.0</td>\n",
       "      <td>794.0</td>\n",
       "      <td>...</td>\n",
       "      <td>0</td>\n",
       "      <td>0</td>\n",
       "      <td>0</td>\n",
       "      <td>0</td>\n",
       "      <td>0</td>\n",
       "      <td>0</td>\n",
       "      <td>0</td>\n",
       "      <td>1</td>\n",
       "      <td>0</td>\n",
       "      <td>0</td>\n",
       "    </tr>\n",
       "  </tbody>\n",
       "</table>\n",
       "<p>5 rows × 97 columns</p>\n",
       "</div>"
      ],
      "text/plain": [
       "   loan_amnt  funded_amnt  funded_amnt_inv  int_rate  installment  annual_inc  \\\n",
       "0    15000.0      15000.0          15000.0      9.91       483.38     92000.0   \n",
       "1     5000.0       5000.0           5000.0     16.77       123.65     50004.0   \n",
       "2     7000.0       7000.0           7000.0     15.96       245.97     34000.0   \n",
       "3     3000.0       3000.0           3000.0     18.25       108.84     65000.0   \n",
       "4     6000.0       6000.0           6000.0      6.03       182.62     45600.0   \n",
       "\n",
       "     dti  delinq_2yrs  fico_range_low  fico_range_high     ...       \\\n",
       "0  29.44          0.0           730.0            734.0     ...        \n",
       "1  13.97          3.0           675.0            679.0     ...        \n",
       "2   6.35          0.0           675.0            679.0     ...        \n",
       "3  17.39          0.0           670.0            674.0     ...        \n",
       "4   5.34          0.0           790.0            794.0     ...        \n",
       "\n",
       "   purpose_vacation  purpose_wedding  initial_list_status_w  \\\n",
       "0                 0                0                      0   \n",
       "1                 0                0                      0   \n",
       "2                 0                0                      0   \n",
       "3                 0                0                      0   \n",
       "4                 0                0                      0   \n",
       "\n",
       "   application_type_Joint App  hardship_flag_Y  disbursement_method_DirectPay  \\\n",
       "0                           0                0                              0   \n",
       "1                           0                0                              0   \n",
       "2                           0                0                              0   \n",
       "3                           0                0                              0   \n",
       "4                           0                0                              0   \n",
       "\n",
       "   Region_North East  Region_South East  Region_South West  Region_West  \n",
       "0                  0                  0                  0            0  \n",
       "1                  1                  0                  0            0  \n",
       "2                  0                  0                  0            1  \n",
       "3                  1                  0                  0            0  \n",
       "4                  0                  1                  0            0  \n",
       "\n",
       "[5 rows x 97 columns]"
      ]
     },
     "execution_count": 130,
     "metadata": {},
     "output_type": "execute_result"
    }
   ],
   "source": [
    "df3.head()"
   ]
  },
  {
   "cell_type": "code",
   "execution_count": 131,
   "metadata": {},
   "outputs": [],
   "source": [
    "model_df = df3.loc[df3.loan_condition !=2,:] ## all loans but current ones\n",
    "prediction_df = df3.loc[df3.loan_condition ==2,:] # current loans"
   ]
  },
  {
   "cell_type": "code",
   "execution_count": 132,
   "metadata": {},
   "outputs": [],
   "source": [
    "model_df.to_csv('model_df.csv',header=True, index=False)\n",
    "prediction_df.to_csv('prediction_df.csv',header=True, index=True)"
   ]
  },
  {
   "cell_type": "code",
   "execution_count": 39,
   "metadata": {},
   "outputs": [
    {
     "data": {
      "text/plain": [
       "Text(0.5,0.98,'Distribution of Loan Conditions')"
      ]
     },
     "execution_count": 39,
     "metadata": {},
     "output_type": "execute_result"
    },
    {
     "data": {
      "image/png": "[encoded data removed]",
      "text/plain": [
       "<Figure size 432x288 with 1 Axes>"
      ]
     },
     "metadata": {},
     "output_type": "display_data"
    }
   ],
   "source": [
    "colors = [\"#3791D7\", \"#D72626\"]\n",
    "labels =\"Good Loans\", \"Bad Loans\"\n",
    "\n",
    "model_df[\"loan_condition\"].value_counts().plot.pie(explode=[0,0.25], autopct='%1.2f%%', shadow=True, colors=colors, \n",
    "                                             labels=labels, fontsize=20, startangle=70)\n",
    "plt.suptitle('Distribution of Loan Conditions', fontsize=20)\n"
   ]
  },
  {
   "cell_type": "markdown",
   "metadata": {},
   "source": [
    "## 3. Build default prediction models"
   ]
  },
  {
   "cell_type": "code",
   "execution_count": 6,
   "metadata": {},
   "outputs": [],
   "source": [
    "model_df =pd.read_csv('model_df.csv')"
   ]
  },
  {
   "cell_type": "code",
   "execution_count": 9,
   "metadata": {},
   "outputs": [],
   "source": [
    "from sklearn.model_selection import train_test_split\n",
    "from sklearn.preprocessing import Imputer"
   ]
  },
  {
   "cell_type": "code",
   "execution_count": 10,
   "metadata": {},
   "outputs": [],
   "source": [
    "x_train,x_test,y_train,y_test = \\\n",
    "train_test_split(model_df.drop('loan_condition',axis=1),model_df['loan_condition'], test_size= 0.3)"
   ]
  },
  {
   "cell_type": "code",
   "execution_count": 11,
   "metadata": {},
   "outputs": [
    {
     "data": {
      "text/plain": [
       "(115066, 96)"
      ]
     },
     "execution_count": 11,
     "metadata": {},
     "output_type": "execute_result"
    }
   ],
   "source": [
    "x_train.shape"
   ]
  },
  {
   "cell_type": "code",
   "execution_count": 12,
   "metadata": {},
   "outputs": [
    {
     "name": "stdout",
     "output_type": "stream",
     "text": [
      "0    0.773095\n",
      "1    0.226905\n",
      "Name: loan_condition, dtype: float64\n",
      "0    0.770536\n",
      "1    0.229464\n",
      "Name: loan_condition, dtype: float64\n"
     ]
    }
   ],
   "source": [
    "print(y_train.value_counts()/len(y_train))\n",
    "print(y_test.value_counts()/len(y_test))"
   ]
  },
  {
   "cell_type": "code",
   "execution_count": 13,
   "metadata": {},
   "outputs": [
    {
     "data": {
      "text/plain": [
       "acc_now_delinq                    2\n",
       "acc_open_past_24mths           5843\n",
       "avg_cur_bal                    8175\n",
       "bc_open_to_buy                 6993\n",
       "bc_util                        7072\n",
       "chargeoff_within_12_mths         17\n",
       "collections_12_mths_ex_med       17\n",
       "delinq_2yrs                       2\n",
       "delinq_amnt                       2\n",
       "dti                               8\n",
       "inq_last_6mths                    2\n",
       "mo_sin_old_il_acct            11336\n",
       "mo_sin_old_rev_tl_op           8172\n",
       "mo_sin_rcnt_rev_tl_op          8172\n",
       "mo_sin_rcnt_tl                 8172\n",
       "mort_acc                       5843\n",
       "mths_since_recent_bc           6909\n",
       "mths_since_recent_inq         15881\n",
       "num_accts_ever_120_pd          8172\n",
       "num_actv_bc_tl                 8172\n",
       "num_actv_rev_tl                8172\n",
       "num_bc_sats                    6795\n",
       "num_bc_tl                      8172\n",
       "num_il_tl                      8172\n",
       "num_op_rev_tl                  8172\n",
       "num_rev_accts                  8172\n",
       "num_rev_tl_bal_gt_0            8172\n",
       "num_sats                       6795\n",
       "num_tl_120dpd_2m              12073\n",
       "num_tl_30dpd                   8172\n",
       "num_tl_90g_dpd_24m             8172\n",
       "num_tl_op_past_12m             8172\n",
       "open_acc                          2\n",
       "pct_tl_nvr_dlq                 8189\n",
       "percent_bc_gt_75               7018\n",
       "pub_rec                           2\n",
       "pub_rec_bankruptcies            134\n",
       "revol_util                       70\n",
       "tax_liens                        14\n",
       "tot_coll_amt                   8172\n",
       "tot_cur_bal                    8172\n",
       "tot_hi_cred_lim                8172\n",
       "total_acc                         2\n",
       "total_bal_ex_mort              5843\n",
       "total_bc_limit                 5843\n",
       "total_il_high_credit_limit     8172\n",
       "total_rev_hi_lim               8172\n",
       "dtype: int64"
      ]
     },
     "execution_count": 13,
     "metadata": {},
     "output_type": "execute_result"
    }
   ],
   "source": [
    "a = x_train.isnull().sum().sort_values(ascending=False)\n",
    "x_train.isnull().sum()[a>0].sort_index()"
   ]
  },
  {
   "cell_type": "code",
   "execution_count": 159,
   "metadata": {},
   "outputs": [],
   "source": [
    "#x_train.isnull().sum()[a==0].sort_index()"
   ]
  },
  {
   "cell_type": "code",
   "execution_count": 15,
   "metadata": {},
   "outputs": [],
   "source": [
    "x_train.drop(['last_pymnt_amnt','last_fico_range_high','last_fico_range_low'],axis=1, inplace=True)\n",
    "## these 3 features leak information about borrowers current payment and credit status, we won't be able to know this \n",
    "## in the stage when the loan is issued. "
   ]
  },
  {
   "cell_type": "markdown",
   "metadata": {},
   "source": [
    "#### Impute missing values"
   ]
  },
  {
   "cell_type": "code",
   "execution_count": 16,
   "metadata": {},
   "outputs": [],
   "source": [
    "imr=Imputer(strategy='median',axis=0)#If axis=0, then impute along columns.\n",
    "x_train_2 = imr.fit_transform(x_train)"
   ]
  },
  {
   "cell_type": "markdown",
   "metadata": {},
   "source": [
    "### Random Forest Classifier"
   ]
  },
  {
   "cell_type": "code",
   "execution_count": 48,
   "metadata": {},
   "outputs": [],
   "source": [
    "from sklearn.ensemble import RandomForestClassifier\n",
    "from sklearn.model_selection import GridSearchCV"
   ]
  },
  {
   "cell_type": "code",
   "execution_count": 50,
   "metadata": {},
   "outputs": [
    {
     "data": {
      "text/plain": [
       "GridSearchCV(cv=4, error_score='raise',\n",
       "       estimator=RandomForestClassifier(bootstrap=True, class_weight=None, criterion='gini',\n",
       "            max_depth=None, max_features='auto', max_leaf_nodes=None,\n",
       "            min_impurity_decrease=0.0, min_impurity_split=None,\n",
       "            min_samples_leaf=1, min_samples_split=2,\n",
       "            min_weight_fraction_leaf=0.0, n_estimators=10, n_jobs=1,\n",
       "            oob_score=True, random_state=None, verbose=0, warm_start=False),\n",
       "       fit_params=None, iid=True, n_jobs=-1,\n",
       "       param_grid={'n_estimators': [50, 100], 'max_depth': [10, 15], 'min_samples_split': [8, 10, 12]},\n",
       "       pre_dispatch='2*n_jobs', refit=True, return_train_score='warn',\n",
       "       scoring=None, verbose=0)"
      ]
     },
     "execution_count": 50,
     "metadata": {},
     "output_type": "execute_result"
    }
   ],
   "source": [
    "rf=RandomForestClassifier(oob_score=True)\n",
    "params = {'n_estimators':[50,100], 'max_depth':[10,15],'min_samples_split': [8, 10, 12]}\n",
    "grid_rf = GridSearchCV(rf, params , cv=4, n_jobs=-1)\n",
    "grid_rf.fit(x_train_2,y_train)"
   ]
  },
  {
   "cell_type": "code",
   "execution_count": 51,
   "metadata": {},
   "outputs": [
    {
     "data": {
      "text/plain": [
       "{'max_depth': 15, 'min_samples_split': 8, 'n_estimators': 100}"
      ]
     },
     "execution_count": 51,
     "metadata": {},
     "output_type": "execute_result"
    }
   ],
   "source": [
    "grid_rf.best_params_"
   ]
  },
  {
   "cell_type": "code",
   "execution_count": 52,
   "metadata": {},
   "outputs": [],
   "source": [
    "best_rf = grid_rf.best_estimator_"
   ]
  },
  {
   "cell_type": "code",
   "execution_count": 41,
   "metadata": {},
   "outputs": [],
   "source": [
    "from sklearn.metrics import accuracy_score\n",
    "from sklearn.metrics import roc_auc_score, auc\n",
    "from sklearn.metrics import f1_score\n",
    "from sklearn.metrics import recall_score\n",
    "from sklearn.metrics import precision_score\n",
    "from sklearn.metrics import classification_report\n",
    "from sklearn.metrics import confusion_matrix\n",
    "def model_performance (model, true_label, predicted_label):\n",
    "    print(classification_report(true_label,predicted_label))\n",
    "    print('roc_auc_score for '+ model +' model is {}'.format(roc_auc_score(true_label,predicted_label)))\n",
    "    print('accuracy_score for '+ model +' model is {}'.format(accuracy_score(true_label,predicted_label)))\n",
    "    print('recall_score for '+ model +' model is {}'.format(recall_score(true_label,predicted_label)))\n",
    "    print(confusion_matrix(true_label,predicted_label))"
   ]
  },
  {
   "cell_type": "markdown",
   "metadata": {},
   "source": [
    "#### Random Forest model performance report"
   ]
  },
  {
   "cell_type": "code",
   "execution_count": 54,
   "metadata": {},
   "outputs": [
    {
     "name": "stdout",
     "output_type": "stream",
     "text": [
      "             precision    recall  f1-score   support\n",
      "\n",
      "          0       0.83      1.00      0.91     88835\n",
      "          1       0.99      0.30      0.46     26231\n",
      "\n",
      "avg / total       0.87      0.84      0.81    115066\n",
      "\n",
      "roc_auc_score for random forest model is 0.6508071662606943\n",
      "accuracy_score for random forest model is 0.8404741626544766\n",
      "recall_score for random forest model is 0.3021996873927795\n",
      "[[88783    52]\n",
      " [18304  7927]]\n"
     ]
    }
   ],
   "source": [
    "model_performance('random forest' , y_train, best_rf.predict(x_train_2))"
   ]
  },
  {
   "cell_type": "code",
   "execution_count": 55,
   "metadata": {},
   "outputs": [
    {
     "data": {
      "text/plain": [
       "(array([0.  , 0.01, 0.02, 0.03, 0.04, 0.05, 0.06, 0.07, 0.08, 0.09]),\n",
       " <a list of 10 Text xticklabel objects>)"
      ]
     },
     "execution_count": 55,
     "metadata": {},
     "output_type": "execute_result"
    },
    {
     "data": {
      "image/png": "[encoded data removed]",
      "text/plain": [
       "<Figure size 1440x1152 with 1 Axes>"
      ]
     },
     "metadata": {},
     "output_type": "display_data"
    }
   ],
   "source": [
    "feature_importance=pd.Series(best_rf.feature_importances_ , index=x_train.columns).sort_values()\n",
    "fig = plt.figure(figsize = (20,16));\n",
    "feature_importance[50:].plot.barh()\n",
    "plt.title('feature importance of Randorm Forest',fontsize=20)\n",
    "plt.yticks(fontsize=13)\n",
    "plt.xticks(fontsize=13)"
   ]
  },
  {
   "cell_type": "code",
   "execution_count": 20,
   "metadata": {},
   "outputs": [],
   "source": [
    "x_test.drop(['last_pymnt_amnt','last_fico_range_high','last_fico_range_low'],axis=1, inplace=True)\n",
    "x_test_2= imr.transform(x_test)"
   ]
  },
  {
   "cell_type": "code",
   "execution_count": 21,
   "metadata": {},
   "outputs": [],
   "source": [
    "#y_pred = best_rf.predict(x_test_2)\n",
    "y_pred = np.where(best_rf.predict_proba(x_test_2)[:,1] > 0.3, 1, 0)\n",
    "## change the decision threshold from probability 0.5 to 0.3"
   ]
  },
  {
   "cell_type": "code",
   "execution_count": 59,
   "metadata": {},
   "outputs": [
    {
     "name": "stdout",
     "output_type": "stream",
     "text": [
      "             precision    recall  f1-score   support\n",
      "\n",
      "          0       0.84      0.81      0.82     38121\n",
      "          1       0.42      0.48      0.45     11194\n",
      "\n",
      "avg / total       0.75      0.73      0.74     49315\n",
      "\n",
      "roc_auc_score for random forest model is 0.6428466235727386\n",
      "accuracy_score for random forest model is 0.7331846294230964\n",
      "recall_score for random forest model is 0.47739860639628373\n",
      "[[30813  7308]\n",
      " [ 5850  5344]]\n"
     ]
    }
   ],
   "source": [
    "model_performance('random forest' , y_test, y_pred)"
   ]
  },
  {
   "cell_type": "code",
   "execution_count": 22,
   "metadata": {},
   "outputs": [],
   "source": [
    "from sklearn.metrics import roc_curve\n",
    "def plot_roc_curve(y_train,y_train_prob,y_test, y_test_prob, model):\n",
    "    fpr, tpr, threshold = roc_curve(y_train, y_train_prob)\n",
    "    fpr_test, tpr_test, threshold_test = roc_curve(y_test, y_test_prob)\n",
    "    roc_auc_train = auc(fpr, tpr)\n",
    "    roc_auc_test = auc(fpr_test, tpr_test)\n",
    "    \n",
    "    #plot roc curve\n",
    "    plt.figure()\n",
    "    plt.title('Receiver Operating Characteristic of ' + model)\n",
    "    plt.plot(fpr, tpr, 'b', label = 'Training AUC = %0.2f' % roc_auc_train)\n",
    "    plt.plot(fpr_test, tpr_test, 'r', label = 'Test AUC = %0.2f' % roc_auc_test)\n",
    "    plt.legend(loc = 'lower right')\n",
    "    plt.plot([0, 1], [0, 1],'k--')\n",
    "    plt.xlim([-0.05, 1])\n",
    "    plt.ylim([0, 1.05])\n",
    "    plt.ylabel('True Positive Rate')\n",
    "    plt.xlabel('False Positive Rate')\n",
    "    plt.show()"
   ]
  },
  {
   "cell_type": "code",
   "execution_count": 61,
   "metadata": {},
   "outputs": [
    {
     "data": {
      "image/png": "[encoded data removed]",
      "text/plain": [
       "<Figure size 432x288 with 1 Axes>"
      ]
     },
     "metadata": {},
     "output_type": "display_data"
    }
   ],
   "source": [
    "plot_roc_curve(y_train, best_rf.predict_proba(x_train_2)[:,1],\\\n",
    "    y_test, best_rf.predict_proba(x_test_2)[:,1],'Random Forest')"
   ]
  },
  {
   "cell_type": "markdown",
   "metadata": {},
   "source": [
    "* Test set AUC is 0.2 lower than training set, indicating it's a little overfitting on the training set. The model parameters can be more finely tuned"
   ]
  },
  {
   "cell_type": "markdown",
   "metadata": {},
   "source": [
    "### Gradient Boosting Tree Classifier"
   ]
  },
  {
   "cell_type": "code",
   "execution_count": 23,
   "metadata": {},
   "outputs": [],
   "source": [
    "import xgboost as xgb\n",
    "from xgboost import XGBClassifier"
   ]
  },
  {
   "cell_type": "code",
   "execution_count": 29,
   "metadata": {},
   "outputs": [],
   "source": [
    "params = {'max_depth':12,'min_child_weight':3,'eta':0.1,\\\n",
    "          'subsample':0.8, 'colsample_bytree':0.8,'objective':'binary:logistic'}\n",
    "Dtrain = xgb.DMatrix(x_train_2,y_train)\n",
    "Dtest = xgb.DMatrix(x_test_2,y_test)\n",
    "#xgbmodel= XGBClassifier(**params)\n",
    "#grid_xgb = GridSearchCV(estimator=xgbmodel,param_grid =params, scoring='roc_auc', cv=4)"
   ]
  },
  {
   "cell_type": "code",
   "execution_count": 62,
   "metadata": {},
   "outputs": [
    {
     "data": {
      "text/html": [
       "<div>\n",
       "<style scoped>\n",
       "    .dataframe tbody tr th:only-of-type {\n",
       "        vertical-align: middle;\n",
       "    }\n",
       "\n",
       "    .dataframe tbody tr th {\n",
       "        vertical-align: top;\n",
       "    }\n",
       "\n",
       "    .dataframe thead th {\n",
       "        text-align: right;\n",
       "    }\n",
       "</style>\n",
       "<table border=\"1\" class=\"dataframe\">\n",
       "  <thead>\n",
       "    <tr style=\"text-align: right;\">\n",
       "      <th></th>\n",
       "      <th>train-auc-mean</th>\n",
       "      <th>train-auc-std</th>\n",
       "      <th>train-logloss-mean</th>\n",
       "      <th>train-logloss-std</th>\n",
       "      <th>test-auc-mean</th>\n",
       "      <th>test-auc-std</th>\n",
       "      <th>test-logloss-mean</th>\n",
       "      <th>test-logloss-std</th>\n",
       "    </tr>\n",
       "  </thead>\n",
       "  <tbody>\n",
       "    <tr>\n",
       "      <th>0</th>\n",
       "      <td>0.754568</td>\n",
       "      <td>0.002063</td>\n",
       "      <td>0.653525</td>\n",
       "      <td>0.000444</td>\n",
       "      <td>0.656697</td>\n",
       "      <td>0.003343</td>\n",
       "      <td>0.659414</td>\n",
       "      <td>0.000327</td>\n",
       "    </tr>\n",
       "    <tr>\n",
       "      <th>1</th>\n",
       "      <td>0.792451</td>\n",
       "      <td>0.002826</td>\n",
       "      <td>0.619695</td>\n",
       "      <td>0.000716</td>\n",
       "      <td>0.674792</td>\n",
       "      <td>0.004656</td>\n",
       "      <td>0.631476</td>\n",
       "      <td>0.000769</td>\n",
       "    </tr>\n",
       "    <tr>\n",
       "      <th>2</th>\n",
       "      <td>0.814305</td>\n",
       "      <td>0.002434</td>\n",
       "      <td>0.590477</td>\n",
       "      <td>0.000598</td>\n",
       "      <td>0.683387</td>\n",
       "      <td>0.004491</td>\n",
       "      <td>0.608420</td>\n",
       "      <td>0.001201</td>\n",
       "    </tr>\n",
       "    <tr>\n",
       "      <th>3</th>\n",
       "      <td>0.826668</td>\n",
       "      <td>0.003506</td>\n",
       "      <td>0.565591</td>\n",
       "      <td>0.000869</td>\n",
       "      <td>0.688050</td>\n",
       "      <td>0.004353</td>\n",
       "      <td>0.589260</td>\n",
       "      <td>0.001448</td>\n",
       "    </tr>\n",
       "    <tr>\n",
       "      <th>4</th>\n",
       "      <td>0.836697</td>\n",
       "      <td>0.002808</td>\n",
       "      <td>0.543988</td>\n",
       "      <td>0.000945</td>\n",
       "      <td>0.691762</td>\n",
       "      <td>0.004232</td>\n",
       "      <td>0.573097</td>\n",
       "      <td>0.001713</td>\n",
       "    </tr>\n",
       "    <tr>\n",
       "      <th>5</th>\n",
       "      <td>0.843978</td>\n",
       "      <td>0.003136</td>\n",
       "      <td>0.525174</td>\n",
       "      <td>0.000997</td>\n",
       "      <td>0.694876</td>\n",
       "      <td>0.004038</td>\n",
       "      <td>0.559490</td>\n",
       "      <td>0.001931</td>\n",
       "    </tr>\n",
       "    <tr>\n",
       "      <th>6</th>\n",
       "      <td>0.850382</td>\n",
       "      <td>0.002746</td>\n",
       "      <td>0.508502</td>\n",
       "      <td>0.001022</td>\n",
       "      <td>0.697027</td>\n",
       "      <td>0.004519</td>\n",
       "      <td>0.547978</td>\n",
       "      <td>0.002137</td>\n",
       "    </tr>\n",
       "    <tr>\n",
       "      <th>7</th>\n",
       "      <td>0.856154</td>\n",
       "      <td>0.001992</td>\n",
       "      <td>0.493774</td>\n",
       "      <td>0.000745</td>\n",
       "      <td>0.698538</td>\n",
       "      <td>0.004376</td>\n",
       "      <td>0.538364</td>\n",
       "      <td>0.002418</td>\n",
       "    </tr>\n",
       "    <tr>\n",
       "      <th>8</th>\n",
       "      <td>0.862501</td>\n",
       "      <td>0.001194</td>\n",
       "      <td>0.480411</td>\n",
       "      <td>0.000926</td>\n",
       "      <td>0.699993</td>\n",
       "      <td>0.004514</td>\n",
       "      <td>0.530166</td>\n",
       "      <td>0.002551</td>\n",
       "    </tr>\n",
       "    <tr>\n",
       "      <th>9</th>\n",
       "      <td>0.867913</td>\n",
       "      <td>0.001230</td>\n",
       "      <td>0.468432</td>\n",
       "      <td>0.000971</td>\n",
       "      <td>0.700846</td>\n",
       "      <td>0.004590</td>\n",
       "      <td>0.523273</td>\n",
       "      <td>0.002709</td>\n",
       "    </tr>\n",
       "    <tr>\n",
       "      <th>10</th>\n",
       "      <td>0.872268</td>\n",
       "      <td>0.001648</td>\n",
       "      <td>0.457888</td>\n",
       "      <td>0.001110</td>\n",
       "      <td>0.701956</td>\n",
       "      <td>0.004273</td>\n",
       "      <td>0.517351</td>\n",
       "      <td>0.002773</td>\n",
       "    </tr>\n",
       "    <tr>\n",
       "      <th>11</th>\n",
       "      <td>0.876628</td>\n",
       "      <td>0.002246</td>\n",
       "      <td>0.448394</td>\n",
       "      <td>0.001257</td>\n",
       "      <td>0.703172</td>\n",
       "      <td>0.004288</td>\n",
       "      <td>0.512254</td>\n",
       "      <td>0.002900</td>\n",
       "    </tr>\n",
       "    <tr>\n",
       "      <th>12</th>\n",
       "      <td>0.881660</td>\n",
       "      <td>0.002200</td>\n",
       "      <td>0.439118</td>\n",
       "      <td>0.001316</td>\n",
       "      <td>0.703531</td>\n",
       "      <td>0.003841</td>\n",
       "      <td>0.508060</td>\n",
       "      <td>0.002965</td>\n",
       "    </tr>\n",
       "    <tr>\n",
       "      <th>13</th>\n",
       "      <td>0.885582</td>\n",
       "      <td>0.002397</td>\n",
       "      <td>0.431152</td>\n",
       "      <td>0.001312</td>\n",
       "      <td>0.703877</td>\n",
       "      <td>0.004086</td>\n",
       "      <td>0.504597</td>\n",
       "      <td>0.003128</td>\n",
       "    </tr>\n",
       "    <tr>\n",
       "      <th>14</th>\n",
       "      <td>0.889822</td>\n",
       "      <td>0.002809</td>\n",
       "      <td>0.423521</td>\n",
       "      <td>0.001519</td>\n",
       "      <td>0.704711</td>\n",
       "      <td>0.003631</td>\n",
       "      <td>0.501502</td>\n",
       "      <td>0.003031</td>\n",
       "    </tr>\n",
       "    <tr>\n",
       "      <th>15</th>\n",
       "      <td>0.893819</td>\n",
       "      <td>0.002690</td>\n",
       "      <td>0.416656</td>\n",
       "      <td>0.001622</td>\n",
       "      <td>0.705373</td>\n",
       "      <td>0.003486</td>\n",
       "      <td>0.498853</td>\n",
       "      <td>0.003092</td>\n",
       "    </tr>\n",
       "    <tr>\n",
       "      <th>16</th>\n",
       "      <td>0.897344</td>\n",
       "      <td>0.002475</td>\n",
       "      <td>0.410337</td>\n",
       "      <td>0.001566</td>\n",
       "      <td>0.705812</td>\n",
       "      <td>0.003782</td>\n",
       "      <td>0.496654</td>\n",
       "      <td>0.003292</td>\n",
       "    </tr>\n",
       "    <tr>\n",
       "      <th>17</th>\n",
       "      <td>0.900306</td>\n",
       "      <td>0.002510</td>\n",
       "      <td>0.404506</td>\n",
       "      <td>0.001770</td>\n",
       "      <td>0.706290</td>\n",
       "      <td>0.003891</td>\n",
       "      <td>0.494723</td>\n",
       "      <td>0.003489</td>\n",
       "    </tr>\n",
       "    <tr>\n",
       "      <th>18</th>\n",
       "      <td>0.903153</td>\n",
       "      <td>0.002343</td>\n",
       "      <td>0.399051</td>\n",
       "      <td>0.001972</td>\n",
       "      <td>0.706860</td>\n",
       "      <td>0.003716</td>\n",
       "      <td>0.493107</td>\n",
       "      <td>0.003525</td>\n",
       "    </tr>\n",
       "    <tr>\n",
       "      <th>19</th>\n",
       "      <td>0.906163</td>\n",
       "      <td>0.002582</td>\n",
       "      <td>0.393968</td>\n",
       "      <td>0.002282</td>\n",
       "      <td>0.707714</td>\n",
       "      <td>0.003862</td>\n",
       "      <td>0.491645</td>\n",
       "      <td>0.003659</td>\n",
       "    </tr>\n",
       "  </tbody>\n",
       "</table>\n",
       "</div>"
      ],
      "text/plain": [
       "    train-auc-mean  train-auc-std  train-logloss-mean  train-logloss-std  \\\n",
       "0         0.754568       0.002063            0.653525           0.000444   \n",
       "1         0.792451       0.002826            0.619695           0.000716   \n",
       "2         0.814305       0.002434            0.590477           0.000598   \n",
       "3         0.826668       0.003506            0.565591           0.000869   \n",
       "4         0.836697       0.002808            0.543988           0.000945   \n",
       "5         0.843978       0.003136            0.525174           0.000997   \n",
       "6         0.850382       0.002746            0.508502           0.001022   \n",
       "7         0.856154       0.001992            0.493774           0.000745   \n",
       "8         0.862501       0.001194            0.480411           0.000926   \n",
       "9         0.867913       0.001230            0.468432           0.000971   \n",
       "10        0.872268       0.001648            0.457888           0.001110   \n",
       "11        0.876628       0.002246            0.448394           0.001257   \n",
       "12        0.881660       0.002200            0.439118           0.001316   \n",
       "13        0.885582       0.002397            0.431152           0.001312   \n",
       "14        0.889822       0.002809            0.423521           0.001519   \n",
       "15        0.893819       0.002690            0.416656           0.001622   \n",
       "16        0.897344       0.002475            0.410337           0.001566   \n",
       "17        0.900306       0.002510            0.404506           0.001770   \n",
       "18        0.903153       0.002343            0.399051           0.001972   \n",
       "19        0.906163       0.002582            0.393968           0.002282   \n",
       "\n",
       "    test-auc-mean  test-auc-std  test-logloss-mean  test-logloss-std  \n",
       "0        0.656697      0.003343           0.659414          0.000327  \n",
       "1        0.674792      0.004656           0.631476          0.000769  \n",
       "2        0.683387      0.004491           0.608420          0.001201  \n",
       "3        0.688050      0.004353           0.589260          0.001448  \n",
       "4        0.691762      0.004232           0.573097          0.001713  \n",
       "5        0.694876      0.004038           0.559490          0.001931  \n",
       "6        0.697027      0.004519           0.547978          0.002137  \n",
       "7        0.698538      0.004376           0.538364          0.002418  \n",
       "8        0.699993      0.004514           0.530166          0.002551  \n",
       "9        0.700846      0.004590           0.523273          0.002709  \n",
       "10       0.701956      0.004273           0.517351          0.002773  \n",
       "11       0.703172      0.004288           0.512254          0.002900  \n",
       "12       0.703531      0.003841           0.508060          0.002965  \n",
       "13       0.703877      0.004086           0.504597          0.003128  \n",
       "14       0.704711      0.003631           0.501502          0.003031  \n",
       "15       0.705373      0.003486           0.498853          0.003092  \n",
       "16       0.705812      0.003782           0.496654          0.003292  \n",
       "17       0.706290      0.003891           0.494723          0.003489  \n",
       "18       0.706860      0.003716           0.493107          0.003525  \n",
       "19       0.707714      0.003862           0.491645          0.003659  "
      ]
     },
     "execution_count": 62,
     "metadata": {},
     "output_type": "execute_result"
    }
   ],
   "source": [
    "#grid_xgb.fit(x_train_2,y_train)\n",
    "xgb.cv(params, Dtrain, num_boost_round=20,nfold=4,metrics=['auc','logloss'],early_stopping_rounds=5,verbose_eval=False)"
   ]
  },
  {
   "cell_type": "code",
   "execution_count": 34,
   "metadata": {},
   "outputs": [],
   "source": [
    "clf = xgb.XGBClassifier(**params)\n",
    "\n",
    "clf.fit(x_train_2, y_train,\n",
    "        eval_set=[(x_train_2, y_train), (x_test_2, y_test)],\n",
    "        eval_metric=['auc','logloss'], verbose=False,\n",
    "        early_stopping_rounds=4)\n",
    "\n",
    "evals_result = clf.evals_result()"
   ]
  },
  {
   "cell_type": "markdown",
   "metadata": {},
   "source": [
    "#### Distribution of predicted probability of default "
   ]
  },
  {
   "cell_type": "code",
   "execution_count": 53,
   "metadata": {},
   "outputs": [
    {
     "name": "stderr",
     "output_type": "stream",
     "text": [
      "/Users/lalago31/anaconda3/lib/python3.6/site-packages/matplotlib/axes/_axes.py:6462: UserWarning: The 'normed' kwarg is deprecated, and has been replaced by the 'density' kwarg.\n",
      "  warnings.warn(\"The 'normed' kwarg is deprecated, and has been \"\n"
     ]
    },
    {
     "data": {
      "text/plain": [
       "Text(0.5,1,'Distribution of Predicted Probability of Default')"
      ]
     },
     "execution_count": 53,
     "metadata": {},
     "output_type": "execute_result"
    },
    {
     "data": {
      "image/png": "[encoded data removed]",
      "text/plain": [
       "<Figure size 432x288 with 1 Axes>"
      ]
     },
     "metadata": {},
     "output_type": "display_data"
    }
   ],
   "source": [
    "import seaborn as sns\n",
    "sns.distplot(clf.predict_proba(x_train_2)[:,1], bins=50)\n",
    "plt.title('Distribution of Predicted Probability of Default')"
   ]
  },
  {
   "cell_type": "code",
   "execution_count": 59,
   "metadata": {},
   "outputs": [
    {
     "name": "stdout",
     "output_type": "stream",
     "text": [
      "The 25% percentile of the probability of default is 0.10062437132000923\n",
      "The 50% percentile of the probability of default is 0.17396390438079834\n",
      "The 75% percentile of the probability of default is 0.3065590336918831\n"
     ]
    }
   ],
   "source": [
    "print('The 25% percentile of the probability of default is {}'.format(np.percentile(clf.predict_proba(x_train_2)[:,1],[25,50,75])[0]))\n",
    "print('The 50% percentile of the probability of default is {}'.format(np.percentile(clf.predict_proba(x_train_2)[:,1],[25,50,75])[1]))\n",
    "print('The 75% percentile of the probability of default is {}'.format(np.percentile(clf.predict_proba(x_train_2)[:,1],[25,50,75])[2]))"
   ]
  },
  {
   "cell_type": "markdown",
   "metadata": {},
   "source": [
    "* notice that the distrition of loan condition chart above shows that 77% of the overall loan porfolio are good loans, about 23% are bad loans. So I'll choose the cut-off threshold to be the 75% percentile, which is 0.3 in probability"
   ]
  },
  {
   "cell_type": "code",
   "execution_count": 43,
   "metadata": {},
   "outputs": [],
   "source": [
    "y_pred_xgb = np.where(clf.predict_proba(x_test_2)[:,1] > 0.3, 1, 0)"
   ]
  },
  {
   "cell_type": "markdown",
   "metadata": {},
   "source": [
    "#### GBDT model performance report"
   ]
  },
  {
   "cell_type": "code",
   "execution_count": 44,
   "metadata": {},
   "outputs": [
    {
     "name": "stdout",
     "output_type": "stream",
     "text": [
      "             precision    recall  f1-score   support\n",
      "\n",
      "          0       0.84      0.81      0.82     37999\n",
      "          1       0.43      0.47      0.45     11316\n",
      "\n",
      "avg / total       0.74      0.73      0.74     49315\n",
      "\n",
      "roc_auc_score for Gradient Boosting Tree model is 0.6421282320865526\n",
      "accuracy_score for Gradient Boosting Tree model is 0.7333265740646862\n",
      "recall_score for Gradient Boosting Tree model is 0.4735772357723577\n",
      "[[30805  7194]\n",
      " [ 5957  5359]]\n"
     ]
    }
   ],
   "source": [
    "model_performance('Gradient Boosting Tree' , y_test, y_pred_xgb)"
   ]
  },
  {
   "cell_type": "code",
   "execution_count": 45,
   "metadata": {},
   "outputs": [
    {
     "data": {
      "image/png": "[encoded data removed]",
      "text/plain": [
       "<Figure size 432x288 with 1 Axes>"
      ]
     },
     "metadata": {},
     "output_type": "display_data"
    }
   ],
   "source": [
    "plot_roc_curve(y_train, clf.predict_proba(x_train_2)[:,1],\\\n",
    "    y_test, clf.predict_proba(x_test_2)[:,1],'Gradient Boosting Tree')"
   ]
  },
  {
   "cell_type": "code",
   "execution_count": 47,
   "metadata": {},
   "outputs": [
    {
     "data": {
      "text/plain": [
       "(array([0.  , 0.01, 0.02, 0.03, 0.04, 0.05, 0.06]),\n",
       " <a list of 7 Text xticklabel objects>)"
      ]
     },
     "execution_count": 47,
     "metadata": {},
     "output_type": "execute_result"
    },
    {
     "data": {
      "image/png": "[encoded data removed]",
      "text/plain": [
       "<Figure size 1440x1152 with 1 Axes>"
      ]
     },
     "metadata": {},
     "output_type": "display_data"
    }
   ],
   "source": [
    "feature_importance=pd.Series(clf.feature_importances_ , index=x_train.columns).sort_values()\n",
    "fig = plt.figure(figsize = (20,16));\n",
    "feature_importance[50:].plot.barh()\n",
    "plt.title('feature importance from GBDT',fontsize=20)\n",
    "plt.yticks(fontsize=13)\n",
    "plt.xticks(fontsize=13)"
   ]
  },
  {
   "cell_type": "markdown",
   "metadata": {},
   "source": [
    "### Predict on the \"Current\" Loans to see which loans have high predicted probability of default"
   ]
  },
  {
   "cell_type": "code",
   "execution_count": 133,
   "metadata": {},
   "outputs": [],
   "source": [
    "current_loan = pd.read_csv('prediction_df.csv')"
   ]
  },
  {
   "cell_type": "code",
   "execution_count": 140,
   "metadata": {},
   "outputs": [],
   "source": [
    "current_loan = current_loan.set_index('Unnamed: 0')"
   ]
  },
  {
   "cell_type": "code",
   "execution_count": 149,
   "metadata": {},
   "outputs": [
    {
     "data": {
      "text/plain": [
       "(136676, 94)"
      ]
     },
     "execution_count": 149,
     "metadata": {},
     "output_type": "execute_result"
    }
   ],
   "source": [
    "current_loan.shape"
   ]
  },
  {
   "cell_type": "code",
   "execution_count": 135,
   "metadata": {},
   "outputs": [],
   "source": [
    "current_loan.drop(['last_pymnt_amnt','last_fico_range_high','last_fico_range_low'],axis=1, inplace=True)"
   ]
  },
  {
   "cell_type": "code",
   "execution_count": 142,
   "metadata": {},
   "outputs": [],
   "source": [
    "predict_df = current_loan.drop('loan_condition',axis=1).copy()"
   ]
  },
  {
   "cell_type": "code",
   "execution_count": 143,
   "metadata": {},
   "outputs": [],
   "source": [
    "predict_df2 = imr.transform(predict_df)"
   ]
  },
  {
   "cell_type": "code",
   "execution_count": 144,
   "metadata": {},
   "outputs": [],
   "source": [
    "pred_prob = clf.predict_proba(predict_df2)[:,1]"
   ]
  },
  {
   "cell_type": "code",
   "execution_count": 145,
   "metadata": {},
   "outputs": [
    {
     "name": "stderr",
     "output_type": "stream",
     "text": [
      "/Users/lalago31/anaconda3/lib/python3.6/site-packages/matplotlib/axes/_axes.py:6462: UserWarning: The 'normed' kwarg is deprecated, and has been replaced by the 'density' kwarg.\n",
      "  warnings.warn(\"The 'normed' kwarg is deprecated, and has been \"\n"
     ]
    },
    {
     "data": {
      "text/plain": [
       "Text(0.5,1,'Distribution of Predicted Probability of Default on current loans')"
      ]
     },
     "execution_count": 145,
     "metadata": {},
     "output_type": "execute_result"
    },
    {
     "data": {
      "image/png": "[encoded data removed]",
      "text/plain": [
       "<Figure size 432x288 with 1 Axes>"
      ]
     },
     "metadata": {},
     "output_type": "display_data"
    }
   ],
   "source": [
    "sns.distplot(pred_prob, bins=50)\n",
    "plt.title('Distribution of Predicted Probability of Default on current loans')"
   ]
  },
  {
   "cell_type": "code",
   "execution_count": 146,
   "metadata": {},
   "outputs": [
    {
     "name": "stdout",
     "output_type": "stream",
     "text": [
      "The 25% percentile of the probability of default is 0.11919893696904182\n",
      "The 50% percentile of the probability of default is 0.20666834712028503\n",
      "The 75% percentile of the probability of default is 0.32866740226745605\n"
     ]
    }
   ],
   "source": [
    "print('The 25% percentile of the probability of default is {}'.format(np.percentile(pred_prob,[25,50,75])[0]))\n",
    "print('The 50% percentile of the probability of default is {}'.format(np.percentile(pred_prob,[25,50,75])[1]))\n",
    "print('The 75% percentile of the probability of default is {}'.format(np.percentile(pred_prob,[25,50,75])[2]))"
   ]
  },
  {
   "cell_type": "code",
   "execution_count": 150,
   "metadata": {},
   "outputs": [],
   "source": [
    "current_loan['predicted_default_probability'] = pred_prob\n",
    "potential_bad_loans = current_loan.loc[current_loan['predicted_default_probability']>0.32,:]"
   ]
  },
  {
   "cell_type": "code",
   "execution_count": 158,
   "metadata": {},
   "outputs": [
    {
     "name": "stdout",
     "output_type": "stream",
     "text": [
      "There are 36039 loans with the status \"current\" that have a high probability of default\n",
      "The sample \"risky\" loan ids are \n",
      "[ 6906  7047  7322  7349  7371  7383  7440  7469  7519  7642  7651  7758\n",
      "  7808  7845  7852  7860  7864  7873  7874  7876  7885  7889  7944  7997\n",
      "  8079  8220  8297  8313  8316  8321  8345  8367  8434  8438  8457  8475\n",
      "  8525  8541  8579  8586  8604  8711  8809  8981  9020  9030  9049  9052\n",
      "  9058  9081  9082  9160  9203  9208  9239  9244  9246  9256  9301  9310\n",
      "  9381  9392  9400  9408  9412  9491  9605  9634  9688  9692  9709  9800\n",
      "  9809  9813  9906  9922  9993  9996 10021 10047 10048 10066 10067 10147\n",
      " 10160 10237 10443 10472 10485 10548 10569 10590 10676 10756 10791 10827\n",
      " 10887 10892 10964 10975 10991 11056 11121 11158 11172 11181 11197 11339\n",
      " 11353 11360 11367 11425 11427 11436 11452 11554 11556 11567 11615 11656\n",
      " 11722 11734 11752 11754 11759 11796 11873 11965 11972 11978 12048 12067\n",
      " 12068 12173 12228 12238 12246 12301 12302 12311 12340 12379 12438 12496\n",
      " 12539 12546 12565 12574 12587 12619 12644 12645 12672 12706 12732 12748\n",
      " 12798 12868 13124 13138 13197 13307 13352 13363 13379 13400 13415 13502\n",
      " 13530 13534 13553 13559 13562 13601 13619 13639 13642 13707 13724 13751\n",
      " 13757 13810 13912 13929 13931 14023 14046 14051 14062 14140 14149 14153\n",
      " 14167 14181 14191 14220 14268 14326 14330 14341]\n"
     ]
    }
   ],
   "source": [
    "print('There are %d loans with the status \"current\" that have a high probability of default' %potential_bad_loans.shape[0])\n",
    "print('The sample \"risky\" loan ids are \\n{}'.format(potential_bad_loans.index.values[:200]))"
   ]
  },
  {
   "cell_type": "markdown",
   "metadata": {},
   "source": [
    "### ** Insights:\n",
    "1. Interest rate is the most important feature in predicting loan default, followed by debt-to-income ratio, monthly payment(installment) and borrowers' annual income. This indeed match our initial expectation in the EDA.\n",
    "2. Credit length and many other features related to bankcard revolving accounts/utilization/balance of the borrowers tell a lot about the borrowers' credibility to pay back the loan\n",
    "3. Most of the top 40 important features can be obtained from credit credit buearus. The public credit history together with the borrowers demographic info such as self-reported income can be fed into the ML algrithm beforehand to predict the probability of default. That can be used to decide if the loan should be issued in the very beginning and to help investors understand the risk of the loan porfolio in order for them to make informed decisions. "
   ]
  },
  {
   "cell_type": "markdown",
   "metadata": {},
   "source": [
    "### ** Restrictions:\n",
    "I believe the dataset is updated quarterly to reflect the most up-to-date loan status. So the information that the investors see when the loan goes through the underwriting process might be different from what's now in the dataset. For example, I'm not sure whether some important information such as interest_rate, dti and installment is available to the investors before they decide to purchase the loans, or it is only generated after the loans are issued. If the latter is true, the model will have to be changed to only utilize the features that are available to investors in their decision making stage."
   ]
  },
  {
   "cell_type": "code",
   "execution_count": null,
   "metadata": {},
   "outputs": [],
   "source": []
  }
 ],
 "metadata": {
  "kernelspec": {
   "display_name": "Python 3",
   "language": "python",
   "name": "python3"
  },
  "language_info": {
   "codemirror_mode": {
    "name": "ipython",
    "version": 3
   },
   "file_extension": ".py",
   "mimetype": "text/x-python",
   "name": "python",
   "nbconvert_exporter": "python",
   "pygments_lexer": "ipython3",
   "version": "3.6.5"
  }
 },
 "nbformat": 4,
 "nbformat_minor": 2
}
