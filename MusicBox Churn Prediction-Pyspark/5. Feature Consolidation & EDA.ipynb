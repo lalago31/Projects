{
 "cells": [
  {
   "cell_type": "markdown",
   "metadata": {},
   "source": [
    "# Summary\n",
    "* Consolidate play,download and search feature dataframes to a holistic feature space on the uid level\n",
    "* Missing value imputation- fill the NAs in the download and search features with zero since NA here means users don't have download or search activity in the given time window\n",
    "* EDA of the created features- explor the relationship of download/search activities and play activities and check to see if frequency/recency featuers have apparently different distributions between the churned/active users"
   ]
  },
  {
   "cell_type": "code",
   "execution_count": 1,
   "metadata": {},
   "outputs": [],
   "source": [
    "import pandas as pd\n",
    "import matplotlib.pyplot as plt\n",
    "import numpy as np \n",
    "import seaborn as sns\n",
    "from pyspark.sql import SparkSession\n",
    "\n",
    "from pyspark.sql import Row\n",
    "from pyspark.sql import functions\n",
    "\n",
    "from pyspark.sql.functions import *\n",
    "from pyspark.sql.types import *"
   ]
  },
  {
   "cell_type": "code",
   "execution_count": 2,
   "metadata": {},
   "outputs": [],
   "source": [
    "spark = SparkSession.builder.appName(\"Music Box feature consolidation\").getOrCreate()"
   ]
  },
  {
   "cell_type": "markdown",
   "metadata": {},
   "source": [
    "### 1. Load all the feaure tables"
   ]
  },
  {
   "cell_type": "code",
   "execution_count": 3,
   "metadata": {},
   "outputs": [],
   "source": [
    "play_ft = spark.read.csv('./intermediate tables/all_play_features/all_play_features.csv',header=True,inferSchema=True)"
   ]
  },
  {
   "cell_type": "code",
   "execution_count": 4,
   "metadata": {},
   "outputs": [],
   "source": [
    "down_df = spark.read.csv('./intermediate tables/all_down_features/all_down_features.csv',header=True,inferSchema=True)"
   ]
  },
  {
   "cell_type": "code",
   "execution_count": 5,
   "metadata": {},
   "outputs": [],
   "source": [
    "search_df = spark.read.csv('./intermediate tables/all_search_features/all_search_features.csv',header=True,inferSchema=True)"
   ]
  },
  {
   "cell_type": "code",
   "execution_count": 6,
   "metadata": {},
   "outputs": [],
   "source": [
    "uid_label = spark.read.csv('./intermediate tables/valid_uid_label_all/valid_uid_label_all.csv',header=True,inferSchema=True)"
   ]
  },
  {
   "cell_type": "code",
   "execution_count": 7,
   "metadata": {},
   "outputs": [
    {
     "data": {
      "text/plain": [
       "139455"
      ]
     },
     "execution_count": 7,
     "metadata": {},
     "output_type": "execute_result"
    }
   ],
   "source": [
    "uid_label.count()"
   ]
  },
  {
   "cell_type": "code",
   "execution_count": 8,
   "metadata": {},
   "outputs": [
    {
     "data": {
      "text/plain": [
       "105351"
      ]
     },
     "execution_count": 8,
     "metadata": {},
     "output_type": "execute_result"
    }
   ],
   "source": [
    "play_ft.count()"
   ]
  },
  {
   "cell_type": "code",
   "execution_count": 10,
   "metadata": {},
   "outputs": [
    {
     "data": {
      "text/plain": [
       "96638"
      ]
     },
     "execution_count": 10,
     "metadata": {},
     "output_type": "execute_result"
    }
   ],
   "source": [
    "search_df.count()"
   ]
  },
  {
   "cell_type": "code",
   "execution_count": 11,
   "metadata": {},
   "outputs": [
    {
     "data": {
      "text/plain": [
       "87866"
      ]
     },
     "execution_count": 11,
     "metadata": {},
     "output_type": "execute_result"
    }
   ],
   "source": [
    "down_df.count()"
   ]
  },
  {
   "cell_type": "markdown",
   "metadata": {},
   "source": [
    "### 2. Combine 4 dataframes together"
   ]
  },
  {
   "cell_type": "code",
   "execution_count": 9,
   "metadata": {},
   "outputs": [],
   "source": [
    "all_features_df = play_ft.join(down_df,   on =['uid'], how='left')\\\n",
    "                         .join(search_df, on =['uid'], how='left')\\\n",
    "                         .join(uid_label, on =['uid'], how='left')"
   ]
  },
  {
   "cell_type": "code",
   "execution_count": 10,
   "metadata": {},
   "outputs": [
    {
     "data": {
      "text/plain": [
       "['uid',\n",
       " 'play_times_last_3_days',\n",
       " 'play_times_last_7_days',\n",
       " 'play_times_last_14_days',\n",
       " 'play_times_last_21_days',\n",
       " 'play_times_last_30_days',\n",
       " 'avg_playtime_last_3_days',\n",
       " 'avg_playtime_last_7_days',\n",
       " 'avg_playtime_last_14_days',\n",
       " 'avg_playtime_last_21_days',\n",
       " 'avg_playtime_last_30_days',\n",
       " 'days_since_last_play',\n",
       " 'download_times_last_3_days',\n",
       " 'download_times_last_7_days',\n",
       " 'download_times_last_14_days',\n",
       " 'download_times_last_21_days',\n",
       " 'download_times_last_30_days',\n",
       " 'days_since_last_download',\n",
       " 'search_times_last_3_days',\n",
       " 'search_times_last_7_days',\n",
       " 'search_times_last_14_days',\n",
       " 'search_times_last_21_days',\n",
       " 'search_times_last_30_days',\n",
       " 'days_since_last_search',\n",
       " 'Churn']"
      ]
     },
     "execution_count": 10,
     "metadata": {},
     "output_type": "execute_result"
    }
   ],
   "source": [
    "all_features_df.columns"
   ]
  },
  {
   "cell_type": "code",
   "execution_count": 9,
   "metadata": {},
   "outputs": [
    {
     "data": {
      "text/html": [
       "<div>\n",
       "<style scoped>\n",
       "    .dataframe tbody tr th:only-of-type {\n",
       "        vertical-align: middle;\n",
       "    }\n",
       "\n",
       "    .dataframe tbody tr th {\n",
       "        vertical-align: top;\n",
       "    }\n",
       "\n",
       "    .dataframe thead th {\n",
       "        text-align: right;\n",
       "    }\n",
       "</style>\n",
       "<table border=\"1\" class=\"dataframe\">\n",
       "  <thead>\n",
       "    <tr style=\"text-align: right;\">\n",
       "      <th></th>\n",
       "      <th>uid</th>\n",
       "      <th>play_times_last_3_days</th>\n",
       "      <th>play_times_last_7_days</th>\n",
       "      <th>play_times_last_14_days</th>\n",
       "      <th>play_times_last_21_days</th>\n",
       "      <th>play_times_last_30_days</th>\n",
       "      <th>avg_playtime_last_3_days</th>\n",
       "      <th>avg_playtime_last_7_days</th>\n",
       "      <th>avg_playtime_last_14_days</th>\n",
       "      <th>avg_playtime_last_21_days</th>\n",
       "      <th>...</th>\n",
       "      <th>download_times_last_21_days</th>\n",
       "      <th>download_times_last_30_days</th>\n",
       "      <th>days_since_last_download</th>\n",
       "      <th>search_times_last_3_days</th>\n",
       "      <th>search_times_last_7_days</th>\n",
       "      <th>search_times_last_14_days</th>\n",
       "      <th>search_times_last_21_days</th>\n",
       "      <th>search_times_last_30_days</th>\n",
       "      <th>days_since_last_search</th>\n",
       "      <th>Churn</th>\n",
       "    </tr>\n",
       "  </thead>\n",
       "  <tbody>\n",
       "    <tr>\n",
       "      <th>0</th>\n",
       "      <td>114363528.0</td>\n",
       "      <td>0</td>\n",
       "      <td>0</td>\n",
       "      <td>0</td>\n",
       "      <td>1</td>\n",
       "      <td>20</td>\n",
       "      <td>0.000000</td>\n",
       "      <td>0.000000</td>\n",
       "      <td>0.000000</td>\n",
       "      <td>5.000000</td>\n",
       "      <td>...</td>\n",
       "      <td>6.0</td>\n",
       "      <td>14.0</td>\n",
       "      <td>12.0</td>\n",
       "      <td>0.0</td>\n",
       "      <td>0.0</td>\n",
       "      <td>0.0</td>\n",
       "      <td>0.0</td>\n",
       "      <td>8.0</td>\n",
       "      <td>30.0</td>\n",
       "      <td>1</td>\n",
       "    </tr>\n",
       "    <tr>\n",
       "      <th>1</th>\n",
       "      <td>167920832.0</td>\n",
       "      <td>9</td>\n",
       "      <td>22</td>\n",
       "      <td>354</td>\n",
       "      <td>560</td>\n",
       "      <td>817</td>\n",
       "      <td>517.333333</td>\n",
       "      <td>484.571429</td>\n",
       "      <td>4783.285714</td>\n",
       "      <td>5169.476190</td>\n",
       "      <td>...</td>\n",
       "      <td>2.0</td>\n",
       "      <td>7.0</td>\n",
       "      <td>12.0</td>\n",
       "      <td>0.0</td>\n",
       "      <td>1.0</td>\n",
       "      <td>3.0</td>\n",
       "      <td>12.0</td>\n",
       "      <td>29.0</td>\n",
       "      <td>7.0</td>\n",
       "      <td>0</td>\n",
       "    </tr>\n",
       "    <tr>\n",
       "      <th>2</th>\n",
       "      <td>168573152.0</td>\n",
       "      <td>0</td>\n",
       "      <td>0</td>\n",
       "      <td>0</td>\n",
       "      <td>0</td>\n",
       "      <td>109</td>\n",
       "      <td>0.000000</td>\n",
       "      <td>0.000000</td>\n",
       "      <td>0.000000</td>\n",
       "      <td>0.000000</td>\n",
       "      <td>...</td>\n",
       "      <td>NaN</td>\n",
       "      <td>NaN</td>\n",
       "      <td>NaN</td>\n",
       "      <td>0.0</td>\n",
       "      <td>0.0</td>\n",
       "      <td>0.0</td>\n",
       "      <td>0.0</td>\n",
       "      <td>12.0</td>\n",
       "      <td>30.0</td>\n",
       "      <td>1</td>\n",
       "    </tr>\n",
       "    <tr>\n",
       "      <th>3</th>\n",
       "      <td>57077508.0</td>\n",
       "      <td>216</td>\n",
       "      <td>372</td>\n",
       "      <td>1020</td>\n",
       "      <td>1510</td>\n",
       "      <td>2388</td>\n",
       "      <td>8823.000000</td>\n",
       "      <td>7222.714286</td>\n",
       "      <td>9382.285714</td>\n",
       "      <td>9921.809524</td>\n",
       "      <td>...</td>\n",
       "      <td>4.0</td>\n",
       "      <td>4.0</td>\n",
       "      <td>13.0</td>\n",
       "      <td>0.0</td>\n",
       "      <td>4.0</td>\n",
       "      <td>13.0</td>\n",
       "      <td>20.0</td>\n",
       "      <td>21.0</td>\n",
       "      <td>5.0</td>\n",
       "      <td>0</td>\n",
       "    </tr>\n",
       "    <tr>\n",
       "      <th>4</th>\n",
       "      <td>157815664.0</td>\n",
       "      <td>0</td>\n",
       "      <td>81</td>\n",
       "      <td>182</td>\n",
       "      <td>184</td>\n",
       "      <td>233</td>\n",
       "      <td>0.000000</td>\n",
       "      <td>2289.000000</td>\n",
       "      <td>2337.071429</td>\n",
       "      <td>1562.619048</td>\n",
       "      <td>...</td>\n",
       "      <td>0.0</td>\n",
       "      <td>2.0</td>\n",
       "      <td>23.0</td>\n",
       "      <td>0.0</td>\n",
       "      <td>0.0</td>\n",
       "      <td>0.0</td>\n",
       "      <td>0.0</td>\n",
       "      <td>2.0</td>\n",
       "      <td>23.0</td>\n",
       "      <td>1</td>\n",
       "    </tr>\n",
       "    <tr>\n",
       "      <th>5</th>\n",
       "      <td>159183408.0</td>\n",
       "      <td>0</td>\n",
       "      <td>1</td>\n",
       "      <td>77</td>\n",
       "      <td>223</td>\n",
       "      <td>707</td>\n",
       "      <td>0.000000</td>\n",
       "      <td>17.714286</td>\n",
       "      <td>722.928571</td>\n",
       "      <td>1201.428571</td>\n",
       "      <td>...</td>\n",
       "      <td>0.0</td>\n",
       "      <td>1.0</td>\n",
       "      <td>30.0</td>\n",
       "      <td>0.0</td>\n",
       "      <td>2.0</td>\n",
       "      <td>2.0</td>\n",
       "      <td>3.0</td>\n",
       "      <td>9.0</td>\n",
       "      <td>6.0</td>\n",
       "      <td>0</td>\n",
       "    </tr>\n",
       "    <tr>\n",
       "      <th>6</th>\n",
       "      <td>168013072.0</td>\n",
       "      <td>28</td>\n",
       "      <td>28</td>\n",
       "      <td>37</td>\n",
       "      <td>72</td>\n",
       "      <td>174</td>\n",
       "      <td>1624.333333</td>\n",
       "      <td>696.142857</td>\n",
       "      <td>475.071429</td>\n",
       "      <td>455.571429</td>\n",
       "      <td>...</td>\n",
       "      <td>0.0</td>\n",
       "      <td>48.0</td>\n",
       "      <td>22.0</td>\n",
       "      <td>0.0</td>\n",
       "      <td>0.0</td>\n",
       "      <td>0.0</td>\n",
       "      <td>7.0</td>\n",
       "      <td>24.0</td>\n",
       "      <td>20.0</td>\n",
       "      <td>0</td>\n",
       "    </tr>\n",
       "    <tr>\n",
       "      <th>7</th>\n",
       "      <td>168155632.0</td>\n",
       "      <td>13</td>\n",
       "      <td>42</td>\n",
       "      <td>85</td>\n",
       "      <td>207</td>\n",
       "      <td>399</td>\n",
       "      <td>554.666667</td>\n",
       "      <td>1023.428571</td>\n",
       "      <td>1044.857143</td>\n",
       "      <td>1482.285714</td>\n",
       "      <td>...</td>\n",
       "      <td>18.0</td>\n",
       "      <td>29.0</td>\n",
       "      <td>12.0</td>\n",
       "      <td>0.0</td>\n",
       "      <td>0.0</td>\n",
       "      <td>2.0</td>\n",
       "      <td>7.0</td>\n",
       "      <td>33.0</td>\n",
       "      <td>11.0</td>\n",
       "      <td>0</td>\n",
       "    </tr>\n",
       "    <tr>\n",
       "      <th>8</th>\n",
       "      <td>168353024.0</td>\n",
       "      <td>73</td>\n",
       "      <td>114</td>\n",
       "      <td>1921</td>\n",
       "      <td>2262</td>\n",
       "      <td>2876</td>\n",
       "      <td>1418.333333</td>\n",
       "      <td>1761.714286</td>\n",
       "      <td>3723.642857</td>\n",
       "      <td>4903.333333</td>\n",
       "      <td>...</td>\n",
       "      <td>38.0</td>\n",
       "      <td>53.0</td>\n",
       "      <td>15.0</td>\n",
       "      <td>0.0</td>\n",
       "      <td>0.0</td>\n",
       "      <td>2.0</td>\n",
       "      <td>66.0</td>\n",
       "      <td>124.0</td>\n",
       "      <td>14.0</td>\n",
       "      <td>0</td>\n",
       "    </tr>\n",
       "    <tr>\n",
       "      <th>9</th>\n",
       "      <td>167614368.0</td>\n",
       "      <td>0</td>\n",
       "      <td>0</td>\n",
       "      <td>0</td>\n",
       "      <td>0</td>\n",
       "      <td>70</td>\n",
       "      <td>0.000000</td>\n",
       "      <td>0.000000</td>\n",
       "      <td>0.000000</td>\n",
       "      <td>0.000000</td>\n",
       "      <td>...</td>\n",
       "      <td>NaN</td>\n",
       "      <td>NaN</td>\n",
       "      <td>NaN</td>\n",
       "      <td>NaN</td>\n",
       "      <td>NaN</td>\n",
       "      <td>NaN</td>\n",
       "      <td>NaN</td>\n",
       "      <td>NaN</td>\n",
       "      <td>NaN</td>\n",
       "      <td>0</td>\n",
       "    </tr>\n",
       "    <tr>\n",
       "      <th>10</th>\n",
       "      <td>167884064.0</td>\n",
       "      <td>6</td>\n",
       "      <td>39</td>\n",
       "      <td>171</td>\n",
       "      <td>356</td>\n",
       "      <td>515</td>\n",
       "      <td>344.333333</td>\n",
       "      <td>215.285714</td>\n",
       "      <td>1629.357143</td>\n",
       "      <td>2336.714286</td>\n",
       "      <td>...</td>\n",
       "      <td>93.0</td>\n",
       "      <td>100.0</td>\n",
       "      <td>8.0</td>\n",
       "      <td>0.0</td>\n",
       "      <td>1.0</td>\n",
       "      <td>8.0</td>\n",
       "      <td>29.0</td>\n",
       "      <td>62.0</td>\n",
       "      <td>5.0</td>\n",
       "      <td>0</td>\n",
       "    </tr>\n",
       "    <tr>\n",
       "      <th>11</th>\n",
       "      <td>168400736.0</td>\n",
       "      <td>3</td>\n",
       "      <td>10</td>\n",
       "      <td>33</td>\n",
       "      <td>73</td>\n",
       "      <td>250</td>\n",
       "      <td>96.666667</td>\n",
       "      <td>140.142857</td>\n",
       "      <td>139.928571</td>\n",
       "      <td>341.809524</td>\n",
       "      <td>...</td>\n",
       "      <td>0.0</td>\n",
       "      <td>15.0</td>\n",
       "      <td>23.0</td>\n",
       "      <td>0.0</td>\n",
       "      <td>0.0</td>\n",
       "      <td>1.0</td>\n",
       "      <td>4.0</td>\n",
       "      <td>27.0</td>\n",
       "      <td>11.0</td>\n",
       "      <td>0</td>\n",
       "    </tr>\n",
       "    <tr>\n",
       "      <th>12</th>\n",
       "      <td>168539488.0</td>\n",
       "      <td>0</td>\n",
       "      <td>11</td>\n",
       "      <td>49</td>\n",
       "      <td>137</td>\n",
       "      <td>409</td>\n",
       "      <td>0.000000</td>\n",
       "      <td>326.428571</td>\n",
       "      <td>628.857143</td>\n",
       "      <td>1354.857143</td>\n",
       "      <td>...</td>\n",
       "      <td>0.0</td>\n",
       "      <td>4.0</td>\n",
       "      <td>30.0</td>\n",
       "      <td>0.0</td>\n",
       "      <td>0.0</td>\n",
       "      <td>0.0</td>\n",
       "      <td>0.0</td>\n",
       "      <td>14.0</td>\n",
       "      <td>28.0</td>\n",
       "      <td>0</td>\n",
       "    </tr>\n",
       "    <tr>\n",
       "      <th>13</th>\n",
       "      <td>22553002.0</td>\n",
       "      <td>0</td>\n",
       "      <td>0</td>\n",
       "      <td>0</td>\n",
       "      <td>3</td>\n",
       "      <td>3</td>\n",
       "      <td>0.000000</td>\n",
       "      <td>0.000000</td>\n",
       "      <td>0.000000</td>\n",
       "      <td>17.238095</td>\n",
       "      <td>...</td>\n",
       "      <td>NaN</td>\n",
       "      <td>NaN</td>\n",
       "      <td>NaN</td>\n",
       "      <td>NaN</td>\n",
       "      <td>NaN</td>\n",
       "      <td>NaN</td>\n",
       "      <td>NaN</td>\n",
       "      <td>NaN</td>\n",
       "      <td>NaN</td>\n",
       "      <td>0</td>\n",
       "    </tr>\n",
       "    <tr>\n",
       "      <th>14</th>\n",
       "      <td>86711144.0</td>\n",
       "      <td>0</td>\n",
       "      <td>0</td>\n",
       "      <td>0</td>\n",
       "      <td>0</td>\n",
       "      <td>2</td>\n",
       "      <td>0.000000</td>\n",
       "      <td>0.000000</td>\n",
       "      <td>0.000000</td>\n",
       "      <td>0.000000</td>\n",
       "      <td>...</td>\n",
       "      <td>NaN</td>\n",
       "      <td>NaN</td>\n",
       "      <td>NaN</td>\n",
       "      <td>NaN</td>\n",
       "      <td>NaN</td>\n",
       "      <td>NaN</td>\n",
       "      <td>NaN</td>\n",
       "      <td>NaN</td>\n",
       "      <td>NaN</td>\n",
       "      <td>1</td>\n",
       "    </tr>\n",
       "    <tr>\n",
       "      <th>15</th>\n",
       "      <td>167862064.0</td>\n",
       "      <td>8</td>\n",
       "      <td>35</td>\n",
       "      <td>199</td>\n",
       "      <td>257</td>\n",
       "      <td>408</td>\n",
       "      <td>261.666667</td>\n",
       "      <td>885.285714</td>\n",
       "      <td>3132.142857</td>\n",
       "      <td>2585.333333</td>\n",
       "      <td>...</td>\n",
       "      <td>4.0</td>\n",
       "      <td>34.0</td>\n",
       "      <td>8.0</td>\n",
       "      <td>0.0</td>\n",
       "      <td>1.0</td>\n",
       "      <td>7.0</td>\n",
       "      <td>7.0</td>\n",
       "      <td>11.0</td>\n",
       "      <td>4.0</td>\n",
       "      <td>0</td>\n",
       "    </tr>\n",
       "    <tr>\n",
       "      <th>16</th>\n",
       "      <td>167883424.0</td>\n",
       "      <td>331</td>\n",
       "      <td>785</td>\n",
       "      <td>1098</td>\n",
       "      <td>1547</td>\n",
       "      <td>1728</td>\n",
       "      <td>8781.666667</td>\n",
       "      <td>8784.857143</td>\n",
       "      <td>7718.285714</td>\n",
       "      <td>8076.761905</td>\n",
       "      <td>...</td>\n",
       "      <td>44.0</td>\n",
       "      <td>48.0</td>\n",
       "      <td>2.0</td>\n",
       "      <td>1.0</td>\n",
       "      <td>4.0</td>\n",
       "      <td>14.0</td>\n",
       "      <td>52.0</td>\n",
       "      <td>67.0</td>\n",
       "      <td>3.0</td>\n",
       "      <td>0</td>\n",
       "    </tr>\n",
       "    <tr>\n",
       "      <th>17</th>\n",
       "      <td>168229600.0</td>\n",
       "      <td>89</td>\n",
       "      <td>173</td>\n",
       "      <td>201</td>\n",
       "      <td>519</td>\n",
       "      <td>904</td>\n",
       "      <td>9564.666667</td>\n",
       "      <td>5561.000000</td>\n",
       "      <td>4271.642857</td>\n",
       "      <td>5123.904762</td>\n",
       "      <td>...</td>\n",
       "      <td>4.0</td>\n",
       "      <td>61.0</td>\n",
       "      <td>3.0</td>\n",
       "      <td>5.0</td>\n",
       "      <td>8.0</td>\n",
       "      <td>14.0</td>\n",
       "      <td>33.0</td>\n",
       "      <td>56.0</td>\n",
       "      <td>1.0</td>\n",
       "      <td>0</td>\n",
       "    </tr>\n",
       "    <tr>\n",
       "      <th>18</th>\n",
       "      <td>168259984.0</td>\n",
       "      <td>383</td>\n",
       "      <td>578</td>\n",
       "      <td>596</td>\n",
       "      <td>596</td>\n",
       "      <td>610</td>\n",
       "      <td>3136.666667</td>\n",
       "      <td>4193.285714</td>\n",
       "      <td>2319.357143</td>\n",
       "      <td>1546.238095</td>\n",
       "      <td>...</td>\n",
       "      <td>11.0</td>\n",
       "      <td>11.0</td>\n",
       "      <td>4.0</td>\n",
       "      <td>0.0</td>\n",
       "      <td>4.0</td>\n",
       "      <td>15.0</td>\n",
       "      <td>15.0</td>\n",
       "      <td>15.0</td>\n",
       "      <td>4.0</td>\n",
       "      <td>0</td>\n",
       "    </tr>\n",
       "    <tr>\n",
       "      <th>19</th>\n",
       "      <td>168372080.0</td>\n",
       "      <td>71</td>\n",
       "      <td>103</td>\n",
       "      <td>272</td>\n",
       "      <td>489</td>\n",
       "      <td>788</td>\n",
       "      <td>4068.333333</td>\n",
       "      <td>2648.142857</td>\n",
       "      <td>3736.928571</td>\n",
       "      <td>5024.476190</td>\n",
       "      <td>...</td>\n",
       "      <td>27.0</td>\n",
       "      <td>45.0</td>\n",
       "      <td>1.0</td>\n",
       "      <td>8.0</td>\n",
       "      <td>8.0</td>\n",
       "      <td>24.0</td>\n",
       "      <td>57.0</td>\n",
       "      <td>88.0</td>\n",
       "      <td>1.0</td>\n",
       "      <td>0</td>\n",
       "    </tr>\n",
       "  </tbody>\n",
       "</table>\n",
       "<p>20 rows × 25 columns</p>\n",
       "</div>"
      ],
      "text/plain": [
       "            uid  play_times_last_3_days  play_times_last_7_days  \\\n",
       "0   114363528.0                       0                       0   \n",
       "1   167920832.0                       9                      22   \n",
       "2   168573152.0                       0                       0   \n",
       "3    57077508.0                     216                     372   \n",
       "4   157815664.0                       0                      81   \n",
       "5   159183408.0                       0                       1   \n",
       "6   168013072.0                      28                      28   \n",
       "7   168155632.0                      13                      42   \n",
       "8   168353024.0                      73                     114   \n",
       "9   167614368.0                       0                       0   \n",
       "10  167884064.0                       6                      39   \n",
       "11  168400736.0                       3                      10   \n",
       "12  168539488.0                       0                      11   \n",
       "13   22553002.0                       0                       0   \n",
       "14   86711144.0                       0                       0   \n",
       "15  167862064.0                       8                      35   \n",
       "16  167883424.0                     331                     785   \n",
       "17  168229600.0                      89                     173   \n",
       "18  168259984.0                     383                     578   \n",
       "19  168372080.0                      71                     103   \n",
       "\n",
       "    play_times_last_14_days  play_times_last_21_days  play_times_last_30_days  \\\n",
       "0                         0                        1                       20   \n",
       "1                       354                      560                      817   \n",
       "2                         0                        0                      109   \n",
       "3                      1020                     1510                     2388   \n",
       "4                       182                      184                      233   \n",
       "5                        77                      223                      707   \n",
       "6                        37                       72                      174   \n",
       "7                        85                      207                      399   \n",
       "8                      1921                     2262                     2876   \n",
       "9                         0                        0                       70   \n",
       "10                      171                      356                      515   \n",
       "11                       33                       73                      250   \n",
       "12                       49                      137                      409   \n",
       "13                        0                        3                        3   \n",
       "14                        0                        0                        2   \n",
       "15                      199                      257                      408   \n",
       "16                     1098                     1547                     1728   \n",
       "17                      201                      519                      904   \n",
       "18                      596                      596                      610   \n",
       "19                      272                      489                      788   \n",
       "\n",
       "    avg_playtime_last_3_days  avg_playtime_last_7_days  \\\n",
       "0                   0.000000                  0.000000   \n",
       "1                 517.333333                484.571429   \n",
       "2                   0.000000                  0.000000   \n",
       "3                8823.000000               7222.714286   \n",
       "4                   0.000000               2289.000000   \n",
       "5                   0.000000                 17.714286   \n",
       "6                1624.333333                696.142857   \n",
       "7                 554.666667               1023.428571   \n",
       "8                1418.333333               1761.714286   \n",
       "9                   0.000000                  0.000000   \n",
       "10                344.333333                215.285714   \n",
       "11                 96.666667                140.142857   \n",
       "12                  0.000000                326.428571   \n",
       "13                  0.000000                  0.000000   \n",
       "14                  0.000000                  0.000000   \n",
       "15                261.666667                885.285714   \n",
       "16               8781.666667               8784.857143   \n",
       "17               9564.666667               5561.000000   \n",
       "18               3136.666667               4193.285714   \n",
       "19               4068.333333               2648.142857   \n",
       "\n",
       "    avg_playtime_last_14_days  avg_playtime_last_21_days  ...    \\\n",
       "0                    0.000000                   5.000000  ...     \n",
       "1                 4783.285714                5169.476190  ...     \n",
       "2                    0.000000                   0.000000  ...     \n",
       "3                 9382.285714                9921.809524  ...     \n",
       "4                 2337.071429                1562.619048  ...     \n",
       "5                  722.928571                1201.428571  ...     \n",
       "6                  475.071429                 455.571429  ...     \n",
       "7                 1044.857143                1482.285714  ...     \n",
       "8                 3723.642857                4903.333333  ...     \n",
       "9                    0.000000                   0.000000  ...     \n",
       "10                1629.357143                2336.714286  ...     \n",
       "11                 139.928571                 341.809524  ...     \n",
       "12                 628.857143                1354.857143  ...     \n",
       "13                   0.000000                  17.238095  ...     \n",
       "14                   0.000000                   0.000000  ...     \n",
       "15                3132.142857                2585.333333  ...     \n",
       "16                7718.285714                8076.761905  ...     \n",
       "17                4271.642857                5123.904762  ...     \n",
       "18                2319.357143                1546.238095  ...     \n",
       "19                3736.928571                5024.476190  ...     \n",
       "\n",
       "    download_times_last_21_days  download_times_last_30_days  \\\n",
       "0                           6.0                         14.0   \n",
       "1                           2.0                          7.0   \n",
       "2                           NaN                          NaN   \n",
       "3                           4.0                          4.0   \n",
       "4                           0.0                          2.0   \n",
       "5                           0.0                          1.0   \n",
       "6                           0.0                         48.0   \n",
       "7                          18.0                         29.0   \n",
       "8                          38.0                         53.0   \n",
       "9                           NaN                          NaN   \n",
       "10                         93.0                        100.0   \n",
       "11                          0.0                         15.0   \n",
       "12                          0.0                          4.0   \n",
       "13                          NaN                          NaN   \n",
       "14                          NaN                          NaN   \n",
       "15                          4.0                         34.0   \n",
       "16                         44.0                         48.0   \n",
       "17                          4.0                         61.0   \n",
       "18                         11.0                         11.0   \n",
       "19                         27.0                         45.0   \n",
       "\n",
       "    days_since_last_download  search_times_last_3_days  \\\n",
       "0                       12.0                       0.0   \n",
       "1                       12.0                       0.0   \n",
       "2                        NaN                       0.0   \n",
       "3                       13.0                       0.0   \n",
       "4                       23.0                       0.0   \n",
       "5                       30.0                       0.0   \n",
       "6                       22.0                       0.0   \n",
       "7                       12.0                       0.0   \n",
       "8                       15.0                       0.0   \n",
       "9                        NaN                       NaN   \n",
       "10                       8.0                       0.0   \n",
       "11                      23.0                       0.0   \n",
       "12                      30.0                       0.0   \n",
       "13                       NaN                       NaN   \n",
       "14                       NaN                       NaN   \n",
       "15                       8.0                       0.0   \n",
       "16                       2.0                       1.0   \n",
       "17                       3.0                       5.0   \n",
       "18                       4.0                       0.0   \n",
       "19                       1.0                       8.0   \n",
       "\n",
       "    search_times_last_7_days  search_times_last_14_days  \\\n",
       "0                        0.0                        0.0   \n",
       "1                        1.0                        3.0   \n",
       "2                        0.0                        0.0   \n",
       "3                        4.0                       13.0   \n",
       "4                        0.0                        0.0   \n",
       "5                        2.0                        2.0   \n",
       "6                        0.0                        0.0   \n",
       "7                        0.0                        2.0   \n",
       "8                        0.0                        2.0   \n",
       "9                        NaN                        NaN   \n",
       "10                       1.0                        8.0   \n",
       "11                       0.0                        1.0   \n",
       "12                       0.0                        0.0   \n",
       "13                       NaN                        NaN   \n",
       "14                       NaN                        NaN   \n",
       "15                       1.0                        7.0   \n",
       "16                       4.0                       14.0   \n",
       "17                       8.0                       14.0   \n",
       "18                       4.0                       15.0   \n",
       "19                       8.0                       24.0   \n",
       "\n",
       "    search_times_last_21_days  search_times_last_30_days  \\\n",
       "0                         0.0                        8.0   \n",
       "1                        12.0                       29.0   \n",
       "2                         0.0                       12.0   \n",
       "3                        20.0                       21.0   \n",
       "4                         0.0                        2.0   \n",
       "5                         3.0                        9.0   \n",
       "6                         7.0                       24.0   \n",
       "7                         7.0                       33.0   \n",
       "8                        66.0                      124.0   \n",
       "9                         NaN                        NaN   \n",
       "10                       29.0                       62.0   \n",
       "11                        4.0                       27.0   \n",
       "12                        0.0                       14.0   \n",
       "13                        NaN                        NaN   \n",
       "14                        NaN                        NaN   \n",
       "15                        7.0                       11.0   \n",
       "16                       52.0                       67.0   \n",
       "17                       33.0                       56.0   \n",
       "18                       15.0                       15.0   \n",
       "19                       57.0                       88.0   \n",
       "\n",
       "    days_since_last_search  Churn  \n",
       "0                     30.0      1  \n",
       "1                      7.0      0  \n",
       "2                     30.0      1  \n",
       "3                      5.0      0  \n",
       "4                     23.0      1  \n",
       "5                      6.0      0  \n",
       "6                     20.0      0  \n",
       "7                     11.0      0  \n",
       "8                     14.0      0  \n",
       "9                      NaN      0  \n",
       "10                     5.0      0  \n",
       "11                    11.0      0  \n",
       "12                    28.0      0  \n",
       "13                     NaN      0  \n",
       "14                     NaN      1  \n",
       "15                     4.0      0  \n",
       "16                     3.0      0  \n",
       "17                     1.0      0  \n",
       "18                     4.0      0  \n",
       "19                     1.0      0  \n",
       "\n",
       "[20 rows x 25 columns]"
      ]
     },
     "execution_count": 9,
     "metadata": {},
     "output_type": "execute_result"
    }
   ],
   "source": [
    "pd.DataFrame(all_features_df.take(20),columns=all_features_df.columns)"
   ]
  },
  {
   "cell_type": "markdown",
   "metadata": {},
   "source": [
    "### 3. Fill in missing values\n",
    "* NA means the user did not do any search or download in the past 30 days. fill in NA with 0."
   ]
  },
  {
   "cell_type": "code",
   "execution_count": 11,
   "metadata": {},
   "outputs": [],
   "source": [
    "all_features_df2=all_features_df.fillna(0)"
   ]
  },
  {
   "cell_type": "code",
   "execution_count": 12,
   "metadata": {},
   "outputs": [
    {
     "data": {
      "text/plain": [
       "0"
      ]
     },
     "execution_count": 12,
     "metadata": {},
     "output_type": "execute_result"
    }
   ],
   "source": [
    "#check \n",
    "all_features_df2.where(col('download_times_last_14_days').isNull()).count()"
   ]
  },
  {
   "cell_type": "code",
   "execution_count": 13,
   "metadata": {},
   "outputs": [],
   "source": [
    "all_features_df3=all_features_df2.toPandas()"
   ]
  },
  {
   "cell_type": "code",
   "execution_count": 14,
   "metadata": {},
   "outputs": [
    {
     "data": {
      "text/html": [
       "<div>\n",
       "<style scoped>\n",
       "    .dataframe tbody tr th:only-of-type {\n",
       "        vertical-align: middle;\n",
       "    }\n",
       "\n",
       "    .dataframe tbody tr th {\n",
       "        vertical-align: top;\n",
       "    }\n",
       "\n",
       "    .dataframe thead th {\n",
       "        text-align: right;\n",
       "    }\n",
       "</style>\n",
       "<table border=\"1\" class=\"dataframe\">\n",
       "  <thead>\n",
       "    <tr style=\"text-align: right;\">\n",
       "      <th></th>\n",
       "      <th>uid</th>\n",
       "      <th>play_times_last_3_days</th>\n",
       "      <th>play_times_last_7_days</th>\n",
       "      <th>play_times_last_14_days</th>\n",
       "      <th>play_times_last_21_days</th>\n",
       "      <th>play_times_last_30_days</th>\n",
       "      <th>avg_playtime_last_3_days</th>\n",
       "      <th>avg_playtime_last_7_days</th>\n",
       "      <th>avg_playtime_last_14_days</th>\n",
       "      <th>avg_playtime_last_21_days</th>\n",
       "      <th>...</th>\n",
       "      <th>download_times_last_21_days</th>\n",
       "      <th>download_times_last_30_days</th>\n",
       "      <th>days_since_last_download</th>\n",
       "      <th>search_times_last_3_days</th>\n",
       "      <th>search_times_last_7_days</th>\n",
       "      <th>search_times_last_14_days</th>\n",
       "      <th>search_times_last_21_days</th>\n",
       "      <th>search_times_last_30_days</th>\n",
       "      <th>days_since_last_search</th>\n",
       "      <th>Churn</th>\n",
       "    </tr>\n",
       "  </thead>\n",
       "  <tbody>\n",
       "    <tr>\n",
       "      <th>0</th>\n",
       "      <td>114363528.0</td>\n",
       "      <td>0</td>\n",
       "      <td>0</td>\n",
       "      <td>0</td>\n",
       "      <td>1</td>\n",
       "      <td>20</td>\n",
       "      <td>0.000000</td>\n",
       "      <td>0.000000</td>\n",
       "      <td>0.000000</td>\n",
       "      <td>5.000000</td>\n",
       "      <td>...</td>\n",
       "      <td>6</td>\n",
       "      <td>14</td>\n",
       "      <td>12</td>\n",
       "      <td>0</td>\n",
       "      <td>0</td>\n",
       "      <td>0</td>\n",
       "      <td>0</td>\n",
       "      <td>8</td>\n",
       "      <td>30</td>\n",
       "      <td>1</td>\n",
       "    </tr>\n",
       "    <tr>\n",
       "      <th>1</th>\n",
       "      <td>167920832.0</td>\n",
       "      <td>9</td>\n",
       "      <td>22</td>\n",
       "      <td>354</td>\n",
       "      <td>560</td>\n",
       "      <td>817</td>\n",
       "      <td>517.333333</td>\n",
       "      <td>484.571429</td>\n",
       "      <td>4783.285714</td>\n",
       "      <td>5169.476190</td>\n",
       "      <td>...</td>\n",
       "      <td>2</td>\n",
       "      <td>7</td>\n",
       "      <td>12</td>\n",
       "      <td>0</td>\n",
       "      <td>1</td>\n",
       "      <td>3</td>\n",
       "      <td>12</td>\n",
       "      <td>29</td>\n",
       "      <td>7</td>\n",
       "      <td>0</td>\n",
       "    </tr>\n",
       "    <tr>\n",
       "      <th>2</th>\n",
       "      <td>168573152.0</td>\n",
       "      <td>0</td>\n",
       "      <td>0</td>\n",
       "      <td>0</td>\n",
       "      <td>0</td>\n",
       "      <td>109</td>\n",
       "      <td>0.000000</td>\n",
       "      <td>0.000000</td>\n",
       "      <td>0.000000</td>\n",
       "      <td>0.000000</td>\n",
       "      <td>...</td>\n",
       "      <td>0</td>\n",
       "      <td>0</td>\n",
       "      <td>0</td>\n",
       "      <td>0</td>\n",
       "      <td>0</td>\n",
       "      <td>0</td>\n",
       "      <td>0</td>\n",
       "      <td>12</td>\n",
       "      <td>30</td>\n",
       "      <td>1</td>\n",
       "    </tr>\n",
       "    <tr>\n",
       "      <th>3</th>\n",
       "      <td>57077508.0</td>\n",
       "      <td>216</td>\n",
       "      <td>372</td>\n",
       "      <td>1020</td>\n",
       "      <td>1510</td>\n",
       "      <td>2388</td>\n",
       "      <td>8823.000000</td>\n",
       "      <td>7222.714286</td>\n",
       "      <td>9382.285714</td>\n",
       "      <td>9921.809524</td>\n",
       "      <td>...</td>\n",
       "      <td>4</td>\n",
       "      <td>4</td>\n",
       "      <td>13</td>\n",
       "      <td>0</td>\n",
       "      <td>4</td>\n",
       "      <td>13</td>\n",
       "      <td>20</td>\n",
       "      <td>21</td>\n",
       "      <td>5</td>\n",
       "      <td>0</td>\n",
       "    </tr>\n",
       "    <tr>\n",
       "      <th>4</th>\n",
       "      <td>157815664.0</td>\n",
       "      <td>0</td>\n",
       "      <td>81</td>\n",
       "      <td>182</td>\n",
       "      <td>184</td>\n",
       "      <td>233</td>\n",
       "      <td>0.000000</td>\n",
       "      <td>2289.000000</td>\n",
       "      <td>2337.071429</td>\n",
       "      <td>1562.619048</td>\n",
       "      <td>...</td>\n",
       "      <td>0</td>\n",
       "      <td>2</td>\n",
       "      <td>23</td>\n",
       "      <td>0</td>\n",
       "      <td>0</td>\n",
       "      <td>0</td>\n",
       "      <td>0</td>\n",
       "      <td>2</td>\n",
       "      <td>23</td>\n",
       "      <td>1</td>\n",
       "    </tr>\n",
       "  </tbody>\n",
       "</table>\n",
       "<p>5 rows × 25 columns</p>\n",
       "</div>"
      ],
      "text/plain": [
       "           uid  play_times_last_3_days  play_times_last_7_days  \\\n",
       "0  114363528.0                       0                       0   \n",
       "1  167920832.0                       9                      22   \n",
       "2  168573152.0                       0                       0   \n",
       "3   57077508.0                     216                     372   \n",
       "4  157815664.0                       0                      81   \n",
       "\n",
       "   play_times_last_14_days  play_times_last_21_days  play_times_last_30_days  \\\n",
       "0                        0                        1                       20   \n",
       "1                      354                      560                      817   \n",
       "2                        0                        0                      109   \n",
       "3                     1020                     1510                     2388   \n",
       "4                      182                      184                      233   \n",
       "\n",
       "   avg_playtime_last_3_days  avg_playtime_last_7_days  \\\n",
       "0                  0.000000                  0.000000   \n",
       "1                517.333333                484.571429   \n",
       "2                  0.000000                  0.000000   \n",
       "3               8823.000000               7222.714286   \n",
       "4                  0.000000               2289.000000   \n",
       "\n",
       "   avg_playtime_last_14_days  avg_playtime_last_21_days  ...    \\\n",
       "0                   0.000000                   5.000000  ...     \n",
       "1                4783.285714                5169.476190  ...     \n",
       "2                   0.000000                   0.000000  ...     \n",
       "3                9382.285714                9921.809524  ...     \n",
       "4                2337.071429                1562.619048  ...     \n",
       "\n",
       "   download_times_last_21_days  download_times_last_30_days  \\\n",
       "0                            6                           14   \n",
       "1                            2                            7   \n",
       "2                            0                            0   \n",
       "3                            4                            4   \n",
       "4                            0                            2   \n",
       "\n",
       "   days_since_last_download  search_times_last_3_days  \\\n",
       "0                        12                         0   \n",
       "1                        12                         0   \n",
       "2                         0                         0   \n",
       "3                        13                         0   \n",
       "4                        23                         0   \n",
       "\n",
       "   search_times_last_7_days  search_times_last_14_days  \\\n",
       "0                         0                          0   \n",
       "1                         1                          3   \n",
       "2                         0                          0   \n",
       "3                         4                         13   \n",
       "4                         0                          0   \n",
       "\n",
       "   search_times_last_21_days  search_times_last_30_days  \\\n",
       "0                          0                          8   \n",
       "1                         12                         29   \n",
       "2                          0                         12   \n",
       "3                         20                         21   \n",
       "4                          0                          2   \n",
       "\n",
       "   days_since_last_search  Churn  \n",
       "0                      30      1  \n",
       "1                       7      0  \n",
       "2                      30      1  \n",
       "3                       5      0  \n",
       "4                      23      1  \n",
       "\n",
       "[5 rows x 25 columns]"
      ]
     },
     "execution_count": 14,
     "metadata": {},
     "output_type": "execute_result"
    }
   ],
   "source": [
    "all_features_df3.head()"
   ]
  },
  {
   "cell_type": "markdown",
   "metadata": {},
   "source": [
    "### 4. Feature Exploration"
   ]
  },
  {
   "cell_type": "markdown",
   "metadata": {},
   "source": [
    "#### 4.1 Is recency features indicative of churn?"
   ]
  },
  {
   "cell_type": "code",
   "execution_count": 15,
   "metadata": {},
   "outputs": [],
   "source": [
    "recency_ft= all_features_df3.groupby('Churn')['days_since_last_search','days_since_last_play','days_since_last_download'].mean()"
   ]
  },
  {
   "cell_type": "code",
   "execution_count": 16,
   "metadata": {
    "scrolled": true
   },
   "outputs": [
    {
     "data": {
      "text/plain": [
       "<matplotlib.axes._subplots.AxesSubplot at 0x1a0fe40128>"
      ]
     },
     "execution_count": 16,
     "metadata": {},
     "output_type": "execute_result"
    },
    {
     "data": {
      "image/png": "[encoded data removed]",
      "text/plain": [
       "<Figure size 864x432 with 1 Axes>"
      ]
     },
     "metadata": {},
     "output_type": "display_data"
    }
   ],
   "source": [
    "%matplotlib inline\n",
    "plt.style.use('seaborn-poster')\n",
    "\n",
    "fig = plt.figure(figsize = (12,6))\n",
    "ax = fig.add_subplot(111)\n",
    "recency_ft.plot(kind='bar',ax=ax)"
   ]
  },
  {
   "cell_type": "markdown",
   "metadata": {},
   "source": [
    "> The average days since last play is significantly higher for churned users than active users"
   ]
  },
  {
   "cell_type": "code",
   "execution_count": 16,
   "metadata": {},
   "outputs": [
    {
     "name": "stdout",
     "output_type": "stream",
     "text": [
      "['seaborn-dark', 'seaborn-darkgrid', 'seaborn-ticks', 'fivethirtyeight', 'seaborn-whitegrid', 'classic', '_classic_test', 'fast', 'seaborn-talk', 'seaborn-dark-palette', 'seaborn-bright', 'seaborn-pastel', 'grayscale', 'seaborn-notebook', 'ggplot', 'seaborn-colorblind', 'seaborn-muted', 'seaborn', 'Solarize_Light2', 'seaborn-paper', 'bmh', 'tableau-colorblind10', 'seaborn-white', 'dark_background', 'seaborn-poster', 'seaborn-deep']\n"
     ]
    }
   ],
   "source": [
    "print(plt.style.available)"
   ]
  },
  {
   "cell_type": "markdown",
   "metadata": {},
   "source": [
    "#### 4.2 Those who did not search or download in the past 30 days(download/search NA) are more likely to churn?"
   ]
  },
  {
   "cell_type": "code",
   "execution_count": 17,
   "metadata": {},
   "outputs": [],
   "source": [
    "all_features_df_na= all_features_df.toPandas()"
   ]
  },
  {
   "cell_type": "code",
   "execution_count": 18,
   "metadata": {},
   "outputs": [
    {
     "data": {
      "text/plain": [
       "uid                                0\n",
       "play_times_last_3_days             0\n",
       "play_times_last_7_days             0\n",
       "play_times_last_14_days            0\n",
       "play_times_last_21_days            0\n",
       "play_times_last_30_days            0\n",
       "avg_playtime_last_3_days           0\n",
       "avg_playtime_last_7_days           0\n",
       "avg_playtime_last_14_days          0\n",
       "avg_playtime_last_21_days          0\n",
       "avg_playtime_last_30_days          0\n",
       "days_since_last_play               0\n",
       "download_times_last_3_days     17485\n",
       "download_times_last_7_days     17485\n",
       "download_times_last_14_days    17485\n",
       "download_times_last_21_days    17485\n",
       "download_times_last_30_days    17485\n",
       "days_since_last_download       17485\n",
       "search_times_last_3_days        9378\n",
       "search_times_last_7_days        9378\n",
       "search_times_last_14_days       9378\n",
       "search_times_last_21_days       9378\n",
       "search_times_last_30_days       9378\n",
       "days_since_last_search          9378\n",
       "Churn                              0\n",
       "dtype: int64"
      ]
     },
     "execution_count": 18,
     "metadata": {},
     "output_type": "execute_result"
    }
   ],
   "source": [
    "all_features_df_na.isnull().sum()"
   ]
  },
  {
   "cell_type": "code",
   "execution_count": 19,
   "metadata": {},
   "outputs": [],
   "source": [
    "down_search_na= all_features_df_na.loc[all_features_df_na.isnull().sum(axis=1)>=1, 'Churn']"
   ]
  },
  {
   "cell_type": "code",
   "execution_count": 20,
   "metadata": {},
   "outputs": [
    {
     "data": {
      "text/plain": [
       "<matplotlib.axes._subplots.AxesSubplot at 0x11642af60>"
      ]
     },
     "execution_count": 20,
     "metadata": {},
     "output_type": "execute_result"
    },
    {
     "data": {
      "image/png": "[encoded data removed]",
      "text/plain": [
       "<Figure size 576x396 with 1 Axes>"
      ]
     },
     "metadata": {},
     "output_type": "display_data"
    }
   ],
   "source": [
    "plt.style.use('seaborn')\n",
    "down_search_na.value_counts().plot.bar() "
   ]
  },
  {
   "cell_type": "markdown",
   "metadata": {},
   "source": [
    "* there seems to be no indication of churn whether the user has download or search activities in the past 30 days or not"
   ]
  },
  {
   "cell_type": "markdown",
   "metadata": {},
   "source": [
    "#### 4.3 How are those \"no-download-or-search\" users' play activities compare to those of the other users who have download and search activities in the past 30 days(download/search not NA)?"
   ]
  },
  {
   "cell_type": "code",
   "execution_count": 21,
   "metadata": {},
   "outputs": [],
   "source": [
    "all_features_df_na['no_down_src']='Yes' #set default to yes"
   ]
  },
  {
   "cell_type": "code",
   "execution_count": 22,
   "metadata": {},
   "outputs": [
    {
     "name": "stderr",
     "output_type": "stream",
     "text": [
      "/Users/lalago31/anaconda3/lib/python3.6/site-packages/pandas/core/indexing.py:189: SettingWithCopyWarning: \n",
      "A value is trying to be set on a copy of a slice from a DataFrame\n",
      "\n",
      "See the caveats in the documentation: http://pandas.pydata.org/pandas-docs/stable/indexing.html#indexing-view-versus-copy\n",
      "  self._setitem_with_indexer(indexer, value)\n"
     ]
    }
   ],
   "source": [
    "all_features_df_na['no_down_src'].loc[all_features_df_na.isnull().any(axis=1)]='No' \n",
    "#rows that has at least one NA --> no download or search activity in past 30 days"
   ]
  },
  {
   "cell_type": "code",
   "execution_count": 23,
   "metadata": {},
   "outputs": [],
   "source": [
    "play_act_compare=all_features_df_na.groupby('no_down_src')['play_times_last_21_days','play_times_last_14_days','play_times_last_7_days'].mean()"
   ]
  },
  {
   "cell_type": "code",
   "execution_count": 24,
   "metadata": {},
   "outputs": [
    {
     "data": {
      "text/html": [
       "<div>\n",
       "<style scoped>\n",
       "    .dataframe tbody tr th:only-of-type {\n",
       "        vertical-align: middle;\n",
       "    }\n",
       "\n",
       "    .dataframe tbody tr th {\n",
       "        vertical-align: top;\n",
       "    }\n",
       "\n",
       "    .dataframe thead th {\n",
       "        text-align: right;\n",
       "    }\n",
       "</style>\n",
       "<table border=\"1\" class=\"dataframe\">\n",
       "  <thead>\n",
       "    <tr style=\"text-align: right;\">\n",
       "      <th></th>\n",
       "      <th>play_times_last_21_days</th>\n",
       "      <th>play_times_last_14_days</th>\n",
       "      <th>play_times_last_7_days</th>\n",
       "    </tr>\n",
       "    <tr>\n",
       "      <th>no_down_src</th>\n",
       "      <th></th>\n",
       "      <th></th>\n",
       "      <th></th>\n",
       "    </tr>\n",
       "  </thead>\n",
       "  <tbody>\n",
       "    <tr>\n",
       "      <th>No</th>\n",
       "      <td>114.720324</td>\n",
       "      <td>68.625801</td>\n",
       "      <td>30.001947</td>\n",
       "    </tr>\n",
       "    <tr>\n",
       "      <th>Yes</th>\n",
       "      <td>472.390262</td>\n",
       "      <td>299.729903</td>\n",
       "      <td>134.777892</td>\n",
       "    </tr>\n",
       "  </tbody>\n",
       "</table>\n",
       "</div>"
      ],
      "text/plain": [
       "             play_times_last_21_days  play_times_last_14_days  \\\n",
       "no_down_src                                                     \n",
       "No                        114.720324                68.625801   \n",
       "Yes                       472.390262               299.729903   \n",
       "\n",
       "             play_times_last_7_days  \n",
       "no_down_src                          \n",
       "No                        30.001947  \n",
       "Yes                      134.777892  "
      ]
     },
     "execution_count": 24,
     "metadata": {},
     "output_type": "execute_result"
    }
   ],
   "source": [
    "play_act_compare"
   ]
  },
  {
   "cell_type": "code",
   "execution_count": 25,
   "metadata": {},
   "outputs": [
    {
     "data": {
      "text/plain": [
       "Text(0.5,0,'Have download or search in the past 30 days?')"
      ]
     },
     "execution_count": 25,
     "metadata": {},
     "output_type": "execute_result"
    },
    {
     "data": {
      "image/png": "[encoded data removed]",
      "text/plain": [
       "<Figure size 864x432 with 1 Axes>"
      ]
     },
     "metadata": {},
     "output_type": "display_data"
    }
   ],
   "source": [
    "plt.style.use('seaborn-poster')\n",
    "\n",
    "fig = plt.figure(figsize = (12,6))\n",
    "ax = fig.add_subplot(111)\n",
    "play_act_compare.plot(kind='bar',ax=ax)\n",
    "plt.xlabel('Have download or search in the past 30 days?')"
   ]
  },
  {
   "cell_type": "markdown",
   "metadata": {},
   "source": [
    "##### * The graph above shows users who have no download or search activities in the past 30 days have significantly fewer play times than those who have "
   ]
  },
  {
   "cell_type": "markdown",
   "metadata": {},
   "source": [
    "#### 4.4 More exploration of the relationship between play and download/search - Users who play more also download and search more?"
   ]
  },
  {
   "cell_type": "code",
   "execution_count": 67,
   "metadata": {},
   "outputs": [],
   "source": [
    "df_21days = all_features_df3.loc[:,['play_times_last_21_days','download_times_last_21_days','search_times_last_21_days']]\n",
    "play_21days_median = df_21days.play_times_last_21_days.median()\n",
    "df_21days['play_times_last_21days_median'] = df_21days.play_times_last_21_days.apply(lambda x: 'over median' if x >= play_21days_median else 'below median')\n",
    "down_srch_times = df_21days.groupby('play_times_last_21days_median')['download_times_last_21_days','search_times_last_21_days'].sum()"
   ]
  },
  {
   "cell_type": "code",
   "execution_count": 68,
   "metadata": {},
   "outputs": [
    {
     "data": {
      "text/html": [
       "<div>\n",
       "<style scoped>\n",
       "    .dataframe tbody tr th:only-of-type {\n",
       "        vertical-align: middle;\n",
       "    }\n",
       "\n",
       "    .dataframe tbody tr th {\n",
       "        vertical-align: top;\n",
       "    }\n",
       "\n",
       "    .dataframe thead th {\n",
       "        text-align: right;\n",
       "    }\n",
       "</style>\n",
       "<table border=\"1\" class=\"dataframe\">\n",
       "  <thead>\n",
       "    <tr style=\"text-align: right;\">\n",
       "      <th></th>\n",
       "      <th>download_times_last_21_days</th>\n",
       "      <th>search_times_last_21_days</th>\n",
       "    </tr>\n",
       "    <tr>\n",
       "      <th>play_times_last_21days_median</th>\n",
       "      <th></th>\n",
       "      <th></th>\n",
       "    </tr>\n",
       "  </thead>\n",
       "  <tbody>\n",
       "    <tr>\n",
       "      <th>below median</th>\n",
       "      <td>341121</td>\n",
       "      <td>484759</td>\n",
       "    </tr>\n",
       "    <tr>\n",
       "      <th>over median</th>\n",
       "      <td>1603427</td>\n",
       "      <td>2261602</td>\n",
       "    </tr>\n",
       "  </tbody>\n",
       "</table>\n",
       "</div>"
      ],
      "text/plain": [
       "                               download_times_last_21_days  \\\n",
       "play_times_last_21days_median                                \n",
       "below median                                        341121   \n",
       "over median                                        1603427   \n",
       "\n",
       "                               search_times_last_21_days  \n",
       "play_times_last_21days_median                             \n",
       "below median                                      484759  \n",
       "over median                                      2261602  "
      ]
     },
     "execution_count": 68,
     "metadata": {},
     "output_type": "execute_result"
    }
   ],
   "source": [
    "down_srch_times"
   ]
  },
  {
   "cell_type": "code",
   "execution_count": 69,
   "metadata": {},
   "outputs": [
    {
     "data": {
      "text/plain": [
       "<matplotlib.axes._subplots.AxesSubplot at 0x11ac54cf8>"
      ]
     },
     "execution_count": 69,
     "metadata": {},
     "output_type": "execute_result"
    },
    {
     "data": {
      "image/png": "[encoded data removed]",
      "text/plain": [
       "<Figure size 864x432 with 1 Axes>"
      ]
     },
     "metadata": {},
     "output_type": "display_data"
    }
   ],
   "source": [
    "fig = plt.figure(figsize = (12,6))\n",
    "ax = fig.add_subplot(111)\n",
    "down_srch_times.plot(kind='bar',ax=ax)"
   ]
  },
  {
   "cell_type": "markdown",
   "metadata": {},
   "source": [
    "#### * The graph above shows users who play more also download and search more and vice versa"
   ]
  },
  {
   "cell_type": "markdown",
   "metadata": {},
   "source": [
    "#### 4.5 Can we tell if a user will churn 2 weeks in advance by looking at frequency features in the last 2 weeks?"
   ]
  },
  {
   "cell_type": "code",
   "execution_count": 103,
   "metadata": {
    "collapsed": true
   },
   "outputs": [],
   "source": [
    "frq_ft= all_features_df3.groupby('Churn')['play_times_last_14_days','download_times_last_14_days','search_times_last_14_days'].sum()"
   ]
  },
  {
   "cell_type": "code",
   "execution_count": 104,
   "metadata": {},
   "outputs": [
    {
     "data": {
      "text/plain": [
       "<matplotlib.axes._subplots.AxesSubplot at 0x11c7ffa90>"
      ]
     },
     "execution_count": 104,
     "metadata": {},
     "output_type": "execute_result"
    },
    {
     "data": {
      "image/png": "[encoded data removed]",
      "text/plain": [
       "<matplotlib.figure.Figure at 0x11eeb83c8>"
      ]
     },
     "metadata": {},
     "output_type": "display_data"
    }
   ],
   "source": [
    "fig = plt.figure(figsize = (12,6))\n",
    "ax = fig.add_subplot(111)\n",
    "frq_ft.plot(kind='bar',ax=ax)"
   ]
  },
  {
   "cell_type": "markdown",
   "metadata": {},
   "source": [
    "> play times for churn users are significantly lower than active users by looking at past 14 days behavior"
   ]
  },
  {
   "cell_type": "markdown",
   "metadata": {},
   "source": [
    "#### What's the distribution of average play per day?"
   ]
  },
  {
   "cell_type": "code",
   "execution_count": 106,
   "metadata": {},
   "outputs": [
    {
     "data": {
      "image/png": "[encoded data removed]",
      "text/plain": [
       "<matplotlib.figure.Figure at 0x11ef3e7f0>"
      ]
     },
     "metadata": {},
     "output_type": "display_data"
    }
   ],
   "source": [
    "f, axs = plt.subplots(1,5, sharex = True, sharey=True, figsize = (20,5))\n",
    "window_list=[3,7,14,21,30]\n",
    "for w in window_list:\n",
    "    i = window_list.index(w)\n",
    "    colname = 'avg_playtime_last_' + str(w) + '_days'\n",
    "    plt.xlabel(\"average play time\")\n",
    "    plt.ylabel('count')\n",
    "    sns.distplot(all_features_df3[colname],ax = axs[i], bins = 30)\n",
    "\n",
    "    axs[i].set_title(colname)\n"
   ]
  },
  {
   "cell_type": "code",
   "execution_count": 105,
   "metadata": {
    "collapsed": true
   },
   "outputs": [],
   "source": [
    "all_features_df3.to_csv('./intermediate tables/all_features_label_combined.csv', index=False, header=True)"
   ]
  }
 ],
 "metadata": {
  "kernelspec": {
   "display_name": "Python 3",
   "language": "python",
   "name": "python3"
  },
  "language_info": {
   "codemirror_mode": {
    "name": "ipython",
    "version": 3
   },
   "file_extension": ".py",
   "mimetype": "text/x-python",
   "name": "python",
   "nbconvert_exporter": "python",
   "pygments_lexer": "ipython3",
   "version": "3.6.5"
  }
 },
 "nbformat": 4,
 "nbformat_minor": 2
}
