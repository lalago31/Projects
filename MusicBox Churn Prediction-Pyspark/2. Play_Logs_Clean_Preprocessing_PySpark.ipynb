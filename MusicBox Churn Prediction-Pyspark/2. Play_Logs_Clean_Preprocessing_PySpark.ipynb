{
 "cells": [
  {
   "cell_type": "markdown",
   "metadata": {},
   "source": [
    "# Summary:\n",
    "* Assign the dataframe schema and column names to play log text files and remove rows with incorrect number of columns in the loading process\n",
    "* Sanity Check to clean up bad record with invalid play_time and song_length, as well as uids with unreasonably large count of times during the given time frame\n",
    "* Transform the file_name to proper date format for future feature engineering purpose\n",
    "* Define the time frame and rules for churn prediction and create the Churn label based on users' activity in the given time frame \n",
    "* The work flow of preprocessing for play log files will be used as a template for download and search log files in the next step"
   ]
  },
  {
   "cell_type": "code",
   "execution_count": 1,
   "metadata": {
    "collapsed": true
   },
   "outputs": [],
   "source": [
    "import pandas as pd"
   ]
  },
  {
   "cell_type": "code",
   "execution_count": 2,
   "metadata": {
    "collapsed": true
   },
   "outputs": [],
   "source": [
    "#sparksession is used to create DF, register DF as tables, excute SQL over tables, cache tables\n",
    "from pyspark.sql import SparkSession\n",
    "\n",
    "from pyspark.sql import Row\n",
    "from pyspark.sql import functions\n",
    "\n",
    "from pyspark.sql.functions import *\n",
    "import pyspark.sql.functions as func\n",
    "from pyspark.sql.types import *\n",
    "\n",
    "# from operator import add\n",
    "# from operator import ge\n",
    "import sys"
   ]
  },
  {
   "cell_type": "code",
   "execution_count": 4,
   "metadata": {
    "collapsed": true
   },
   "outputs": [],
   "source": [
    "from pyspark import SparkContext\n",
    "sc = SparkContext.getOrCreate()"
   ]
  },
  {
   "cell_type": "code",
   "execution_count": 3,
   "metadata": {
    "collapsed": true
   },
   "outputs": [],
   "source": [
    "spark = SparkSession.builder.appName(\"Music Box log clean\").getOrCreate()"
   ]
  },
  {
   "cell_type": "code",
   "execution_count": 5,
   "metadata": {
    "collapsed": true
   },
   "outputs": [],
   "source": [
    "#load in date file, textFile will return RDD\n",
    "rdd = sc.textFile(\"./data/all_play_log.log.fn\")"
   ]
  },
  {
   "cell_type": "code",
   "execution_count": 31,
   "metadata": {},
   "outputs": [
    {
     "data": {
      "text/plain": [
       "160158968"
      ]
     },
     "execution_count": 31,
     "metadata": {},
     "output_type": "execute_result"
    }
   ],
   "source": [
    "rdd.count()"
   ]
  },
  {
   "cell_type": "code",
   "execution_count": 7,
   "metadata": {},
   "outputs": [
    {
     "data": {
      "text/plain": [
       "['264715 \\t 20170302',\n",
       " '292363 \\t 20170302',\n",
       " '154824972 \\tar \\t3300104 \\t0 \\tNot A Love Song \\tBean \\t22 \\t178 \\t0 \\t 20170302',\n",
       " '154431666 \\tar \\t6651913 \\t0 \\t再见只是陌生人 \\t庄心妍 \\t252 \\t251 \\t0 \\t 20170302',\n",
       " '154439430 \\tar \\t20870987 \\t0 \\t哥哥 \\t张杰 \\t358 \\t358 \\t0 \\t 20170302',\n",
       " '154739280 \\tar \\t872687 \\t0 \\t苦酒一杯又一杯 \\t龙飘飘 \\t164 \\t165 \\t0 \\t 20170302',\n",
       " '154798546 \\tar \\t2632638 \\t0 \\t旋转的潮流 \\tDella \\t783 \\t0 \\t0 \\t 20170302',\n",
       " '154777138 \\tip \\t9950164 \\t0 \\t刚好遇见你 \\t李玉刚 \\t0 \\t200 \\t0 \\t 20170302',\n",
       " '154785205 \\tar \\t502774 \\t0 \\t阿拉伯之夜 \\t群星 \\t10 \\t0 \\t0 \\t 20170302',\n",
       " '154412619 \\tar \\t2268011 \\t0 \\t有一点动心 \\t群星 \\t235 \\t235 \\t0 \\t 20170302']"
      ]
     },
     "execution_count": 7,
     "metadata": {},
     "output_type": "execute_result"
    }
   ],
   "source": [
    "rdd.take(10)"
   ]
  },
  {
   "cell_type": "markdown",
   "metadata": {},
   "source": [
    "### Fix the dataframe schema\n",
    "after examing the first 10 rows, it's obvious that number of fields in each row can be different. so we cannot do inferschema but should specify the right schema to eliminate the bad rows with fewer columns, and assign column name manually."
   ]
  },
  {
   "cell_type": "code",
   "execution_count": 8,
   "metadata": {
    "collapsed": true
   },
   "outputs": [],
   "source": [
    "#Split each row by \"\\t\", if there are 10 fields with correct type, \n",
    "#keep them, if not, skip it, also give the col_name\n",
    "def parseLine(line):\n",
    "    fields = line.split(\"\\t\")\n",
    "    if len(fields) == 10:\n",
    "        try: \n",
    "            uid = float(fields[0])\n",
    "            device = str(fields[1])\n",
    "            song_id = float(fields[2])\n",
    "            song_type = float(fields[3])\n",
    "            song_name = str(fields[4])\n",
    "            singer = str(fields[5])\n",
    "            play_time = float(fields[6])\n",
    "            song_length = float(fields[7])\n",
    "            paid_flag = float(fields[8])\n",
    "            file_name = str(fields[9])\n",
    "            return Row(uid, device, song_id, song_type, song_name, singer, \n",
    "                       play_time, song_length, paid_flag, file_name)\n",
    "        except:\n",
    "            return Row(None)\n",
    "    else:\n",
    "        return Row(None)\n",
    "\n",
    "# Create Row entries that specify column name, to prepare the RDD to convert it to a DataFrame\n",
    "# Always important to filter on field length after splitting, to avoid \"index out of range error\""
   ]
  },
  {
   "cell_type": "code",
   "execution_count": 9,
   "metadata": {
    "collapsed": true
   },
   "outputs": [],
   "source": [
    "# similar to sql table schema setting\n",
    "# Spark SQL StructType is the data type representing rows. \n",
    "# A StructType object comprises a list of StructField, which represents a field in a StructType\n",
    "# StructField(\"col_name\", dataType, nullable)\n",
    "\n",
    "schema = StructType([StructField('uid', FloatType(), False),\n",
    "                     StructField('device', StringType(), True),\n",
    "                     StructField('song_id', FloatType(), False),\n",
    "                     StructField('song_type', FloatType(), True),\n",
    "                     StructField('song_name', StringType(), True),\n",
    "                     StructField('singer', StringType(), True),\n",
    "                     StructField('play_time', FloatType(), False),\n",
    "                     StructField('song_length', FloatType(), True),\n",
    "                     StructField('paid_flag', FloatType(), True),\n",
    "                     StructField('file_name', StringType(), True),])"
   ]
  },
  {
   "cell_type": "code",
   "execution_count": 10,
   "metadata": {
    "collapsed": true
   },
   "outputs": [],
   "source": [
    "#filter out the lines with wrong number of columns \n",
    "play = rdd.map(parseLine).filter(lambda x: len(x) == len(schema))"
   ]
  },
  {
   "cell_type": "code",
   "execution_count": 11,
   "metadata": {
    "collapsed": true
   },
   "outputs": [],
   "source": [
    "#cache means temperorily save in the memory\n",
    "play_df = spark.createDataFrame(play, schema).cache()"
   ]
  },
  {
   "cell_type": "code",
   "execution_count": 12,
   "metadata": {},
   "outputs": [
    {
     "data": {
      "text/html": [
       "<div>\n",
       "<style>\n",
       "    .dataframe thead tr:only-child th {\n",
       "        text-align: right;\n",
       "    }\n",
       "\n",
       "    .dataframe thead th {\n",
       "        text-align: left;\n",
       "    }\n",
       "\n",
       "    .dataframe tbody tr th {\n",
       "        vertical-align: top;\n",
       "    }\n",
       "</style>\n",
       "<table border=\"1\" class=\"dataframe\">\n",
       "  <thead>\n",
       "    <tr style=\"text-align: right;\">\n",
       "      <th></th>\n",
       "      <th>uid</th>\n",
       "      <th>device</th>\n",
       "      <th>song_id</th>\n",
       "      <th>song_type</th>\n",
       "      <th>song_name</th>\n",
       "      <th>singer</th>\n",
       "      <th>play_time</th>\n",
       "      <th>song_length</th>\n",
       "      <th>paid_flag</th>\n",
       "      <th>file_name</th>\n",
       "    </tr>\n",
       "  </thead>\n",
       "  <tbody>\n",
       "    <tr>\n",
       "      <th>0</th>\n",
       "      <td>154824976.0</td>\n",
       "      <td>ar</td>\n",
       "      <td>3300104.0</td>\n",
       "      <td>0.0</td>\n",
       "      <td>Not A Love Song</td>\n",
       "      <td>Bean</td>\n",
       "      <td>22.0</td>\n",
       "      <td>178.0</td>\n",
       "      <td>0.0</td>\n",
       "      <td>20170302</td>\n",
       "    </tr>\n",
       "    <tr>\n",
       "      <th>1</th>\n",
       "      <td>154431664.0</td>\n",
       "      <td>ar</td>\n",
       "      <td>6651913.0</td>\n",
       "      <td>0.0</td>\n",
       "      <td>再见只是陌生人</td>\n",
       "      <td>庄心妍</td>\n",
       "      <td>252.0</td>\n",
       "      <td>251.0</td>\n",
       "      <td>0.0</td>\n",
       "      <td>20170302</td>\n",
       "    </tr>\n",
       "    <tr>\n",
       "      <th>2</th>\n",
       "      <td>154439424.0</td>\n",
       "      <td>ar</td>\n",
       "      <td>20870988.0</td>\n",
       "      <td>0.0</td>\n",
       "      <td>哥哥</td>\n",
       "      <td>张杰</td>\n",
       "      <td>358.0</td>\n",
       "      <td>358.0</td>\n",
       "      <td>0.0</td>\n",
       "      <td>20170302</td>\n",
       "    </tr>\n",
       "    <tr>\n",
       "      <th>3</th>\n",
       "      <td>154739280.0</td>\n",
       "      <td>ar</td>\n",
       "      <td>872687.0</td>\n",
       "      <td>0.0</td>\n",
       "      <td>苦酒一杯又一杯</td>\n",
       "      <td>龙飘飘</td>\n",
       "      <td>164.0</td>\n",
       "      <td>165.0</td>\n",
       "      <td>0.0</td>\n",
       "      <td>20170302</td>\n",
       "    </tr>\n",
       "    <tr>\n",
       "      <th>4</th>\n",
       "      <td>154798544.0</td>\n",
       "      <td>ar</td>\n",
       "      <td>2632638.0</td>\n",
       "      <td>0.0</td>\n",
       "      <td>旋转的潮流</td>\n",
       "      <td>Della</td>\n",
       "      <td>783.0</td>\n",
       "      <td>0.0</td>\n",
       "      <td>0.0</td>\n",
       "      <td>20170302</td>\n",
       "    </tr>\n",
       "    <tr>\n",
       "      <th>5</th>\n",
       "      <td>154777136.0</td>\n",
       "      <td>ip</td>\n",
       "      <td>9950164.0</td>\n",
       "      <td>0.0</td>\n",
       "      <td>刚好遇见你</td>\n",
       "      <td>李玉刚</td>\n",
       "      <td>0.0</td>\n",
       "      <td>200.0</td>\n",
       "      <td>0.0</td>\n",
       "      <td>20170302</td>\n",
       "    </tr>\n",
       "    <tr>\n",
       "      <th>6</th>\n",
       "      <td>154785200.0</td>\n",
       "      <td>ar</td>\n",
       "      <td>502774.0</td>\n",
       "      <td>0.0</td>\n",
       "      <td>阿拉伯之夜</td>\n",
       "      <td>群星</td>\n",
       "      <td>10.0</td>\n",
       "      <td>0.0</td>\n",
       "      <td>0.0</td>\n",
       "      <td>20170302</td>\n",
       "    </tr>\n",
       "    <tr>\n",
       "      <th>7</th>\n",
       "      <td>154412624.0</td>\n",
       "      <td>ar</td>\n",
       "      <td>2268011.0</td>\n",
       "      <td>0.0</td>\n",
       "      <td>有一点动心</td>\n",
       "      <td>群星</td>\n",
       "      <td>235.0</td>\n",
       "      <td>235.0</td>\n",
       "      <td>0.0</td>\n",
       "      <td>20170302</td>\n",
       "    </tr>\n",
       "    <tr>\n",
       "      <th>8</th>\n",
       "      <td>154830960.0</td>\n",
       "      <td>ar</td>\n",
       "      <td>238895.0</td>\n",
       "      <td>0.0</td>\n",
       "      <td>自由飞翔</td>\n",
       "      <td>凤凰传奇</td>\n",
       "      <td>256.0</td>\n",
       "      <td>256.0</td>\n",
       "      <td>0.0</td>\n",
       "      <td>20170302</td>\n",
       "    </tr>\n",
       "    <tr>\n",
       "      <th>9</th>\n",
       "      <td>154412736.0</td>\n",
       "      <td>ar</td>\n",
       "      <td>135368.0</td>\n",
       "      <td>0.0</td>\n",
       "      <td>Big Big World</td>\n",
       "      <td>Emilia</td>\n",
       "      <td>206.0</td>\n",
       "      <td>206.0</td>\n",
       "      <td>0.0</td>\n",
       "      <td>20170302</td>\n",
       "    </tr>\n",
       "  </tbody>\n",
       "</table>\n",
       "</div>"
      ],
      "text/plain": [
       "           uid device     song_id  song_type         song_name   singer  \\\n",
       "0  154824976.0    ar    3300104.0        0.0  Not A Love Song     Bean    \n",
       "1  154431664.0    ar    6651913.0        0.0          再见只是陌生人      庄心妍    \n",
       "2  154439424.0    ar   20870988.0        0.0               哥哥       张杰    \n",
       "3  154739280.0    ar     872687.0        0.0          苦酒一杯又一杯      龙飘飘    \n",
       "4  154798544.0    ar    2632638.0        0.0            旋转的潮流    Della    \n",
       "5  154777136.0    ip    9950164.0        0.0            刚好遇见你      李玉刚    \n",
       "6  154785200.0    ar     502774.0        0.0            阿拉伯之夜       群星    \n",
       "7  154412624.0    ar    2268011.0        0.0            有一点动心       群星    \n",
       "8  154830960.0    ar     238895.0        0.0             自由飞翔     凤凰传奇    \n",
       "9  154412736.0    ar     135368.0        0.0    Big Big World   Emilia    \n",
       "\n",
       "   play_time  song_length  paid_flag  file_name  \n",
       "0       22.0        178.0        0.0   20170302  \n",
       "1      252.0        251.0        0.0   20170302  \n",
       "2      358.0        358.0        0.0   20170302  \n",
       "3      164.0        165.0        0.0   20170302  \n",
       "4      783.0          0.0        0.0   20170302  \n",
       "5        0.0        200.0        0.0   20170302  \n",
       "6       10.0          0.0        0.0   20170302  \n",
       "7      235.0        235.0        0.0   20170302  \n",
       "8      256.0        256.0        0.0   20170302  \n",
       "9      206.0        206.0        0.0   20170302  "
      ]
     },
     "execution_count": 12,
     "metadata": {},
     "output_type": "execute_result"
    }
   ],
   "source": [
    "pd.DataFrame(play_df.take(10),columns=play_df.columns)"
   ]
  },
  {
   "cell_type": "markdown",
   "metadata": {},
   "source": [
    "### Clean up the invalid records\n",
    "* play_time must be shorter or equal to song_length, and both should be positive values\n",
    "* if play_time is NA, it means the user did not play the song or close the play before it starts. those should be removed"
   ]
  },
  {
   "cell_type": "code",
   "execution_count": 13,
   "metadata": {
    "collapsed": true
   },
   "outputs": [],
   "source": [
    "play_df = play_df.filter(play_df.play_time >=0) \\\n",
    "                .filter(play_df.song_length >0) \\\n",
    "                .filter(play_df.play_time<=play_df.song_length)\\\n",
    "                .dropna(how = 'any', subset = ['play_time']).cache()"
   ]
  },
  {
   "cell_type": "code",
   "execution_count": 21,
   "metadata": {},
   "outputs": [
    {
     "name": "stdout",
     "output_type": "stream",
     "text": [
      "+-------+------------------+------------------+\n",
      "|summary|         play_time|       song_length|\n",
      "+-------+------------------+------------------+\n",
      "|  count|         129203197|         129203197|\n",
      "|   mean|147.25500256529446| 313.0755549752207|\n",
      "| stddev| 187.4640718975207|174400.39967611732|\n",
      "|    min|               0.0|               1.0|\n",
      "|    max|          149983.0|      1.34396621E9|\n",
      "+-------+------------------+------------------+\n",
      "\n"
     ]
    }
   ],
   "source": [
    "play_df.select('play_time','song_length').describe().show() #some song_length are very large"
   ]
  },
  {
   "cell_type": "code",
   "execution_count": 17,
   "metadata": {
    "collapsed": true
   },
   "outputs": [],
   "source": [
    "#unique uid count\n",
    "uid_distinct = play_df.select('uid').distinct().count()"
   ]
  },
  {
   "cell_type": "code",
   "execution_count": 20,
   "metadata": {},
   "outputs": [
    {
     "name": "stdout",
     "output_type": "stream",
     "text": [
      "unique uid in the play file is :139684\n"
     ]
    }
   ],
   "source": [
    "print('unique uid in the play file is :{}'.format(uid_distinct) )"
   ]
  },
  {
   "cell_type": "code",
   "execution_count": 22,
   "metadata": {
    "collapsed": true
   },
   "outputs": [],
   "source": [
    "uid_count=play_df.groupBy('uid').count().orderBy('count',ascending= False)"
   ]
  },
  {
   "cell_type": "code",
   "execution_count": 23,
   "metadata": {},
   "outputs": [
    {
     "name": "stdout",
     "output_type": "stream",
     "text": [
      "+------------+-------+\n",
      "|         uid|  count|\n",
      "+------------+-------+\n",
      "| 3.7025504E7|3128276|\n",
      "|   1685126.0|3059515|\n",
      "|   1791497.0|2749957|\n",
      "|    497685.0|2322327|\n",
      "|    736305.0|1672403|\n",
      "|   1062806.0| 767260|\n",
      "|    751824.0| 556664|\n",
      "|         0.0| 540872|\n",
      "| 4.6532272E7| 380882|\n",
      "| 2.8638488E7| 380439|\n",
      "|   1749320.0| 375600|\n",
      "|   1679121.0| 349781|\n",
      "|    637650.0| 199728|\n",
      "| 6.4268008E7| 138542|\n",
      "| 3.2166204E7| 123180|\n",
      "| 1.5594824E8| 114481|\n",
      "|1.67982848E8|  81688|\n",
      "| 2.6036032E7|  80660|\n",
      "|    533817.0|  70192|\n",
      "| 1.6517426E7|  65716|\n",
      "+------------+-------+\n",
      "only showing top 20 rows\n",
      "\n"
     ]
    }
   ],
   "source": [
    "uid_count.show()"
   ]
  },
  {
   "cell_type": "code",
   "execution_count": 74,
   "metadata": {
    "collapsed": true
   },
   "outputs": [],
   "source": [
    "import matplotlib.pyplot as plt\n",
    "%matplotlib inline"
   ]
  },
  {
   "cell_type": "code",
   "execution_count": 76,
   "metadata": {
    "collapsed": true
   },
   "outputs": [],
   "source": [
    "pd_uid_count=uid_count.toPandas()  "
   ]
  },
  {
   "cell_type": "code",
   "execution_count": 80,
   "metadata": {},
   "outputs": [
    {
     "data": {
      "text/plain": [
       "<matplotlib.text.Text at 0x110123e80>"
      ]
     },
     "execution_count": 80,
     "metadata": {},
     "output_type": "execute_result"
    },
    {
     "data": {
      "image/png": "[encoded data removed]",
      "text/plain": [
       "<matplotlib.figure.Figure at 0x110b554e0>"
      ]
     },
     "metadata": {},
     "output_type": "display_data"
    }
   ],
   "source": [
    "import numpy as np\n",
    "np.log10(pd_uid_count['count']).plot.hist()\n",
    "plt.xlabel('user play counts in 10^n')"
   ]
  },
  {
   "cell_type": "code",
   "execution_count": 26,
   "metadata": {},
   "outputs": [
    {
     "data": {
      "text/plain": [
       "[Row(file_name=' 20170302'),\n",
       " Row(file_name=' 20170303'),\n",
       " Row(file_name=' 20170304'),\n",
       " Row(file_name=' 20170305'),\n",
       " Row(file_name=' 20170306'),\n",
       " Row(file_name=' 20170307'),\n",
       " Row(file_name=' 20170308'),\n",
       " Row(file_name=' 20170309'),\n",
       " Row(file_name=' 20170330'),\n",
       " Row(file_name=' 20170331'),\n",
       " Row(file_name=' 20170339'),\n",
       " Row(file_name=' 20170401'),\n",
       " Row(file_name=' 20170402'),\n",
       " Row(file_name=' 20170403'),\n",
       " Row(file_name=' 20170404'),\n",
       " Row(file_name=' 20170405'),\n",
       " Row(file_name=' 20170406'),\n",
       " Row(file_name=' 20170407'),\n",
       " Row(file_name=' 20170408'),\n",
       " Row(file_name=' 20170409'),\n",
       " Row(file_name=' 20170410'),\n",
       " Row(file_name=' 20170411'),\n",
       " Row(file_name=' 20170412'),\n",
       " Row(file_name=' 20170413'),\n",
       " Row(file_name=' 20170414'),\n",
       " Row(file_name=' 20170415'),\n",
       " Row(file_name=' 20170416'),\n",
       " Row(file_name=' 20170417'),\n",
       " Row(file_name=' 20170418'),\n",
       " Row(file_name=' 20170419'),\n",
       " Row(file_name=' 20170420'),\n",
       " Row(file_name=' 20170421'),\n",
       " Row(file_name=' 20170422'),\n",
       " Row(file_name=' 20170423'),\n",
       " Row(file_name=' 20170424'),\n",
       " Row(file_name=' 20170425'),\n",
       " Row(file_name=' 20170426'),\n",
       " Row(file_name=' 20170427'),\n",
       " Row(file_name=' 20170428'),\n",
       " Row(file_name=' 20170429'),\n",
       " Row(file_name=' 20170430'),\n",
       " Row(file_name=' 20170501'),\n",
       " Row(file_name=' 20170502'),\n",
       " Row(file_name=' 20170503'),\n",
       " Row(file_name=' 20170504'),\n",
       " Row(file_name=' 20170505'),\n",
       " Row(file_name=' 20170506'),\n",
       " Row(file_name=' 20170507'),\n",
       " Row(file_name=' 20170508'),\n",
       " Row(file_name=' 20170509'),\n",
       " Row(file_name=' 20170510'),\n",
       " Row(file_name=' 20170511'),\n",
       " Row(file_name=' 20170512')]"
      ]
     },
     "execution_count": 26,
     "metadata": {},
     "output_type": "execute_result"
    }
   ],
   "source": [
    "file_dates=play_df.select('file_name').distinct().orderBy('file_name',ascending= True)\n",
    "file_dates.head(55)\n",
    "#20170339 should be 20170329, dates should be fixed/cleaned later. there are missing file dates 20170310-20170328"
   ]
  },
  {
   "cell_type": "markdown",
   "metadata": {},
   "source": [
    "### Sanity Check: \n",
    "file date range is 2017-03-02 to 2017-05-12 minus the missing file dates 2017-03-10 to 2017-03-28 is 53 days. average song length ~4min, a normal user plays at most 10 hours a day, uid count for a day is approx 150 times, so for 53 days, the uid count should be ~ 7950 at most. Those uid that show up more than that boundry can be test or robot account and should be removed from the dataframe."
   ]
  },
  {
   "cell_type": "markdown",
   "metadata": {},
   "source": [
    "#### drop uid with extremely large count. those can be robot users"
   ]
  },
  {
   "cell_type": "code",
   "execution_count": 27,
   "metadata": {
    "collapsed": true
   },
   "outputs": [],
   "source": [
    "valid_uid=uid_count.filter(uid_count['count']<=7950)"
   ]
  },
  {
   "cell_type": "code",
   "execution_count": 29,
   "metadata": {},
   "outputs": [
    {
     "data": {
      "text/plain": [
       "139455"
      ]
     },
     "execution_count": 29,
     "metadata": {},
     "output_type": "execute_result"
    }
   ],
   "source": [
    "valid_uid.count()"
   ]
  },
  {
   "cell_type": "code",
   "execution_count": 30,
   "metadata": {},
   "outputs": [
    {
     "name": "stdout",
     "output_type": "stream",
     "text": [
      "root\n",
      " |-- uid: float (nullable = false)\n",
      " |-- count: long (nullable = false)\n",
      "\n"
     ]
    }
   ],
   "source": [
    "valid_uid.printSchema()"
   ]
  },
  {
   "cell_type": "markdown",
   "metadata": {},
   "source": [
    "### Join play_df with valid_uid to get all fields of valid uid play history"
   ]
  },
  {
   "cell_type": "code",
   "execution_count": 31,
   "metadata": {
    "collapsed": true
   },
   "outputs": [],
   "source": [
    "play_valid_df = play_df.join(valid_uid, on = 'uid', how = 'inner') \\\n",
    "                       .select('uid', 'device', 'song_id', 'play_time', 'song_length', 'file_name') \\\n",
    "                    .cache()"
   ]
  },
  {
   "cell_type": "code",
   "execution_count": 32,
   "metadata": {},
   "outputs": [
    {
     "data": {
      "text/html": [
       "<div>\n",
       "<style>\n",
       "    .dataframe thead tr:only-child th {\n",
       "        text-align: right;\n",
       "    }\n",
       "\n",
       "    .dataframe thead th {\n",
       "        text-align: left;\n",
       "    }\n",
       "\n",
       "    .dataframe tbody tr th {\n",
       "        vertical-align: top;\n",
       "    }\n",
       "</style>\n",
       "<table border=\"1\" class=\"dataframe\">\n",
       "  <thead>\n",
       "    <tr style=\"text-align: right;\">\n",
       "      <th></th>\n",
       "      <th>uid</th>\n",
       "      <th>device</th>\n",
       "      <th>song_id</th>\n",
       "      <th>play_time</th>\n",
       "      <th>song_length</th>\n",
       "      <th>file_name</th>\n",
       "    </tr>\n",
       "  </thead>\n",
       "  <tbody>\n",
       "    <tr>\n",
       "      <th>0</th>\n",
       "      <td>13586118.0</td>\n",
       "      <td>ar</td>\n",
       "      <td>157799.0</td>\n",
       "      <td>31.0</td>\n",
       "      <td>258.0</td>\n",
       "      <td>20170330</td>\n",
       "    </tr>\n",
       "    <tr>\n",
       "      <th>1</th>\n",
       "      <td>13586118.0</td>\n",
       "      <td>ar</td>\n",
       "      <td>9561562.0</td>\n",
       "      <td>6.0</td>\n",
       "      <td>253.0</td>\n",
       "      <td>20170330</td>\n",
       "    </tr>\n",
       "    <tr>\n",
       "      <th>2</th>\n",
       "      <td>13586118.0</td>\n",
       "      <td>ar</td>\n",
       "      <td>237843.0</td>\n",
       "      <td>4.0</td>\n",
       "      <td>210.0</td>\n",
       "      <td>20170330</td>\n",
       "    </tr>\n",
       "    <tr>\n",
       "      <th>3</th>\n",
       "      <td>13586118.0</td>\n",
       "      <td>ar</td>\n",
       "      <td>9561562.0</td>\n",
       "      <td>0.0</td>\n",
       "      <td>253.0</td>\n",
       "      <td>20170330</td>\n",
       "    </tr>\n",
       "    <tr>\n",
       "      <th>4</th>\n",
       "      <td>13586118.0</td>\n",
       "      <td>ar</td>\n",
       "      <td>9561562.0</td>\n",
       "      <td>4.0</td>\n",
       "      <td>253.0</td>\n",
       "      <td>20170330</td>\n",
       "    </tr>\n",
       "    <tr>\n",
       "      <th>5</th>\n",
       "      <td>13586118.0</td>\n",
       "      <td>ar</td>\n",
       "      <td>157671.0</td>\n",
       "      <td>1.0</td>\n",
       "      <td>203.0</td>\n",
       "      <td>20170330</td>\n",
       "    </tr>\n",
       "    <tr>\n",
       "      <th>6</th>\n",
       "      <td>13586118.0</td>\n",
       "      <td>ar</td>\n",
       "      <td>157671.0</td>\n",
       "      <td>0.0</td>\n",
       "      <td>203.0</td>\n",
       "      <td>20170330</td>\n",
       "    </tr>\n",
       "    <tr>\n",
       "      <th>7</th>\n",
       "      <td>13586118.0</td>\n",
       "      <td>ar</td>\n",
       "      <td>157671.0</td>\n",
       "      <td>1.0</td>\n",
       "      <td>203.0</td>\n",
       "      <td>20170330</td>\n",
       "    </tr>\n",
       "    <tr>\n",
       "      <th>8</th>\n",
       "      <td>13586118.0</td>\n",
       "      <td>ar</td>\n",
       "      <td>157719.0</td>\n",
       "      <td>237.0</td>\n",
       "      <td>237.0</td>\n",
       "      <td>20170330</td>\n",
       "    </tr>\n",
       "    <tr>\n",
       "      <th>9</th>\n",
       "      <td>13586118.0</td>\n",
       "      <td>ar</td>\n",
       "      <td>237843.0</td>\n",
       "      <td>210.0</td>\n",
       "      <td>210.0</td>\n",
       "      <td>20170330</td>\n",
       "    </tr>\n",
       "  </tbody>\n",
       "</table>\n",
       "</div>"
      ],
      "text/plain": [
       "          uid device    song_id  play_time  song_length  file_name\n",
       "0  13586118.0     ar   157799.0       31.0        258.0   20170330\n",
       "1  13586118.0     ar  9561562.0        6.0        253.0   20170330\n",
       "2  13586118.0     ar   237843.0        4.0        210.0   20170330\n",
       "3  13586118.0     ar  9561562.0        0.0        253.0   20170330\n",
       "4  13586118.0     ar  9561562.0        4.0        253.0   20170330\n",
       "5  13586118.0     ar   157671.0        1.0        203.0   20170330\n",
       "6  13586118.0     ar   157671.0        0.0        203.0   20170330\n",
       "7  13586118.0     ar   157671.0        1.0        203.0   20170330\n",
       "8  13586118.0     ar   157719.0      237.0        237.0   20170330\n",
       "9  13586118.0     ar   237843.0      210.0        210.0   20170330"
      ]
     },
     "execution_count": 32,
     "metadata": {},
     "output_type": "execute_result"
    }
   ],
   "source": [
    "pd.DataFrame(play_valid_df.take(10),columns=play_valid_df.columns)"
   ]
  },
  {
   "cell_type": "markdown",
   "metadata": {},
   "source": [
    "### transform the file_name date string to a proper date format for future feature engineering "
   ]
  },
  {
   "cell_type": "code",
   "execution_count": 33,
   "metadata": {
    "collapsed": true
   },
   "outputs": [],
   "source": [
    "play_valid_df_2=play_valid_df.withColumn('datestring',trim(play_valid_df.file_name.substr(1,9)))\\\n",
    "                             .withColumn('date_val',regexp_replace('datestring','20170339','20170329'))\\\n",
    "                             .withColumn('date_unix',unix_timestamp('date_val','yyyyMMdd'))\\\n",
    "                             .withColumn('date',from_unixtime('date_unix').alias(\"date\").cast(DateType()))"
   ]
  },
  {
   "cell_type": "code",
   "execution_count": 36,
   "metadata": {},
   "outputs": [
    {
     "name": "stdout",
     "output_type": "stream",
     "text": [
      "+----------+\n",
      "|      date|\n",
      "+----------+\n",
      "|2017-04-09|\n",
      "|2017-05-11|\n",
      "|2017-04-25|\n",
      "|2017-04-03|\n",
      "|2017-04-29|\n",
      "|2017-05-10|\n",
      "|2017-05-09|\n",
      "|2017-04-07|\n",
      "|2017-04-02|\n",
      "|2017-04-12|\n",
      "|2017-04-11|\n",
      "|2017-04-05|\n",
      "|2017-04-20|\n",
      "|2017-04-27|\n",
      "|2017-04-18|\n",
      "|2017-03-05|\n",
      "|2017-04-30|\n",
      "|2017-05-05|\n",
      "|2017-04-15|\n",
      "|2017-04-26|\n",
      "+----------+\n",
      "only showing top 20 rows\n",
      "\n"
     ]
    }
   ],
   "source": [
    "play_valid_df_2.select('date').distinct().show()"
   ]
  },
  {
   "cell_type": "code",
   "execution_count": 39,
   "metadata": {
    "collapsed": true
   },
   "outputs": [],
   "source": [
    "play_valid_df_2=play_valid_df_2.drop('date_unix').drop('date_val').drop('datestring')"
   ]
  },
  {
   "cell_type": "code",
   "execution_count": 40,
   "metadata": {},
   "outputs": [
    {
     "name": "stdout",
     "output_type": "stream",
     "text": [
      "+-----------+------+---------+---------+-----------+---------+----------+\n",
      "|        uid|device|  song_id|play_time|song_length|file_name|      date|\n",
      "+-----------+------+---------+---------+-----------+---------+----------+\n",
      "|1.3586118E7|    ar| 157799.0|     31.0|      258.0| 20170330|2017-03-30|\n",
      "|1.3586118E7|    ar|9561562.0|      6.0|      253.0| 20170330|2017-03-30|\n",
      "|1.3586118E7|    ar| 237843.0|      4.0|      210.0| 20170330|2017-03-30|\n",
      "|1.3586118E7|    ar|9561562.0|      0.0|      253.0| 20170330|2017-03-30|\n",
      "|1.3586118E7|    ar|9561562.0|      4.0|      253.0| 20170330|2017-03-30|\n",
      "|1.3586118E7|    ar| 157671.0|      1.0|      203.0| 20170330|2017-03-30|\n",
      "|1.3586118E7|    ar| 157671.0|      0.0|      203.0| 20170330|2017-03-30|\n",
      "|1.3586118E7|    ar| 157671.0|      1.0|      203.0| 20170330|2017-03-30|\n",
      "|1.3586118E7|    ar| 157719.0|    237.0|      237.0| 20170330|2017-03-30|\n",
      "|1.3586118E7|    ar| 237843.0|    210.0|      210.0| 20170330|2017-03-30|\n",
      "|1.3586118E7|    ar|9561562.0|     44.0|      253.0| 20170330|2017-03-30|\n",
      "|1.3586118E7|    ar| 157799.0|     25.0|      258.0| 20170330|2017-03-30|\n",
      "|1.3586118E7|    ar| 157719.0|    236.0|      237.0| 20170330|2017-03-30|\n",
      "|1.3586118E7|    ar| 237843.0|    209.0|      210.0| 20170330|2017-03-30|\n",
      "|1.3586118E7|    ar|9561562.0|     15.0|      253.0| 20170330|2017-03-30|\n",
      "|1.3586118E7|    ar| 590383.0|     33.0|      192.0| 20170330|2017-03-30|\n",
      "|1.3586118E7|    ar|6546492.0|      5.0|      227.0| 20170330|2017-03-30|\n",
      "|1.3586118E7|    ar| 590383.0|      1.0|      192.0| 20170330|2017-03-30|\n",
      "|1.3586118E7|    ar|6546492.0|      0.0|      227.0| 20170330|2017-03-30|\n",
      "|1.3586118E7|    ar|6546492.0|      0.0|      227.0| 20170330|2017-03-30|\n",
      "+-----------+------+---------+---------+-----------+---------+----------+\n",
      "only showing top 20 rows\n",
      "\n"
     ]
    }
   ],
   "source": [
    "play_valid_df_2.show()"
   ]
  },
  {
   "cell_type": "markdown",
   "metadata": {},
   "source": [
    "### Define churn label\n",
    "* One straightforward way is to use time window to see users' activities. Here we have consecutive files from 2017-03-30 to 2017-05-12(before 03-30 we have 18 days' files unavailable). \n",
    "* If we use 2017-03-30 to 2017-04-28 (30 days) as the activity trakcing window and last two weeks 2017-04-29 to 2017-05-12 as the result window to see if a person churns or not - if uid shows up during 2017-04-29 ~ 2017-05-12 then 0(still active) else 1(churned)"
   ]
  },
  {
   "cell_type": "code",
   "execution_count": 50,
   "metadata": {
    "collapsed": true
   },
   "outputs": [],
   "source": [
    "window_start_date='2017-04-29'\n",
    "window_end_date='2017-05-12'\n",
    "active_uid = play_valid_df_2.filter(play_valid_df_2.date >= '2017-04-29') \\\n",
    "                           .select(play_valid_df_2.uid.alias('active_uid')) \\\n",
    "                           .distinct()"
   ]
  },
  {
   "cell_type": "code",
   "execution_count": 42,
   "metadata": {},
   "outputs": [
    {
     "data": {
      "text/plain": [
       "89837"
      ]
     },
     "execution_count": 42,
     "metadata": {},
     "output_type": "execute_result"
    }
   ],
   "source": [
    "active_uid_count=active_uid.count()\n",
    "#valid_uid.count() = 139684\n",
    "active_uid_count"
   ]
  },
  {
   "cell_type": "code",
   "execution_count": 47,
   "metadata": {},
   "outputs": [
    {
     "name": "stdout",
     "output_type": "stream",
     "text": [
      "churn rate is around 0.35685547378368315\n"
     ]
    }
   ],
   "source": [
    "active_uid_count=89837\n",
    "churn_count=139684-89837\n",
    "print('churn rate is around {}'.format(churn_count/139684))"
   ]
  },
  {
   "cell_type": "code",
   "execution_count": 51,
   "metadata": {},
   "outputs": [
    {
     "name": "stdout",
     "output_type": "stream",
     "text": [
      "root\n",
      " |-- active_uid: float (nullable = false)\n",
      "\n"
     ]
    }
   ],
   "source": [
    "active_uid.printSchema()"
   ]
  },
  {
   "cell_type": "markdown",
   "metadata": {},
   "source": [
    "#### valid uid left join active uid, if there is not a match then the user has churned"
   ]
  },
  {
   "cell_type": "code",
   "execution_count": 52,
   "metadata": {
    "collapsed": true
   },
   "outputs": [],
   "source": [
    "uid_label = valid_uid.join(active_uid, valid_uid.uid == active_uid.active_uid, \"left_outer\")"
   ]
  },
  {
   "cell_type": "code",
   "execution_count": 54,
   "metadata": {
    "collapsed": true
   },
   "outputs": [],
   "source": [
    "## spark has a handy function to assign number to null values\n",
    "uid_label = uid_label.withColumn('Churn', uid_label.active_uid.isNull().astype(IntegerType())).cache()"
   ]
  },
  {
   "cell_type": "code",
   "execution_count": 55,
   "metadata": {},
   "outputs": [
    {
     "data": {
      "text/html": [
       "<div>\n",
       "<style>\n",
       "    .dataframe thead tr:only-child th {\n",
       "        text-align: right;\n",
       "    }\n",
       "\n",
       "    .dataframe thead th {\n",
       "        text-align: left;\n",
       "    }\n",
       "\n",
       "    .dataframe tbody tr th {\n",
       "        vertical-align: top;\n",
       "    }\n",
       "</style>\n",
       "<table border=\"1\" class=\"dataframe\">\n",
       "  <thead>\n",
       "    <tr style=\"text-align: right;\">\n",
       "      <th></th>\n",
       "      <th>uid</th>\n",
       "      <th>count</th>\n",
       "      <th>active_uid</th>\n",
       "      <th>Churn</th>\n",
       "    </tr>\n",
       "  </thead>\n",
       "  <tbody>\n",
       "    <tr>\n",
       "      <th>0</th>\n",
       "      <td>13586118.0</td>\n",
       "      <td>436</td>\n",
       "      <td>NaN</td>\n",
       "      <td>1</td>\n",
       "    </tr>\n",
       "    <tr>\n",
       "      <th>1</th>\n",
       "      <td>16844004.0</td>\n",
       "      <td>2</td>\n",
       "      <td>NaN</td>\n",
       "      <td>1</td>\n",
       "    </tr>\n",
       "    <tr>\n",
       "      <th>2</th>\n",
       "      <td>22030996.0</td>\n",
       "      <td>185</td>\n",
       "      <td>22030996.0</td>\n",
       "      <td>0</td>\n",
       "    </tr>\n",
       "    <tr>\n",
       "      <th>3</th>\n",
       "      <td>23885908.0</td>\n",
       "      <td>42</td>\n",
       "      <td>NaN</td>\n",
       "      <td>1</td>\n",
       "    </tr>\n",
       "    <tr>\n",
       "      <th>4</th>\n",
       "      <td>32366964.0</td>\n",
       "      <td>38</td>\n",
       "      <td>NaN</td>\n",
       "      <td>1</td>\n",
       "    </tr>\n",
       "    <tr>\n",
       "      <th>5</th>\n",
       "      <td>32962054.0</td>\n",
       "      <td>2</td>\n",
       "      <td>32962054.0</td>\n",
       "      <td>0</td>\n",
       "    </tr>\n",
       "    <tr>\n",
       "      <th>6</th>\n",
       "      <td>36249280.0</td>\n",
       "      <td>101</td>\n",
       "      <td>NaN</td>\n",
       "      <td>1</td>\n",
       "    </tr>\n",
       "    <tr>\n",
       "      <th>7</th>\n",
       "      <td>39197032.0</td>\n",
       "      <td>6</td>\n",
       "      <td>NaN</td>\n",
       "      <td>1</td>\n",
       "    </tr>\n",
       "    <tr>\n",
       "      <th>8</th>\n",
       "      <td>39567468.0</td>\n",
       "      <td>1799</td>\n",
       "      <td>39567468.0</td>\n",
       "      <td>0</td>\n",
       "    </tr>\n",
       "    <tr>\n",
       "      <th>9</th>\n",
       "      <td>46055784.0</td>\n",
       "      <td>311</td>\n",
       "      <td>46055784.0</td>\n",
       "      <td>0</td>\n",
       "    </tr>\n",
       "  </tbody>\n",
       "</table>\n",
       "</div>"
      ],
      "text/plain": [
       "          uid  count  active_uid  Churn\n",
       "0  13586118.0    436         NaN      1\n",
       "1  16844004.0      2         NaN      1\n",
       "2  22030996.0    185  22030996.0      0\n",
       "3  23885908.0     42         NaN      1\n",
       "4  32366964.0     38         NaN      1\n",
       "5  32962054.0      2  32962054.0      0\n",
       "6  36249280.0    101         NaN      1\n",
       "7  39197032.0      6         NaN      1\n",
       "8  39567468.0   1799  39567468.0      0\n",
       "9  46055784.0    311  46055784.0      0"
      ]
     },
     "execution_count": 55,
     "metadata": {},
     "output_type": "execute_result"
    }
   ],
   "source": [
    "pd.DataFrame(uid_label.take(10),columns=uid_label.columns)"
   ]
  },
  {
   "cell_type": "code",
   "execution_count": 60,
   "metadata": {
    "collapsed": true
   },
   "outputs": [],
   "source": [
    "## save the dataframe for future use\n",
    "uid_label.select('uid','Churn').repartition(1).write.csv('valid_uid_label_all',header=True)"
   ]
  },
  {
   "cell_type": "code",
   "execution_count": 64,
   "metadata": {
    "collapsed": true
   },
   "outputs": [],
   "source": [
    "uid_label_2=uid_label.drop('count').drop('active_uid')"
   ]
  },
  {
   "cell_type": "markdown",
   "metadata": {},
   "source": [
    "#### Select the uids that have play records within the tracking window 2017-03-30 to 2017-04-28, remove uid that only show up during 2017-03-02 to 2017-03-09. Since we don't have data from 03-10 to 03-28, it's hard to track those early March uid's activities continuously. Thus exclude that population for now."
   ]
  },
  {
   "cell_type": "code",
   "execution_count": 63,
   "metadata": {
    "collapsed": true
   },
   "outputs": [],
   "source": [
    "select_date_play = play_valid_df_2.filter((play_valid_df_2.date >= '2017-03-30') & \\\n",
    "                                          (play_valid_df_2.date <= '2017-04-28'))\\\n",
    "                                          .cache()"
   ]
  },
  {
   "cell_type": "code",
   "execution_count": 66,
   "metadata": {
    "collapsed": true
   },
   "outputs": [],
   "source": [
    "select_play_label=select_date_play.join(uid_label_2, on='uid', how='inner').cache()"
   ]
  },
  {
   "cell_type": "code",
   "execution_count": 67,
   "metadata": {},
   "outputs": [
    {
     "name": "stdout",
     "output_type": "stream",
     "text": [
      "+-----------+------+---------+---------+-----------+---------+----------+-----+\n",
      "|        uid|device|  song_id|play_time|song_length|file_name|      date|Churn|\n",
      "+-----------+------+---------+---------+-----------+---------+----------+-----+\n",
      "|1.3586118E7|    ar| 157799.0|     31.0|      258.0| 20170330|2017-03-30|    1|\n",
      "|1.3586118E7|    ar|9561562.0|      6.0|      253.0| 20170330|2017-03-30|    1|\n",
      "|1.3586118E7|    ar| 237843.0|      4.0|      210.0| 20170330|2017-03-30|    1|\n",
      "|1.3586118E7|    ar|9561562.0|      0.0|      253.0| 20170330|2017-03-30|    1|\n",
      "|1.3586118E7|    ar|9561562.0|      4.0|      253.0| 20170330|2017-03-30|    1|\n",
      "|1.3586118E7|    ar| 157671.0|      1.0|      203.0| 20170330|2017-03-30|    1|\n",
      "|1.3586118E7|    ar| 157671.0|      0.0|      203.0| 20170330|2017-03-30|    1|\n",
      "|1.3586118E7|    ar| 157671.0|      1.0|      203.0| 20170330|2017-03-30|    1|\n",
      "|1.3586118E7|    ar| 157719.0|    237.0|      237.0| 20170330|2017-03-30|    1|\n",
      "|1.3586118E7|    ar| 237843.0|    210.0|      210.0| 20170330|2017-03-30|    1|\n",
      "|1.3586118E7|    ar|9561562.0|     44.0|      253.0| 20170330|2017-03-30|    1|\n",
      "|1.3586118E7|    ar| 157799.0|     25.0|      258.0| 20170330|2017-03-30|    1|\n",
      "|1.3586118E7|    ar| 157719.0|    236.0|      237.0| 20170330|2017-03-30|    1|\n",
      "|1.3586118E7|    ar| 237843.0|    209.0|      210.0| 20170330|2017-03-30|    1|\n",
      "|1.3586118E7|    ar|9561562.0|     15.0|      253.0| 20170330|2017-03-30|    1|\n",
      "|1.3586118E7|    ar| 590383.0|     33.0|      192.0| 20170330|2017-03-30|    1|\n",
      "|1.3586118E7|    ar|6546492.0|      5.0|      227.0| 20170330|2017-03-30|    1|\n",
      "|1.3586118E7|    ar| 590383.0|      1.0|      192.0| 20170330|2017-03-30|    1|\n",
      "|1.3586118E7|    ar|6546492.0|      0.0|      227.0| 20170330|2017-03-30|    1|\n",
      "|1.3586118E7|    ar|6546492.0|      0.0|      227.0| 20170330|2017-03-30|    1|\n",
      "+-----------+------+---------+---------+-----------+---------+----------+-----+\n",
      "only showing top 20 rows\n",
      "\n"
     ]
    }
   ],
   "source": [
    "select_play_label.show()"
   ]
  },
  {
   "cell_type": "code",
   "execution_count": 68,
   "metadata": {
    "collapsed": true
   },
   "outputs": [],
   "source": [
    "select_play_label=select_play_label.drop('file_name')"
   ]
  },
  {
   "cell_type": "code",
   "execution_count": 69,
   "metadata": {},
   "outputs": [
    {
     "name": "stdout",
     "output_type": "stream",
     "text": [
      "+-------------------+\n",
      "|count(DISTINCT uid)|\n",
      "+-------------------+\n",
      "|             105351|\n",
      "+-------------------+\n",
      "\n"
     ]
    }
   ],
   "source": [
    "final_valid_uid=select_play_label.select(countDistinct('uid')).cache()\n",
    "final_valid_uid.show()"
   ]
  },
  {
   "cell_type": "code",
   "execution_count": 71,
   "metadata": {},
   "outputs": [
    {
     "name": "stdout",
     "output_type": "stream",
     "text": [
      "+-------------------+\n",
      "|count(DISTINCT uid)|\n",
      "+-------------------+\n",
      "|              16345|\n",
      "+-------------------+\n",
      "\n"
     ]
    }
   ],
   "source": [
    "select_play_label.filter(select_play_label['Churn']==1).select(countDistinct('uid')).show()"
   ]
  },
  {
   "cell_type": "code",
   "execution_count": 73,
   "metadata": {},
   "outputs": [
    {
     "name": "stdout",
     "output_type": "stream",
     "text": [
      "churn rate within the selected date range is 0.1551480289698247\n"
     ]
    }
   ],
   "source": [
    "print('churn rate within the selected date range is {}'.format(16345/105351))"
   ]
  },
  {
   "cell_type": "markdown",
   "metadata": {},
   "source": [
    "*\n",
    "now churn rate drops down from 35% to 15%, which makes sense because a lot of the early March users might have churned(not active anymore) before the 2017-04-28 ~ 2017-05-12 window. So they account for a big portion of the churned users within the time window of interest. Since now that population is excluded from the study, the churn rate drops down significantly."
   ]
  },
  {
   "cell_type": "code",
   "execution_count": 81,
   "metadata": {
    "collapsed": true
   },
   "outputs": [],
   "source": [
    "#save clean play dataframe to csv\n",
    "select_play_label.repartition(1).write.csv('play_uid_label_1monthWindow',header=True)"
   ]
  },
  {
   "cell_type": "code",
   "execution_count": 82,
   "metadata": {
    "collapsed": true
   },
   "outputs": [],
   "source": [
    "valid_uid_1monthWindow=select_play_label.select('uid').distinct()"
   ]
  },
  {
   "cell_type": "code",
   "execution_count": 83,
   "metadata": {
    "collapsed": true
   },
   "outputs": [],
   "source": [
    "# save valid uid list in one month window to a separate csv\n",
    "valid_uid_1monthWindow.repartition(1).write.csv('valid_uid_1monthWindow',header=True)"
   ]
  },
  {
   "cell_type": "markdown",
   "metadata": {},
   "source": [
    "### Is there any difference in play_time between 0 and 1 churn label?"
   ]
  },
  {
   "cell_type": "code",
   "execution_count": 85,
   "metadata": {},
   "outputs": [
    {
     "name": "stdout",
     "output_type": "stream",
     "text": [
      "+-----+------------------+--------------------+\n",
      "|Churn|    avg(play_time)|      sum(play_time)|\n",
      "+-----+------------------+--------------------+\n",
      "|    1|140.96362608309076| 4.030257202071388E8|\n",
      "|    0| 145.9039353560695|1.043142739147087...|\n",
      "+-----+------------------+--------------------+\n",
      "\n"
     ]
    }
   ],
   "source": [
    "select_play_label.groupBy('Churn').agg(avg('play_time'),sum('play_time')).show()"
   ]
  },
  {
   "cell_type": "code",
   "execution_count": 86,
   "metadata": {
    "collapsed": true
   },
   "outputs": [],
   "source": [
    "spark.stop()"
   ]
  },
  {
   "cell_type": "markdown",
   "metadata": {},
   "source": [
    "### End of Play file Preprocessing"
   ]
  }
 ],
 "metadata": {
  "kernelspec": {
   "display_name": "Python 3",
   "language": "python",
   "name": "python3"
  },
  "language_info": {
   "codemirror_mode": {
    "name": "ipython",
    "version": 3
   },
   "file_extension": ".py",
   "mimetype": "text/x-python",
   "name": "python",
   "nbconvert_exporter": "python",
   "pygments_lexer": "ipython3",
   "version": "3.6.1"
  }
 },
 "nbformat": 4,
 "nbformat_minor": 2
}
