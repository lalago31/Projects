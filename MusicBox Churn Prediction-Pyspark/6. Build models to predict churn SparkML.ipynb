{
 "cells": [
  {
   "cell_type": "markdown",
   "metadata": {},
   "source": [
    "# Summary:\n",
    "1. Fit 3 binary classifiers to predict churn label- logistic regression, random forest and gradient boosting tree.\n",
    "2. Evaluate the model performance with ROC curve and Spark built-in evaluator. The best performing model is Random forest(0.94 AUC), second is GBT(0.939 AUC), though the difference of auc is very tiny among 3 models.\n",
    "3. Use Grid search to fine tune the two tree models and compared the lift between the optimized models and default setting models.\n",
    "4. Explore the feature importances of prediction. Play related features dominate the top 10 most importance features from both random forest and gradient boosting tree models."
   ]
  },
  {
   "cell_type": "code",
   "execution_count": 1,
   "metadata": {},
   "outputs": [],
   "source": [
    "from pyspark.sql.types import *\n",
    "from pyspark.mllib.linalg import Vectors\n",
    "from pyspark.mllib.linalg import DenseVector\n",
    "from pyspark.ml.feature import VectorAssembler\n",
    "from pyspark.ml.feature import StringIndexer, VectorIndexer\n",
    "from pyspark.ml import Pipeline\n",
    "from pyspark.ml.classification import LogisticRegression\n",
    "from pyspark.ml.classification import DecisionTreeClassifier\n",
    "from pyspark.ml.classification import RandomForestClassifier\n",
    "from pyspark.ml.classification import GBTClassifier\n",
    "from pyspark.ml.tuning import CrossValidator, ParamGridBuilder\n",
    "from pyspark.ml.evaluation import BinaryClassificationEvaluator\n",
    "import pandas as pd\n",
    "import matplotlib.pyplot as plt\n",
    "import numpy as np \n",
    "import seaborn as sns\n",
    "from pyspark.sql import SparkSession"
   ]
  },
  {
   "cell_type": "code",
   "execution_count": 2,
   "metadata": {},
   "outputs": [],
   "source": [
    "spark = SparkSession.builder.appName(\"Music Box model build\").getOrCreate()\n",
    "df = spark.read.csv('./intermediate tables/all_features_label_combined.csv',header=True,inferSchema=True).cache()"
   ]
  },
  {
   "cell_type": "code",
   "execution_count": 3,
   "metadata": {},
   "outputs": [
    {
     "data": {
      "text/html": [
       "<div>\n",
       "<style scoped>\n",
       "    .dataframe tbody tr th:only-of-type {\n",
       "        vertical-align: middle;\n",
       "    }\n",
       "\n",
       "    .dataframe tbody tr th {\n",
       "        vertical-align: top;\n",
       "    }\n",
       "\n",
       "    .dataframe thead th {\n",
       "        text-align: right;\n",
       "    }\n",
       "</style>\n",
       "<table border=\"1\" class=\"dataframe\">\n",
       "  <thead>\n",
       "    <tr style=\"text-align: right;\">\n",
       "      <th></th>\n",
       "      <th>_c0</th>\n",
       "      <th>uid</th>\n",
       "      <th>play_times_last_3_days</th>\n",
       "      <th>play_times_last_7_days</th>\n",
       "      <th>play_times_last_14_days</th>\n",
       "      <th>play_times_last_21_days</th>\n",
       "      <th>play_times_last_30_days</th>\n",
       "      <th>avg_playtime_last_3_days</th>\n",
       "      <th>avg_playtime_last_7_days</th>\n",
       "      <th>avg_playtime_last_14_days</th>\n",
       "      <th>...</th>\n",
       "      <th>download_times_last_21_days</th>\n",
       "      <th>download_times_last_30_days</th>\n",
       "      <th>days_since_last_download</th>\n",
       "      <th>search_times_last_3_days</th>\n",
       "      <th>search_times_last_7_days</th>\n",
       "      <th>search_times_last_14_days</th>\n",
       "      <th>search_times_last_21_days</th>\n",
       "      <th>search_times_last_30_days</th>\n",
       "      <th>days_since_last_search</th>\n",
       "      <th>Churn</th>\n",
       "    </tr>\n",
       "  </thead>\n",
       "  <tbody>\n",
       "    <tr>\n",
       "      <th>0</th>\n",
       "      <td>0</td>\n",
       "      <td>114363528.0</td>\n",
       "      <td>0</td>\n",
       "      <td>0</td>\n",
       "      <td>0</td>\n",
       "      <td>1</td>\n",
       "      <td>20</td>\n",
       "      <td>0.000000</td>\n",
       "      <td>0.000000</td>\n",
       "      <td>0.000000</td>\n",
       "      <td>...</td>\n",
       "      <td>6</td>\n",
       "      <td>14</td>\n",
       "      <td>12</td>\n",
       "      <td>0</td>\n",
       "      <td>0</td>\n",
       "      <td>0</td>\n",
       "      <td>0</td>\n",
       "      <td>8</td>\n",
       "      <td>30</td>\n",
       "      <td>1</td>\n",
       "    </tr>\n",
       "    <tr>\n",
       "      <th>1</th>\n",
       "      <td>1</td>\n",
       "      <td>167920832.0</td>\n",
       "      <td>9</td>\n",
       "      <td>22</td>\n",
       "      <td>354</td>\n",
       "      <td>560</td>\n",
       "      <td>817</td>\n",
       "      <td>517.333333</td>\n",
       "      <td>484.571429</td>\n",
       "      <td>4783.285714</td>\n",
       "      <td>...</td>\n",
       "      <td>2</td>\n",
       "      <td>7</td>\n",
       "      <td>12</td>\n",
       "      <td>0</td>\n",
       "      <td>1</td>\n",
       "      <td>3</td>\n",
       "      <td>12</td>\n",
       "      <td>29</td>\n",
       "      <td>7</td>\n",
       "      <td>0</td>\n",
       "    </tr>\n",
       "    <tr>\n",
       "      <th>2</th>\n",
       "      <td>2</td>\n",
       "      <td>168573152.0</td>\n",
       "      <td>0</td>\n",
       "      <td>0</td>\n",
       "      <td>0</td>\n",
       "      <td>0</td>\n",
       "      <td>109</td>\n",
       "      <td>0.000000</td>\n",
       "      <td>0.000000</td>\n",
       "      <td>0.000000</td>\n",
       "      <td>...</td>\n",
       "      <td>0</td>\n",
       "      <td>0</td>\n",
       "      <td>0</td>\n",
       "      <td>0</td>\n",
       "      <td>0</td>\n",
       "      <td>0</td>\n",
       "      <td>0</td>\n",
       "      <td>12</td>\n",
       "      <td>30</td>\n",
       "      <td>1</td>\n",
       "    </tr>\n",
       "    <tr>\n",
       "      <th>3</th>\n",
       "      <td>3</td>\n",
       "      <td>57077508.0</td>\n",
       "      <td>216</td>\n",
       "      <td>372</td>\n",
       "      <td>1020</td>\n",
       "      <td>1510</td>\n",
       "      <td>2388</td>\n",
       "      <td>8823.000000</td>\n",
       "      <td>7222.714286</td>\n",
       "      <td>9382.285714</td>\n",
       "      <td>...</td>\n",
       "      <td>4</td>\n",
       "      <td>4</td>\n",
       "      <td>13</td>\n",
       "      <td>0</td>\n",
       "      <td>4</td>\n",
       "      <td>13</td>\n",
       "      <td>20</td>\n",
       "      <td>21</td>\n",
       "      <td>5</td>\n",
       "      <td>0</td>\n",
       "    </tr>\n",
       "    <tr>\n",
       "      <th>4</th>\n",
       "      <td>4</td>\n",
       "      <td>157815664.0</td>\n",
       "      <td>0</td>\n",
       "      <td>81</td>\n",
       "      <td>182</td>\n",
       "      <td>184</td>\n",
       "      <td>233</td>\n",
       "      <td>0.000000</td>\n",
       "      <td>2289.000000</td>\n",
       "      <td>2337.071429</td>\n",
       "      <td>...</td>\n",
       "      <td>0</td>\n",
       "      <td>2</td>\n",
       "      <td>23</td>\n",
       "      <td>0</td>\n",
       "      <td>0</td>\n",
       "      <td>0</td>\n",
       "      <td>0</td>\n",
       "      <td>2</td>\n",
       "      <td>23</td>\n",
       "      <td>1</td>\n",
       "    </tr>\n",
       "  </tbody>\n",
       "</table>\n",
       "<p>5 rows × 26 columns</p>\n",
       "</div>"
      ],
      "text/plain": [
       "   _c0          uid  play_times_last_3_days  play_times_last_7_days  \\\n",
       "0    0  114363528.0                       0                       0   \n",
       "1    1  167920832.0                       9                      22   \n",
       "2    2  168573152.0                       0                       0   \n",
       "3    3   57077508.0                     216                     372   \n",
       "4    4  157815664.0                       0                      81   \n",
       "\n",
       "   play_times_last_14_days  play_times_last_21_days  play_times_last_30_days  \\\n",
       "0                        0                        1                       20   \n",
       "1                      354                      560                      817   \n",
       "2                        0                        0                      109   \n",
       "3                     1020                     1510                     2388   \n",
       "4                      182                      184                      233   \n",
       "\n",
       "   avg_playtime_last_3_days  avg_playtime_last_7_days  \\\n",
       "0                  0.000000                  0.000000   \n",
       "1                517.333333                484.571429   \n",
       "2                  0.000000                  0.000000   \n",
       "3               8823.000000               7222.714286   \n",
       "4                  0.000000               2289.000000   \n",
       "\n",
       "   avg_playtime_last_14_days  ...    download_times_last_21_days  \\\n",
       "0                   0.000000  ...                              6   \n",
       "1                4783.285714  ...                              2   \n",
       "2                   0.000000  ...                              0   \n",
       "3                9382.285714  ...                              4   \n",
       "4                2337.071429  ...                              0   \n",
       "\n",
       "   download_times_last_30_days  days_since_last_download  \\\n",
       "0                           14                        12   \n",
       "1                            7                        12   \n",
       "2                            0                         0   \n",
       "3                            4                        13   \n",
       "4                            2                        23   \n",
       "\n",
       "   search_times_last_3_days  search_times_last_7_days  \\\n",
       "0                         0                         0   \n",
       "1                         0                         1   \n",
       "2                         0                         0   \n",
       "3                         0                         4   \n",
       "4                         0                         0   \n",
       "\n",
       "   search_times_last_14_days  search_times_last_21_days  \\\n",
       "0                          0                          0   \n",
       "1                          3                         12   \n",
       "2                          0                          0   \n",
       "3                         13                         20   \n",
       "4                          0                          0   \n",
       "\n",
       "   search_times_last_30_days  days_since_last_search  Churn  \n",
       "0                          8                      30      1  \n",
       "1                         29                       7      0  \n",
       "2                         12                      30      1  \n",
       "3                         21                       5      0  \n",
       "4                          2                      23      1  \n",
       "\n",
       "[5 rows x 26 columns]"
      ]
     },
     "execution_count": 3,
     "metadata": {},
     "output_type": "execute_result"
    }
   ],
   "source": [
    "pd.DataFrame(df.take(5),columns=df.columns)"
   ]
  },
  {
   "cell_type": "code",
   "execution_count": 4,
   "metadata": {},
   "outputs": [
    {
     "data": {
      "text/plain": [
       "105351"
      ]
     },
     "execution_count": 4,
     "metadata": {},
     "output_type": "execute_result"
    }
   ],
   "source": [
    "df=df.drop('_c0')\n",
    "df.count()"
   ]
  },
  {
   "cell_type": "code",
   "execution_count": 5,
   "metadata": {},
   "outputs": [
    {
     "data": {
      "text/plain": [
       "['uid',\n",
       " 'play_times_last_3_days',\n",
       " 'play_times_last_7_days',\n",
       " 'play_times_last_14_days',\n",
       " 'play_times_last_21_days',\n",
       " 'play_times_last_30_days',\n",
       " 'avg_playtime_last_3_days',\n",
       " 'avg_playtime_last_7_days',\n",
       " 'avg_playtime_last_14_days',\n",
       " 'avg_playtime_last_21_days',\n",
       " 'avg_playtime_last_30_days',\n",
       " 'days_since_last_play',\n",
       " 'download_times_last_3_days',\n",
       " 'download_times_last_7_days',\n",
       " 'download_times_last_14_days',\n",
       " 'download_times_last_21_days',\n",
       " 'download_times_last_30_days',\n",
       " 'days_since_last_download',\n",
       " 'search_times_last_3_days',\n",
       " 'search_times_last_7_days',\n",
       " 'search_times_last_14_days',\n",
       " 'search_times_last_21_days',\n",
       " 'search_times_last_30_days',\n",
       " 'days_since_last_search',\n",
       " 'Churn']"
      ]
     },
     "execution_count": 5,
     "metadata": {},
     "output_type": "execute_result"
    }
   ],
   "source": [
    "df.columns"
   ]
  },
  {
   "cell_type": "code",
   "execution_count": 6,
   "metadata": {},
   "outputs": [
    {
     "data": {
      "text/plain": [
       "0    0.844852\n",
       "1    0.155148\n",
       "Name: Churn, dtype: float64"
      ]
     },
     "execution_count": 6,
     "metadata": {},
     "output_type": "execute_result"
    }
   ],
   "source": [
    "# churn label percentage in the dataset\n",
    "label=df.select('Churn').toPandas()\n",
    "label.Churn.value_counts()/label.shape[0]"
   ]
  },
  {
   "cell_type": "markdown",
   "metadata": {},
   "source": [
    "### 1.1 Prep the features for model"
   ]
  },
  {
   "cell_type": "code",
   "execution_count": 7,
   "metadata": {},
   "outputs": [
    {
     "data": {
      "text/plain": [
       "['play_times_last_3_days',\n",
       " 'play_times_last_7_days',\n",
       " 'play_times_last_14_days',\n",
       " 'play_times_last_21_days',\n",
       " 'play_times_last_30_days',\n",
       " 'avg_playtime_last_3_days',\n",
       " 'avg_playtime_last_7_days',\n",
       " 'avg_playtime_last_14_days',\n",
       " 'avg_playtime_last_21_days',\n",
       " 'avg_playtime_last_30_days',\n",
       " 'days_since_last_play',\n",
       " 'download_times_last_3_days',\n",
       " 'download_times_last_7_days',\n",
       " 'download_times_last_14_days',\n",
       " 'download_times_last_21_days',\n",
       " 'download_times_last_30_days',\n",
       " 'days_since_last_download',\n",
       " 'search_times_last_3_days',\n",
       " 'search_times_last_7_days',\n",
       " 'search_times_last_14_days',\n",
       " 'search_times_last_21_days',\n",
       " 'search_times_last_30_days',\n",
       " 'days_since_last_search']"
      ]
     },
     "execution_count": 7,
     "metadata": {},
     "output_type": "execute_result"
    }
   ],
   "source": [
    "features=df.columns\n",
    "features.remove('uid')\n",
    "features.remove('Churn')\n",
    "features"
   ]
  },
  {
   "cell_type": "code",
   "execution_count": 8,
   "metadata": {},
   "outputs": [],
   "source": [
    "# training data\n",
    "assembler = VectorAssembler(\n",
    "    inputCols=features,\n",
    "    outputCol=\"features\")\n",
    "data = assembler.transform(df)\n",
    "#selected_data=data.select('features','Churn')\n",
    "# train test split\n",
    "(train, test) = data.randomSplit([0.7, 0.3], seed=1)"
   ]
  },
  {
   "cell_type": "code",
   "execution_count": 9,
   "metadata": {},
   "outputs": [
    {
     "name": "stdout",
     "output_type": "stream",
     "text": [
      "+--------+----------------------+----------------------+-----------------------+-----------------------+-----------------------+------------------------+------------------------+-------------------------+-------------------------+-------------------------+--------------------+--------------------------+--------------------------+---------------------------+---------------------------+---------------------------+------------------------+------------------------+------------------------+-------------------------+-------------------------+-------------------------+----------------------+-----+--------------------+\n",
      "|     uid|play_times_last_3_days|play_times_last_7_days|play_times_last_14_days|play_times_last_21_days|play_times_last_30_days|avg_playtime_last_3_days|avg_playtime_last_7_days|avg_playtime_last_14_days|avg_playtime_last_21_days|avg_playtime_last_30_days|days_since_last_play|download_times_last_3_days|download_times_last_7_days|download_times_last_14_days|download_times_last_21_days|download_times_last_30_days|days_since_last_download|search_times_last_3_days|search_times_last_7_days|search_times_last_14_days|search_times_last_21_days|search_times_last_30_days|days_since_last_search|Churn|            features|\n",
      "+--------+----------------------+----------------------+-----------------------+-----------------------+-----------------------+------------------------+------------------------+-------------------------+-------------------------+-------------------------+--------------------+--------------------------+--------------------------+---------------------------+---------------------------+---------------------------+------------------------+------------------------+------------------------+-------------------------+-------------------------+-------------------------+----------------------+-----+--------------------+\n",
      "| 12333.0|                    13|                    34|                    140|                    226|                    259|       834.6666666666666|       960.7142857142857|       2212.4285714285716|       2383.9523809523807|                   1896.3|                   1|                         0|                         0|                          0|                          0|                          0|                       0|                       0|                       0|                        0|                        1|                        1|                    16|    0|(23,[0,1,2,3,4,5,...|\n",
      "|104057.0|                     0|                     0|                      0|                     74|                     74|                     0.0|                     0.0|                      0.0|       406.14285714285717|                    284.3|                  17|                         0|                         0|                          0|                          0|                          0|                       0|                       0|                       0|                        0|                        0|                        0|                     0|    0|(23,[3,4,8,9,10],...|\n",
      "+--------+----------------------+----------------------+-----------------------+-----------------------+-----------------------+------------------------+------------------------+-------------------------+-------------------------+-------------------------+--------------------+--------------------------+--------------------------+---------------------------+---------------------------+---------------------------+------------------------+------------------------+------------------------+-------------------------+-------------------------+-------------------------+----------------------+-----+--------------------+\n",
      "only showing top 2 rows\n",
      "\n"
     ]
    }
   ],
   "source": [
    "train.show(2)"
   ]
  },
  {
   "cell_type": "markdown",
   "metadata": {},
   "source": [
    "### 2.1 Fit Logistic regression model"
   ]
  },
  {
   "cell_type": "code",
   "execution_count": 31,
   "metadata": {},
   "outputs": [],
   "source": [
    "# Create initial LogisticRegression model\n",
    "lr = LogisticRegression(labelCol=\"Churn\", featuresCol=\"features\", maxIter=10)\n",
    "\n",
    "# Train model with Training Data\n",
    "lrModel = lr.fit(train)"
   ]
  },
  {
   "cell_type": "code",
   "execution_count": 37,
   "metadata": {},
   "outputs": [
    {
     "name": "stdout",
     "output_type": "stream",
     "text": [
      "root\n",
      " |-- uid: double (nullable = true)\n",
      " |-- play_times_last_3_days: integer (nullable = true)\n",
      " |-- play_times_last_7_days: integer (nullable = true)\n",
      " |-- play_times_last_14_days: integer (nullable = true)\n",
      " |-- play_times_last_21_days: integer (nullable = true)\n",
      " |-- play_times_last_30_days: integer (nullable = true)\n",
      " |-- avg_playtime_last_3_days: double (nullable = true)\n",
      " |-- avg_playtime_last_7_days: double (nullable = true)\n",
      " |-- avg_playtime_last_14_days: double (nullable = true)\n",
      " |-- avg_playtime_last_21_days: double (nullable = true)\n",
      " |-- avg_playtime_last_30_days: double (nullable = true)\n",
      " |-- days_since_last_play: integer (nullable = true)\n",
      " |-- download_times_last_3_days: integer (nullable = true)\n",
      " |-- download_times_last_7_days: integer (nullable = true)\n",
      " |-- download_times_last_14_days: integer (nullable = true)\n",
      " |-- download_times_last_21_days: integer (nullable = true)\n",
      " |-- download_times_last_30_days: integer (nullable = true)\n",
      " |-- days_since_last_download: integer (nullable = true)\n",
      " |-- search_times_last_3_days: integer (nullable = true)\n",
      " |-- search_times_last_7_days: integer (nullable = true)\n",
      " |-- search_times_last_14_days: integer (nullable = true)\n",
      " |-- search_times_last_21_days: integer (nullable = true)\n",
      " |-- search_times_last_30_days: integer (nullable = true)\n",
      " |-- days_since_last_search: integer (nullable = true)\n",
      " |-- Churn: integer (nullable = true)\n",
      " |-- features: vector (nullable = true)\n",
      " |-- rawPrediction: vector (nullable = true)\n",
      " |-- probability: vector (nullable = true)\n",
      " |-- prediction: double (nullable = false)\n",
      "\n"
     ]
    }
   ],
   "source": [
    "# Predict train data\n",
    "lr_pred_train = lrModel.transform(train)\n",
    "lr_pred_train.printSchema()"
   ]
  },
  {
   "cell_type": "code",
   "execution_count": 33,
   "metadata": {},
   "outputs": [
    {
     "name": "stdout",
     "output_type": "stream",
     "text": [
      "+--------------------+--------------------+----------+-----+--------------------+\n",
      "|         probability|       rawPrediction|prediction|Churn|            features|\n",
      "+--------------------+--------------------+----------+-----+--------------------+\n",
      "|[0.88719266728825...|[2.06238082773685...|       0.0|    0|(23,[0,1,2,3,4,5,...|\n",
      "|[0.32558898420820...|[-0.7282039394934...|       1.0|    0|(23,[3,4,8,9,10],...|\n",
      "|[0.99746733090247...|[5.97594567135247...|       0.0|    0|[61.0,372.0,898.0...|\n",
      "|[0.18412293134533...|[-1.4886600527927...|       1.0|    1|(23,[4,9,10,15,16...|\n",
      "|[0.85904623578661...|[1.80739082244305...|       0.0|    0|[6.0,13.0,20.0,35...|\n",
      "+--------------------+--------------------+----------+-----+--------------------+\n",
      "only showing top 5 rows\n",
      "\n",
      "+--------------------+--------------------+----------+-----+--------------------+\n",
      "|         probability|       rawPrediction|prediction|Churn|            features|\n",
      "+--------------------+--------------------+----------+-----+--------------------+\n",
      "|[0.83494020296528...|[1.62105229455300...|       0.0|    0|(23,[1,2,3,4,6,7,...|\n",
      "|[0.56590340514839...|[0.26515632323857...|       0.0|    0|(23,[2,3,4,7,8,9,...|\n",
      "|[0.99974713441726...|[8.28239960638535...|       0.0|    0|[26.0,91.0,231.0,...|\n",
      "|[0.90288501292193...|[2.22969949612583...|       0.0|    0|(23,[0,1,2,3,4,5,...|\n",
      "|[0.12780525131761...|[-1.9205051033967...|       1.0|    1|(23,[4,9,10,21,22...|\n",
      "+--------------------+--------------------+----------+-----+--------------------+\n",
      "only showing top 5 rows\n",
      "\n"
     ]
    }
   ],
   "source": [
    "# Select example rows to display.\n",
    "lr_pred_train.select(\"probability\",\"rawPrediction\",\"prediction\", \"Churn\", \"features\").show(5)\n",
    "eval_lr_train = lr_pred_train.select(\"probability\", \"Churn\").toPandas()\n",
    "\n",
    "\n",
    "# Predict test data\n",
    "lr_pred_test = lrModel.transform(test)\n",
    "\n",
    "# Select example rows to display.\n",
    "lr_pred_test.select(\"probability\",\"rawPrediction\",\"prediction\", \"Churn\", \"features\").show(5)\n",
    "eval_lr_test = lr_pred_test.select(\"probability\", \"Churn\").toPandas()\n"
   ]
  },
  {
   "cell_type": "markdown",
   "metadata": {},
   "source": [
    "### 2.2 Evaluate the model performance with ROC curve"
   ]
  },
  {
   "cell_type": "code",
   "execution_count": 27,
   "metadata": {},
   "outputs": [],
   "source": [
    "%matplotlib inline\n",
    "import matplotlib.pyplot as plt\n",
    "from sklearn.metrics import roc_curve, auc, roc_auc_score\n",
    "# define a generic roc plot function\n",
    "def plot_roc_curve(model,y_train, y_train_pred, y_test, y_test_pred):\n",
    "    roc_auc_train = roc_auc_score(y_train, y_train_pred)\n",
    "    fpr_train, tpr_train, threshold = roc_curve(y_train, y_train_pred)\n",
    "\n",
    "    roc_auc_test = roc_auc_score(y_test, y_test_pred)\n",
    "    fpr_test, tpr_test, threshold = roc_curve(y_test, y_test_pred)\n",
    "    plt.figure()\n",
    "    lw = 2\n",
    "    plt.plot(fpr_train, tpr_train, color='green',\n",
    "             lw=lw, label='ROC Train (AUC = %0.4f)' % roc_auc_train)\n",
    "    plt.plot(fpr_test, tpr_test, color='darkorange',\n",
    "             lw=lw, label='ROC Test (AUC = %0.4f)' % roc_auc_test)\n",
    "    plt.plot([0, 1], [0, 1], color='navy', lw=lw, linestyle='--')\n",
    "    plt.xlim([0.0, 1.0])\n",
    "    plt.ylim([0.0, 1.05])\n",
    "    plt.xlabel('False Positive Rate')\n",
    "    plt.ylabel('True Positive Rate')\n",
    "    plt.title('ROC curve for '+ model)\n",
    "    plt.legend(loc=\"lower right\")\n",
    "    plt.show()\n",
    "    "
   ]
  },
  {
   "cell_type": "code",
   "execution_count": 44,
   "metadata": {},
   "outputs": [
    {
     "data": {
      "image/png": "[encoded data removed]",
      "text/plain": [
       "<Figure size 432x288 with 1 Axes>"
      ]
     },
     "metadata": {},
     "output_type": "display_data"
    }
   ],
   "source": [
    "y_train = eval_lr_train['Churn']\n",
    "y_train_pred = [v[1] for v in eval_lr_train['probability']]\n",
    "y_test = eval_lr_test['Churn']\n",
    "y_test_pred = [v[1] for v in eval_lr_test['probability']]\n",
    "\n",
    "plot_roc_curve('Logistic Regression', y_train, y_train_pred, y_test, y_test_pred)"
   ]
  },
  {
   "cell_type": "code",
   "execution_count": 50,
   "metadata": {},
   "outputs": [],
   "source": [
    "#print(lr.explainParams())"
   ]
  },
  {
   "cell_type": "code",
   "execution_count": 48,
   "metadata": {},
   "outputs": [
    {
     "data": {
      "text/plain": [
       "0.9282706530505878"
      ]
     },
     "execution_count": 48,
     "metadata": {},
     "output_type": "execute_result"
    }
   ],
   "source": [
    "# Evaluate model with SparkML evaluator. default metric for binary classifier is \"areaUnderROC\"\n",
    "evaluator = BinaryClassificationEvaluator(rawPredictionCol=\"rawPrediction\",labelCol='Churn')\n",
    "evaluator.evaluate(lr_pred_test)\n",
    "#number matches sklearn auc precisely"
   ]
  },
  {
   "cell_type": "markdown",
   "metadata": {},
   "source": [
    "### 3.1 Fit Random Forest model"
   ]
  },
  {
   "cell_type": "code",
   "execution_count": 51,
   "metadata": {},
   "outputs": [],
   "source": [
    "# Create an initial RandomForest model.\n",
    "rf = RandomForestClassifier(labelCol=\"Churn\", featuresCol=\"features\")\n",
    "\n",
    "# Train model with Training Data\n",
    "rfModel = rf.fit(train)"
   ]
  },
  {
   "cell_type": "code",
   "execution_count": 53,
   "metadata": {},
   "outputs": [
    {
     "data": {
      "text/plain": [
       "0.9388142387482282"
      ]
     },
     "execution_count": 53,
     "metadata": {},
     "output_type": "execute_result"
    }
   ],
   "source": [
    "# Predict test data with default parameters\n",
    "rf_pred_test_org = rfModel.transform(test)\n",
    "\n",
    "#evaluate the untuned model\n",
    "evaluator = BinaryClassificationEvaluator(rawPredictionCol=\"rawPrediction\",labelCol='Churn')\n",
    "evaluator.evaluate(rf_pred_test_org)"
   ]
  },
  {
   "cell_type": "markdown",
   "metadata": {},
   "source": [
    "### 3.2 Use Spark Grid Search and Cross Validator to fine tune the RF parameters"
   ]
  },
  {
   "cell_type": "code",
   "execution_count": 56,
   "metadata": {},
   "outputs": [],
   "source": [
    "# Create ParamGrid for Cross Validation\n",
    "from pyspark.ml.tuning import ParamGridBuilder, CrossValidator\n",
    "\n",
    "paramGrid = (ParamGridBuilder()\n",
    "             .addGrid(rf.maxDepth, [4, 7, 10])#default 5\n",
    "             .addGrid(rf.maxBins, [30, 60]) #default 32\n",
    "             .addGrid(rf.numTrees, [20, 30, 40]) #default 20\n",
    "             .addGrid(rf.subsamplingRate,[0.8,1.0])#default 1.0\n",
    "             .build())"
   ]
  },
  {
   "cell_type": "code",
   "execution_count": 58,
   "metadata": {},
   "outputs": [
    {
     "name": "stderr",
     "output_type": "stream",
     "text": [
      "Exception ignored in: <object repr() failed>\n",
      "Traceback (most recent call last):\n",
      "  File \"/Users/lalago31/anaconda3/lib/python3.6/site-packages/pyspark/ml/wrapper.py\", line 105, in __del__\n",
      "    SparkContext._active_spark_context._gateway.detach(self._java_obj)\n",
      "AttributeError: 'BinaryClassificationEvaluator' object has no attribute '_java_obj'\n"
     ]
    },
    {
     "name": "stdout",
     "output_type": "stream",
     "text": [
      "Training took 387.3703520298004 seconds.\n"
     ]
    }
   ],
   "source": [
    "# Create 5-fold CrossValidator with Spark Grid Search\n",
    "cv = CrossValidator(estimator=rf, estimatorParamMaps=paramGrid, evaluator=evaluator, numFolds=5)\n",
    "\n",
    "# Run cross validations. time how long it takes for training to finish\n",
    "import time\n",
    "start_time = time.time()\n",
    "\n",
    "rf_cvModel = cv.fit(train)\n",
    "\n",
    "print(\"Training took {0} seconds.\".format(time.time() - start_time))"
   ]
  },
  {
   "cell_type": "code",
   "execution_count": 73,
   "metadata": {},
   "outputs": [
    {
     "name": "stdout",
     "output_type": "stream",
     "text": [
      "The best set of parameters of RF model is: \n",
      "{Param(parent='RandomForestClassifier_4352b1af85533938087c', name='maxDepth', doc='Maximum depth of the tree. (>= 0) E.g., depth 0 means 1 leaf node; depth 1 means 1 internal node + 2 leaf nodes.'): 10, Param(parent='RandomForestClassifier_4352b1af85533938087c', name='maxBins', doc='Max number of bins for discretizing continuous features.  Must be >=2 and >= number of categories for any categorical feature.'): 60, Param(parent='RandomForestClassifier_4352b1af85533938087c', name='numTrees', doc='Number of trees to train (>= 1).'): 40, Param(parent='RandomForestClassifier_4352b1af85533938087c', name='subsamplingRate', doc='Fraction of the training data used for learning each decision tree, in range (0, 1].'): 1.0}\n"
     ]
    }
   ],
   "source": [
    "print('The best set of parameters of RF model is: \\n' + str(rf_cvModel.getEstimatorParamMaps()[np.argmax(rf_cvModel.avgMetrics)]))"
   ]
  },
  {
   "cell_type": "code",
   "execution_count": 74,
   "metadata": {},
   "outputs": [],
   "source": [
    "rf_bestModel = rf_cvModel.bestModel\n",
    "# use the best set of params to predict on train and test\n",
    "rf_pred_train_best = rf_bestModel.transform(train)\n",
    "rf_pred_test_best = rf_bestModel.transform(test)\n",
    "\n",
    "eval_rf_train = rf_pred_train_best.select(\"probability\", \"Churn\").toPandas()\n",
    "eval_rf_test = rf_pred_test_best.select(\"probability\", \"Churn\").toPandas()"
   ]
  },
  {
   "cell_type": "code",
   "execution_count": 75,
   "metadata": {},
   "outputs": [
    {
     "data": {
      "image/png": "[encoded data removed]",
      "text/plain": [
       "<Figure size 432x288 with 1 Axes>"
      ]
     },
     "metadata": {},
     "output_type": "display_data"
    }
   ],
   "source": [
    "y_train = eval_rf_train['Churn']\n",
    "y_train_pred = [v[1] for v in eval_rf_train['probability']]\n",
    "y_test = eval_rf_test['Churn']\n",
    "y_test_pred = [v[1] for v in eval_rf_test['probability']]\n",
    "\n",
    "plot_roc_curve('Random Forest', y_train, y_train_pred, y_test, y_test_pred)"
   ]
  },
  {
   "cell_type": "markdown",
   "metadata": {},
   "source": [
    "#### How much improvement of model performance is gained from fine-tuning of parameters?"
   ]
  },
  {
   "cell_type": "code",
   "execution_count": 78,
   "metadata": {},
   "outputs": [
    {
     "name": "stdout",
     "output_type": "stream",
     "text": [
      "Fine tuning model parameters improved AUC by 0.0018863971116211964\n"
     ]
    }
   ],
   "source": [
    "untuned_auc = evaluator.evaluate(rf_pred_test_org)\n",
    "tuned_auc = evaluator.evaluate(rf_pred_test_best)\n",
    "print('Fine tuning model parameters improved AUC by {}'.format(tuned_auc-untuned_auc))"
   ]
  },
  {
   "cell_type": "code",
   "execution_count": 96,
   "metadata": {},
   "outputs": [
    {
     "name": "stdout",
     "output_type": "stream",
     "text": [
      "Fine tuning model parameters improved area under precision-recall curve by 0.008083562370346242\n"
     ]
    }
   ],
   "source": [
    "evaluator.setMetricName(\"areaUnderPR\")\n",
    "untuned_pr = evaluator.evaluate(rf_pred_test_org)\n",
    "tuned_pr = evaluator.evaluate(rf_pred_test_best)\n",
    "print('Fine tuning model parameters improved area under precision-recall curve by {}'.format(tuned_pr-untuned_pr))"
   ]
  },
  {
   "cell_type": "markdown",
   "metadata": {},
   "source": [
    "### 3.3 Understand the feature importances "
   ]
  },
  {
   "cell_type": "code",
   "execution_count": 112,
   "metadata": {},
   "outputs": [
    {
     "data": {
      "text/plain": [
       "<matplotlib.axes._subplots.AxesSubplot at 0x1a1a39dcf8>"
      ]
     },
     "execution_count": 112,
     "metadata": {},
     "output_type": "execute_result"
    },
    {
     "data": {
      "image/png": "[encoded data removed]",
      "text/plain": [
       "<Figure size 720x432 with 1 Axes>"
      ]
     },
     "metadata": {},
     "output_type": "display_data"
    }
   ],
   "source": [
    "feature_importance = pd.Series(rf_bestModel.featureImportances.toArray(), index=pd.Series(features)).sort_values()\n",
    "fig = plt.figure(figsize = (10,6))\n",
    "feature_importance.plot.barh()\n",
    "#plt.xticks"
   ]
  },
  {
   "cell_type": "markdown",
   "metadata": {},
   "source": [
    "* Play features dominate the top 10 most important features. This is consistent with what is shown in the EDA- these is a clear correlation between play and download/search activities. The more user download or search, the more they play, and vice versa."
   ]
  },
  {
   "cell_type": "markdown",
   "metadata": {},
   "source": [
    "### 4.1 Fit Gradient Boosting Tree model"
   ]
  },
  {
   "cell_type": "code",
   "execution_count": 10,
   "metadata": {},
   "outputs": [
    {
     "data": {
      "text/plain": [
       "0.9395156929989442"
      ]
     },
     "execution_count": 10,
     "metadata": {},
     "output_type": "execute_result"
    }
   ],
   "source": [
    "# Create an initial GBT model.\n",
    "gbt = GBTClassifier(labelCol=\"Churn\", featuresCol=\"features\")\n",
    "\n",
    "# Train model with Training Data\n",
    "gbtModel = gbt.fit(train)\n",
    "\n",
    "# Predict test data with default parameters\n",
    "gbt_pred_test_org = gbtModel.transform(test)\n",
    "\n",
    "#evaluate the untuned model\n",
    "evaluator = BinaryClassificationEvaluator(rawPredictionCol=\"rawPrediction\",labelCol='Churn')\n",
    "evaluator.evaluate(gbt_pred_test_org)"
   ]
  },
  {
   "cell_type": "code",
   "execution_count": 11,
   "metadata": {},
   "outputs": [
    {
     "name": "stdout",
     "output_type": "stream",
     "text": [
      "cacheNodeIds: If false, the algorithm will pass trees to executors to match instances with nodes. If true, the algorithm will cache node IDs for each instance. Caching can speed up training of deeper trees. Users can set how often should the cache be checkpointed or disable it by setting checkpointInterval. (default: False)\n",
      "checkpointInterval: set checkpoint interval (>= 1) or disable checkpoint (-1). E.g. 10 means that the cache will get checkpointed every 10 iterations. Note: this setting will be ignored if the checkpoint directory is not set in the SparkContext. (default: 10)\n",
      "featuresCol: features column name. (default: features, current: features)\n",
      "labelCol: label column name. (default: label, current: Churn)\n",
      "lossType: Loss function which GBT tries to minimize (case-insensitive). Supported options: logistic (default: logistic)\n",
      "maxBins: Max number of bins for discretizing continuous features.  Must be >=2 and >= number of categories for any categorical feature. (default: 32)\n",
      "maxDepth: Maximum depth of the tree. (>= 0) E.g., depth 0 means 1 leaf node; depth 1 means 1 internal node + 2 leaf nodes. (default: 5)\n",
      "maxIter: max number of iterations (>= 0). (default: 20)\n",
      "maxMemoryInMB: Maximum memory in MB allocated to histogram aggregation. If too small, then 1 node will be split per iteration, and its aggregates may exceed this size. (default: 256)\n",
      "minInfoGain: Minimum information gain for a split to be considered at a tree node. (default: 0.0)\n",
      "minInstancesPerNode: Minimum number of instances each child must have after split. If a split causes the left or right child to have fewer than minInstancesPerNode, the split will be discarded as invalid. Should be >= 1. (default: 1)\n",
      "predictionCol: prediction column name. (default: prediction)\n",
      "seed: random seed. (default: 7153572858854196138)\n",
      "stepSize: Step size (a.k.a. learning rate) in interval (0, 1] for shrinking the contribution of each estimator. (default: 0.1)\n",
      "subsamplingRate: Fraction of the training data used for learning each decision tree, in range (0, 1]. (default: 1.0)\n"
     ]
    }
   ],
   "source": [
    "print(gbt.explainParams())"
   ]
  },
  {
   "cell_type": "markdown",
   "metadata": {},
   "source": [
    "### 4.2 Fine Tuning GBT Parameters"
   ]
  },
  {
   "cell_type": "code",
   "execution_count": 12,
   "metadata": {},
   "outputs": [],
   "source": [
    "paramGrid = ParamGridBuilder()\\\n",
    "  .addGrid(gbt.maxDepth, [5,10])\\\n",
    "  .addGrid(gbt.maxIter, [10, 20])\\\n",
    "  .addGrid(gbt.stepSize, [0.05, 0.1])\\\n",
    "  .build()\n",
    "# Define an evaluation metric.  This tells CrossValidator how well we are doing by comparing the true labels with predictions.\n",
    "evaluator = BinaryClassificationEvaluator(metricName=\"areaUnderROC\", labelCol=gbt.getLabelCol())\n",
    "# intitiate the cross validator\n",
    "cv = CrossValidator(estimator=gbt, evaluator=evaluator, estimatorParamMaps=paramGrid)"
   ]
  },
  {
   "cell_type": "code",
   "execution_count": 14,
   "metadata": {},
   "outputs": [
    {
     "name": "stdout",
     "output_type": "stream",
     "text": [
      "training GBT took 192.2583029270172\n"
     ]
    }
   ],
   "source": [
    "#train gbt model with cv\n",
    "import time\n",
    "start_time =time.time()\n",
    "gbt_cvModel=cv.fit(train)\n",
    "print('training GBT took {0}'.format(time.time() - start_time))"
   ]
  },
  {
   "cell_type": "code",
   "execution_count": 15,
   "metadata": {},
   "outputs": [
    {
     "name": "stdout",
     "output_type": "stream",
     "text": [
      "The best set of parameters of GBT model is: \n",
      "{Param(parent='GBTClassifier_4d2e8312c5ec8267ffeb', name='maxDepth', doc='Maximum depth of the tree. (>= 0) E.g., depth 0 means 1 leaf node; depth 1 means 1 internal node + 2 leaf nodes.'): 5, Param(parent='GBTClassifier_4d2e8312c5ec8267ffeb', name='maxIter', doc='max number of iterations (>= 0).'): 20, Param(parent='GBTClassifier_4d2e8312c5ec8267ffeb', name='stepSize', doc='Step size (a.k.a. learning rate) in interval (0, 1] for shrinking the contribution of each estimator.'): 0.1}\n"
     ]
    }
   ],
   "source": [
    "print('The best set of parameters of GBT model is: \\n' + str(gbt_cvModel.getEstimatorParamMaps()[np.argmax(gbt_cvModel.avgMetrics)]))"
   ]
  },
  {
   "cell_type": "code",
   "execution_count": 25,
   "metadata": {},
   "outputs": [],
   "source": [
    "gbt_bestModel = gbt_cvModel.bestModel\n",
    "# use the best set of params to predict on train and test\n",
    "gbt_pred_train_best = gbt_cvModel.transform(train)\n",
    "gbt_pred_test_best = gbt_cvModel.transform(test)\n",
    "\n",
    "eval_gbt_train = gbt_pred_train_best.select(\"probability\", \"Churn\").toPandas()\n",
    "eval_gbt_test = gbt_pred_test_best.select(\"probability\", \"Churn\").toPandas()"
   ]
  },
  {
   "cell_type": "code",
   "execution_count": 28,
   "metadata": {},
   "outputs": [
    {
     "data": {
      "image/png": "[encoded data removed]",
      "text/plain": [
       "<Figure size 432x288 with 1 Axes>"
      ]
     },
     "metadata": {},
     "output_type": "display_data"
    }
   ],
   "source": [
    "y_train = eval_gbt_train['Churn']\n",
    "y_train_pred = [v[1] for v in eval_gbt_train['probability']]\n",
    "y_test = eval_gbt_test['Churn']\n",
    "y_test_pred = [v[1] for v in eval_gbt_test['probability']]\n",
    "\n",
    "plot_roc_curve('Gradient Boosting Tree', y_train, y_train_pred, y_test, y_test_pred)"
   ]
  },
  {
   "cell_type": "markdown",
   "metadata": {},
   "source": [
    "### 4.3 Feature Importance from GBT"
   ]
  },
  {
   "cell_type": "code",
   "execution_count": 29,
   "metadata": {},
   "outputs": [
    {
     "data": {
      "text/plain": [
       "<matplotlib.axes._subplots.AxesSubplot at 0x1a194d3eb8>"
      ]
     },
     "execution_count": 29,
     "metadata": {},
     "output_type": "execute_result"
    },
    {
     "data": {
      "image/png": "[encoded data removed]",
      "text/plain": [
       "<Figure size 720x432 with 1 Axes>"
      ]
     },
     "metadata": {},
     "output_type": "display_data"
    }
   ],
   "source": [
    "feature_importance = pd.Series(gbt_bestModel.featureImportances.toArray(), index=pd.Series(features)).sort_values()\n",
    "fig = plt.figure(figsize = (10,6))\n",
    "feature_importance.plot.barh()\n",
    "#plt.xticks"
   ]
  },
  {
   "cell_type": "markdown",
   "metadata": {},
   "source": [
    "* most of the most important features are still play related similar to the results from RF, download/search in the past 30 days make into the top 10 features in GBT model"
   ]
  }
 ],
 "metadata": {
  "kernelspec": {
   "display_name": "Python 3",
   "language": "python",
   "name": "python3"
  },
  "language_info": {
   "codemirror_mode": {
    "name": "ipython",
    "version": 3
   },
   "file_extension": ".py",
   "mimetype": "text/x-python",
   "name": "python",
   "nbconvert_exporter": "python",
   "pygments_lexer": "ipython3",
   "version": "3.6.5"
  }
 },
 "nbformat": 4,
 "nbformat_minor": 2
}
